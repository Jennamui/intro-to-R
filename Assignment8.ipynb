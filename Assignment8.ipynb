{
  "nbformat": 4,
  "nbformat_minor": 0,
  "metadata": {
    "colab": {
      "provenance": [],
      "authorship_tag": "ABX9TyNIUPOGZC8o5x92MU5WteUl",
      "include_colab_link": true
    },
    "kernelspec": {
      "name": "ir",
      "display_name": "R"
    },
    "language_info": {
      "name": "R"
    }
  },
  "cells": [
    {
      "cell_type": "markdown",
      "metadata": {
        "id": "view-in-github",
        "colab_type": "text"
      },
      "source": [
        "<a href=\"https://colab.research.google.com/github/Jennamui/intro-to-R/blob/main/Assignment8.ipynb\" target=\"_parent\"><img src=\"https://colab.research.google.com/assets/colab-badge.svg\" alt=\"Open In Colab\"/></a>"
      ]
    },
    {
      "cell_type": "code",
      "execution_count": 1,
      "metadata": {
        "colab": {
          "base_uri": "https://localhost:8080/",
          "height": 481
        },
        "id": "DfXp29CtPvSY",
        "outputId": "fff3332f-37a0-4a3e-ab1d-a4e195384a12"
      },
      "outputs": [
        {
          "output_type": "display_data",
          "data": {
            "text/plain": [
              "R version 4.2.1 (2022-06-23)\n",
              "Platform: x86_64-pc-linux-gnu (64-bit)\n",
              "Running under: Ubuntu 18.04.6 LTS\n",
              "\n",
              "Matrix products: default\n",
              "BLAS:   /usr/lib/x86_64-linux-gnu/openblas/libblas.so.3\n",
              "LAPACK: /usr/lib/x86_64-linux-gnu/libopenblasp-r0.2.20.so\n",
              "\n",
              "locale:\n",
              " [1] LC_CTYPE=en_US.UTF-8       LC_NUMERIC=C              \n",
              " [3] LC_TIME=en_US.UTF-8        LC_COLLATE=en_US.UTF-8    \n",
              " [5] LC_MONETARY=en_US.UTF-8    LC_MESSAGES=en_US.UTF-8   \n",
              " [7] LC_PAPER=en_US.UTF-8       LC_NAME=C                 \n",
              " [9] LC_ADDRESS=C               LC_TELEPHONE=C            \n",
              "[11] LC_MEASUREMENT=en_US.UTF-8 LC_IDENTIFICATION=C       \n",
              "\n",
              "attached base packages:\n",
              "[1] stats     graphics  grDevices utils     datasets  methods   base     \n",
              "\n",
              "loaded via a namespace (and not attached):\n",
              " [1] fansi_1.0.3     crayon_1.5.2    digest_0.6.29   utf8_1.2.2     \n",
              " [5] IRdisplay_1.1   repr_1.1.4      lifecycle_1.0.3 jsonlite_1.8.2 \n",
              " [9] evaluate_0.17   pillar_1.8.1    rlang_1.0.6     cli_3.4.1      \n",
              "[13] uuid_1.1-0      vctrs_0.4.2     IRkernel_1.3    tools_4.2.1    \n",
              "[17] glue_1.6.2      fastmap_1.1.0   compiler_4.2.1  base64enc_0.1-3\n",
              "[21] pbdZMQ_0.3-7    htmltools_0.5.3"
            ]
          },
          "metadata": {}
        }
      ],
      "source": [
        "sessionInfo()"
      ]
    },
    {
      "cell_type": "code",
      "source": [
        "getwd()"
      ],
      "metadata": {
        "colab": {
          "base_uri": "https://localhost:8080/",
          "height": 34
        },
        "id": "Z8EhZ2NlQJ_X",
        "outputId": "f8fbff01-d4d7-479e-b336-d1a2a9c050b7"
      },
      "execution_count": 2,
      "outputs": [
        {
          "output_type": "display_data",
          "data": {
            "text/html": [
              "'/content'"
            ],
            "text/markdown": "'/content'",
            "text/latex": "'/content'",
            "text/plain": [
              "[1] \"/content\""
            ]
          },
          "metadata": {}
        }
      ]
    },
    {
      "cell_type": "markdown",
      "source": [
        "#Variable Assignment"
      ],
      "metadata": {
        "id": "AIIoH6uoRFpC"
      }
    },
    {
      "cell_type": "markdown",
      "source": [
        "Create new object x and assign it the value 12"
      ],
      "metadata": {
        "id": "x74TV-KcQiCy"
      }
    },
    {
      "cell_type": "code",
      "source": [
        "x <- 12"
      ],
      "metadata": {
        "id": "2KcA9rXGQfHn"
      },
      "execution_count": 3,
      "outputs": []
    },
    {
      "cell_type": "markdown",
      "source": [
        "Create a vector of integers from 0 to 9"
      ],
      "metadata": {
        "id": "dnGNbIslQgBn"
      }
    },
    {
      "cell_type": "code",
      "source": [
        "some_numbers <- c(0,1,2,3,4,5,6,7,8,9)\n",
        "some_numbers <- c(0:9)"
      ],
      "metadata": {
        "id": "jDIhNCGtQwNQ"
      },
      "execution_count": 5,
      "outputs": []
    },
    {
      "cell_type": "code",
      "source": [
        "some_numbers"
      ],
      "metadata": {
        "colab": {
          "base_uri": "https://localhost:8080/",
          "height": 34
        },
        "id": "vvb4qqzgQ4Vk",
        "outputId": "6df8a07f-a725-48cf-9743-92ab5ec6fae8"
      },
      "execution_count": 6,
      "outputs": [
        {
          "output_type": "display_data",
          "data": {
            "text/html": [
              "<style>\n",
              ".list-inline {list-style: none; margin:0; padding: 0}\n",
              ".list-inline>li {display: inline-block}\n",
              ".list-inline>li:not(:last-child)::after {content: \"\\00b7\"; padding: 0 .5ex}\n",
              "</style>\n",
              "<ol class=list-inline><li>0</li><li>1</li><li>2</li><li>3</li><li>4</li><li>5</li><li>6</li><li>7</li><li>8</li><li>9</li></ol>\n"
            ],
            "text/markdown": "1. 0\n2. 1\n3. 2\n4. 3\n5. 4\n6. 5\n7. 6\n8. 7\n9. 8\n10. 9\n\n\n",
            "text/latex": "\\begin{enumerate*}\n\\item 0\n\\item 1\n\\item 2\n\\item 3\n\\item 4\n\\item 5\n\\item 6\n\\item 7\n\\item 8\n\\item 9\n\\end{enumerate*}\n",
            "text/plain": [
              " [1] 0 1 2 3 4 5 6 7 8 9"
            ]
          },
          "metadata": {}
        }
      ]
    },
    {
      "cell_type": "markdown",
      "source": [
        "#R Functions"
      ],
      "metadata": {
        "id": "OJi40huFRCVV"
      }
    },
    {
      "cell_type": "code",
      "source": [
        "mean(some_numbers)"
      ],
      "metadata": {
        "colab": {
          "base_uri": "https://localhost:8080/",
          "height": 34
        },
        "id": "Am-d9NQ9RIhK",
        "outputId": "c181b08a-83e7-48d0-d012-5b8506d4d89b"
      },
      "execution_count": 7,
      "outputs": [
        {
          "output_type": "display_data",
          "data": {
            "text/html": [
              "4.5"
            ],
            "text/markdown": "4.5",
            "text/latex": "4.5",
            "text/plain": [
              "[1] 4.5"
            ]
          },
          "metadata": {}
        }
      ]
    },
    {
      "cell_type": "markdown",
      "source": [
        "R Packages"
      ],
      "metadata": {
        "id": "YNyISRKcROag"
      }
    },
    {
      "cell_type": "code",
      "source": [
        "install.packages('tidyverse')"
      ],
      "metadata": {
        "colab": {
          "base_uri": "https://localhost:8080/"
        },
        "id": "bnAhQdkoRRIS",
        "outputId": "e3317a46-0f5a-452d-aea7-dfb73724cef7"
      },
      "execution_count": 9,
      "outputs": [
        {
          "output_type": "stream",
          "name": "stderr",
          "text": [
            "Installing package into ‘/usr/local/lib/R/site-library’\n",
            "(as ‘lib’ is unspecified)\n",
            "\n"
          ]
        }
      ]
    },
    {
      "cell_type": "code",
      "source": [
        "library(tidyverse)"
      ],
      "metadata": {
        "colab": {
          "base_uri": "https://localhost:8080/"
        },
        "id": "LGQ9-WIFReWt",
        "outputId": "0bfc6be0-ca82-49bd-e925-3bebe205cf3a"
      },
      "execution_count": 10,
      "outputs": [
        {
          "output_type": "stream",
          "name": "stderr",
          "text": [
            "Warning message in system(\"timedatectl\", intern = TRUE):\n",
            "“running command 'timedatectl' had status 1”\n",
            "── \u001b[1mAttaching packages\u001b[22m ─────────────────────────────────────── tidyverse 1.3.2 ──\n",
            "\u001b[32m✔\u001b[39m \u001b[34mggplot2\u001b[39m 3.3.6      \u001b[32m✔\u001b[39m \u001b[34mpurrr  \u001b[39m 0.3.5 \n",
            "\u001b[32m✔\u001b[39m \u001b[34mtibble \u001b[39m 3.1.7      \u001b[32m✔\u001b[39m \u001b[34mdplyr  \u001b[39m 1.0.10\n",
            "\u001b[32m✔\u001b[39m \u001b[34mtidyr  \u001b[39m 1.2.1      \u001b[32m✔\u001b[39m \u001b[34mstringr\u001b[39m 1.4.1 \n",
            "\u001b[32m✔\u001b[39m \u001b[34mreadr  \u001b[39m 2.1.3      \u001b[32m✔\u001b[39m \u001b[34mforcats\u001b[39m 0.5.2 \n",
            "── \u001b[1mConflicts\u001b[22m ────────────────────────────────────────── tidyverse_conflicts() ──\n",
            "\u001b[31m✖\u001b[39m \u001b[34mdplyr\u001b[39m::\u001b[32mfilter()\u001b[39m masks \u001b[34mstats\u001b[39m::filter()\n",
            "\u001b[31m✖\u001b[39m \u001b[34mdplyr\u001b[39m::\u001b[32mlag()\u001b[39m    masks \u001b[34mstats\u001b[39m::lag()\n"
          ]
        }
      ]
    },
    {
      "cell_type": "markdown",
      "source": [
        "#Loading Data\n",
        "\n",
        "read.csv() for csv files\n",
        "\n",
        "read.tsv() for tsv files\n",
        "\n",
        "read.xlsx() for excel files (from the readxl package)\n",
        "\n",
        "read.dta13() for dat files (from the read.stata13 package)\n",
        "\n",
        "read.table() for large datasets"
      ],
      "metadata": {
        "id": "VBlZSAFsRrhQ"
      }
    },
    {
      "cell_type": "code",
      "source": [
        "paygap <- read.csv('/content/gender-paygap-2019.csv',header = TRUE)"
      ],
      "metadata": {
        "id": "-E4CvsRYVe4R"
      },
      "execution_count": 11,
      "outputs": []
    },
    {
      "cell_type": "markdown",
      "source": [
        "#Viewing Data"
      ],
      "metadata": {
        "id": "Xi8XqhN6Vr-b"
      }
    },
    {
      "cell_type": "code",
      "source": [
        "head(paygap, n = 5)"
      ],
      "metadata": {
        "colab": {
          "base_uri": "https://localhost:8080/",
          "height": 674
        },
        "id": "hpiI5bITVtMj",
        "outputId": "206afa44-5aff-41f4-e46c-840425b879bf"
      },
      "execution_count": 12,
      "outputs": [
        {
          "output_type": "display_data",
          "data": {
            "text/html": [
              "<table class=\"dataframe\">\n",
              "<caption>A data.frame: 5 × 27</caption>\n",
              "<thead>\n",
              "\t<tr><th></th><th scope=col>EmployerName</th><th scope=col>EmployerId</th><th scope=col>Address</th><th scope=col>PostCode</th><th scope=col>CompanyNumber</th><th scope=col>SicCodes</th><th scope=col>DiffMeanHourlyPercent</th><th scope=col>DiffMedianHourlyPercent</th><th scope=col>DiffMeanBonusPercent</th><th scope=col>DiffMedianBonusPercent</th><th scope=col>⋯</th><th scope=col>FemaleUpperMiddleQuartile</th><th scope=col>MaleTopQuartile</th><th scope=col>FemaleTopQuartile</th><th scope=col>CompanyLinkToGPGInfo</th><th scope=col>ResponsiblePerson</th><th scope=col>EmployerSize</th><th scope=col>CurrentName</th><th scope=col>SubmittedAfterTheDeadline</th><th scope=col>DueDate</th><th scope=col>DateSubmitted</th></tr>\n",
              "\t<tr><th></th><th scope=col>&lt;chr&gt;</th><th scope=col>&lt;int&gt;</th><th scope=col>&lt;chr&gt;</th><th scope=col>&lt;chr&gt;</th><th scope=col>&lt;chr&gt;</th><th scope=col>&lt;chr&gt;</th><th scope=col>&lt;dbl&gt;</th><th scope=col>&lt;dbl&gt;</th><th scope=col>&lt;dbl&gt;</th><th scope=col>&lt;dbl&gt;</th><th scope=col>⋯</th><th scope=col>&lt;dbl&gt;</th><th scope=col>&lt;dbl&gt;</th><th scope=col>&lt;dbl&gt;</th><th scope=col>&lt;chr&gt;</th><th scope=col>&lt;chr&gt;</th><th scope=col>&lt;chr&gt;</th><th scope=col>&lt;chr&gt;</th><th scope=col>&lt;chr&gt;</th><th scope=col>&lt;chr&gt;</th><th scope=col>&lt;chr&gt;</th></tr>\n",
              "</thead>\n",
              "<tbody>\n",
              "\t<tr><th scope=row>1</th><td>'PRIFYSGOL ABERYSTWYTH' AND 'ABERYSTWYTH UNIVERSITY'</td><td>19070</td><td>Aberystwyth University, Penglais, Ceredigion, SY23 3FL                            </td><td>SY23 3FL</td><td>RC000641</td><td>                     </td><td>11.5</td><td>10.3</td><td>    NA</td><td>    NA</td><td>⋯</td><td>60.0</td><td>62.0</td><td>38.0</td><td>https://www.aber.ac.uk/en/equality/genderpaygapreporting2019/ \n",
              "\n",
              "https://www.aber.ac.uk/cy/equality/gender-pay-gap/</td><td>Elizabeth Treasure (Vice-Chancellor)          </td><td>1000 to 4999</td><td>'PRIFYSGOL ABERYSTWYTH' AND 'ABERYSTWYTH UNIVERSITY'</td><td>False</td><td>2020/04/05 00:00:00</td><td>2020/04/03 14:47:45</td></tr>\n",
              "\t<tr><th scope=row>2</th><td>10 TRINITY SQUARE HOTEL LIMITED                     </td><td>19455</td><td>5 Market Yard Mews, 194-204 Bermondsey Street, London, United Kingdom, SE1 3TQ    </td><td>SE1 3TQ </td><td>08064685</td><td>82990                </td><td> 8.7</td><td>10.3</td><td>  29.6</td><td>  54.5</td><td>⋯</td><td>21.1</td><td>66.7</td><td>33.3</td><td>                                                                                                                    </td><td>Linda Stigter (Director of People and Culture)</td><td>250 to 499  </td><td>10 TRINITY SQUARE HOTEL LIMITED                     </td><td>False</td><td>2020/04/05 00:00:00</td><td>2020/03/19 15:51:20</td></tr>\n",
              "\t<tr><th scope=row>3</th><td>1LIFE MANAGEMENT SOLUTIONS LIMITED                  </td><td>  687</td><td>Ldh House St Ives Business Park, Parsons Green, St. Ives, Cambridgeshire, PE27 4AA</td><td>PE27 4AA</td><td>02566586</td><td>93110,\n",
              "93130,\n",
              "93290</td><td>11.0</td><td>-0.5</td><td>  81.5</td><td>  94.2</td><td>⋯</td><td>57.7</td><td>44.2</td><td>55.8</td><td>https://www.1life.co.uk/gender-pay-gap                                                                              </td><td>Mark Braithwaite (Managing Director)          </td><td>250 to 499  </td><td>1LIFE MANAGEMENT SOLUTIONS LIMITED                  </td><td>False</td><td>2020/04/05 00:00:00</td><td>2020/03/10 17:03:17</td></tr>\n",
              "\t<tr><th scope=row>4</th><td>1ST CHOICE STAFF RECRUITMENT LIMITED                </td><td>18136</td><td>1ST CHOICE RECRUITMENT, 8 St. Loyes Street, Bedford, MK40 1EP                     </td><td>MK40 1EP</td><td>07972006</td><td>78109                </td><td>-2.3</td><td> 0.0</td><td>-114.8</td><td>-249.3</td><td>⋯</td><td>37.1</td><td>50.0</td><td>50.0</td><td>https://www.1stchoice.net/gender-pay-gap-report-2019/                                                               </td><td>Gill Knight (MD)                              </td><td>250 to 499  </td><td>1ST CHOICE STAFF RECRUITMENT LIMITED                </td><td>False</td><td>2020/04/05 00:00:00</td><td>2020/01/24 09:37:01</td></tr>\n",
              "\t<tr><th scope=row>5</th><td>1ST HOME CARE LTD.                                  </td><td>17484</td><td>Real Life Options, 35 East Port, Dunfermline, Fife, Scotland, KY12 7LG            </td><td>KY12 7LG</td><td>SC272838</td><td>86900,\n",
              "88100        </td><td>-2.0</td><td> 0.5</td><td>    NA</td><td>    NA</td><td>⋯</td><td>91.0</td><td> 9.0</td><td>91.0</td><td>https://reallifeoptions.org/                                                                                        </td><td>Ian Hardcastle (Chief Operating Officer)      </td><td>250 to 499  </td><td>1ST HOME CARE LTD.                                  </td><td>False</td><td>2020/04/05 00:00:00</td><td>2020/03/12 08:21:06</td></tr>\n",
              "</tbody>\n",
              "</table>\n"
            ],
            "text/markdown": "\nA data.frame: 5 × 27\n\n| <!--/--> | EmployerName &lt;chr&gt; | EmployerId &lt;int&gt; | Address &lt;chr&gt; | PostCode &lt;chr&gt; | CompanyNumber &lt;chr&gt; | SicCodes &lt;chr&gt; | DiffMeanHourlyPercent &lt;dbl&gt; | DiffMedianHourlyPercent &lt;dbl&gt; | DiffMeanBonusPercent &lt;dbl&gt; | DiffMedianBonusPercent &lt;dbl&gt; | ⋯ ⋯ | FemaleUpperMiddleQuartile &lt;dbl&gt; | MaleTopQuartile &lt;dbl&gt; | FemaleTopQuartile &lt;dbl&gt; | CompanyLinkToGPGInfo &lt;chr&gt; | ResponsiblePerson &lt;chr&gt; | EmployerSize &lt;chr&gt; | CurrentName &lt;chr&gt; | SubmittedAfterTheDeadline &lt;chr&gt; | DueDate &lt;chr&gt; | DateSubmitted &lt;chr&gt; |\n|---|---|---|---|---|---|---|---|---|---|---|---|---|---|---|---|---|---|---|---|---|---|\n| 1 | 'PRIFYSGOL ABERYSTWYTH' AND 'ABERYSTWYTH UNIVERSITY' | 19070 | Aberystwyth University, Penglais, Ceredigion, SY23 3FL                             | SY23 3FL | RC000641 | <!----> | 11.5 | 10.3 |     NA |     NA | ⋯ | 60.0 | 62.0 | 38.0 | https://www.aber.ac.uk/en/equality/genderpaygapreporting2019/ \n\nhttps://www.aber.ac.uk/cy/equality/gender-pay-gap/ | Elizabeth Treasure (Vice-Chancellor)           | 1000 to 4999 | 'PRIFYSGOL ABERYSTWYTH' AND 'ABERYSTWYTH UNIVERSITY' | False | 2020/04/05 00:00:00 | 2020/04/03 14:47:45 |\n| 2 | 10 TRINITY SQUARE HOTEL LIMITED                      | 19455 | 5 Market Yard Mews, 194-204 Bermondsey Street, London, United Kingdom, SE1 3TQ     | SE1 3TQ  | 08064685 | 82990                 |  8.7 | 10.3 |   29.6 |   54.5 | ⋯ | 21.1 | 66.7 | 33.3 | <!----> | Linda Stigter (Director of People and Culture) | 250 to 499   | 10 TRINITY SQUARE HOTEL LIMITED                      | False | 2020/04/05 00:00:00 | 2020/03/19 15:51:20 |\n| 3 | 1LIFE MANAGEMENT SOLUTIONS LIMITED                   |   687 | Ldh House St Ives Business Park, Parsons Green, St. Ives, Cambridgeshire, PE27 4AA | PE27 4AA | 02566586 | 93110,\n93130,\n93290 | 11.0 | -0.5 |   81.5 |   94.2 | ⋯ | 57.7 | 44.2 | 55.8 | https://www.1life.co.uk/gender-pay-gap                                                                               | Mark Braithwaite (Managing Director)           | 250 to 499   | 1LIFE MANAGEMENT SOLUTIONS LIMITED                   | False | 2020/04/05 00:00:00 | 2020/03/10 17:03:17 |\n| 4 | 1ST CHOICE STAFF RECRUITMENT LIMITED                 | 18136 | 1ST CHOICE RECRUITMENT, 8 St. Loyes Street, Bedford, MK40 1EP                      | MK40 1EP | 07972006 | 78109                 | -2.3 |  0.0 | -114.8 | -249.3 | ⋯ | 37.1 | 50.0 | 50.0 | https://www.1stchoice.net/gender-pay-gap-report-2019/                                                                | Gill Knight (MD)                               | 250 to 499   | 1ST CHOICE STAFF RECRUITMENT LIMITED                 | False | 2020/04/05 00:00:00 | 2020/01/24 09:37:01 |\n| 5 | 1ST HOME CARE LTD.                                   | 17484 | Real Life Options, 35 East Port, Dunfermline, Fife, Scotland, KY12 7LG             | KY12 7LG | SC272838 | 86900,\n88100         | -2.0 |  0.5 |     NA |     NA | ⋯ | 91.0 |  9.0 | 91.0 | https://reallifeoptions.org/                                                                                         | Ian Hardcastle (Chief Operating Officer)       | 250 to 499   | 1ST HOME CARE LTD.                                   | False | 2020/04/05 00:00:00 | 2020/03/12 08:21:06 |\n\n",
            "text/latex": "A data.frame: 5 × 27\n\\begin{tabular}{r|lllllllllllllllllllll}\n  & EmployerName & EmployerId & Address & PostCode & CompanyNumber & SicCodes & DiffMeanHourlyPercent & DiffMedianHourlyPercent & DiffMeanBonusPercent & DiffMedianBonusPercent & ⋯ & FemaleUpperMiddleQuartile & MaleTopQuartile & FemaleTopQuartile & CompanyLinkToGPGInfo & ResponsiblePerson & EmployerSize & CurrentName & SubmittedAfterTheDeadline & DueDate & DateSubmitted\\\\\n  & <chr> & <int> & <chr> & <chr> & <chr> & <chr> & <dbl> & <dbl> & <dbl> & <dbl> & ⋯ & <dbl> & <dbl> & <dbl> & <chr> & <chr> & <chr> & <chr> & <chr> & <chr> & <chr>\\\\\n\\hline\n\t1 & 'PRIFYSGOL ABERYSTWYTH' AND 'ABERYSTWYTH UNIVERSITY' & 19070 & Aberystwyth University, Penglais, Ceredigion, SY23 3FL                             & SY23 3FL & RC000641 &                       & 11.5 & 10.3 &     NA &     NA & ⋯ & 60.0 & 62.0 & 38.0 & https://www.aber.ac.uk/en/equality/genderpaygapreporting2019/ \n\nhttps://www.aber.ac.uk/cy/equality/gender-pay-gap/ & Elizabeth Treasure (Vice-Chancellor)           & 1000 to 4999 & 'PRIFYSGOL ABERYSTWYTH' AND 'ABERYSTWYTH UNIVERSITY' & False & 2020/04/05 00:00:00 & 2020/04/03 14:47:45\\\\\n\t2 & 10 TRINITY SQUARE HOTEL LIMITED                      & 19455 & 5 Market Yard Mews, 194-204 Bermondsey Street, London, United Kingdom, SE1 3TQ     & SE1 3TQ  & 08064685 & 82990                 &  8.7 & 10.3 &   29.6 &   54.5 & ⋯ & 21.1 & 66.7 & 33.3 &                                                                                                                      & Linda Stigter (Director of People and Culture) & 250 to 499   & 10 TRINITY SQUARE HOTEL LIMITED                      & False & 2020/04/05 00:00:00 & 2020/03/19 15:51:20\\\\\n\t3 & 1LIFE MANAGEMENT SOLUTIONS LIMITED                   &   687 & Ldh House St Ives Business Park, Parsons Green, St. Ives, Cambridgeshire, PE27 4AA & PE27 4AA & 02566586 & 93110,\n93130,\n93290 & 11.0 & -0.5 &   81.5 &   94.2 & ⋯ & 57.7 & 44.2 & 55.8 & https://www.1life.co.uk/gender-pay-gap                                                                               & Mark Braithwaite (Managing Director)           & 250 to 499   & 1LIFE MANAGEMENT SOLUTIONS LIMITED                   & False & 2020/04/05 00:00:00 & 2020/03/10 17:03:17\\\\\n\t4 & 1ST CHOICE STAFF RECRUITMENT LIMITED                 & 18136 & 1ST CHOICE RECRUITMENT, 8 St. Loyes Street, Bedford, MK40 1EP                      & MK40 1EP & 07972006 & 78109                 & -2.3 &  0.0 & -114.8 & -249.3 & ⋯ & 37.1 & 50.0 & 50.0 & https://www.1stchoice.net/gender-pay-gap-report-2019/                                                                & Gill Knight (MD)                               & 250 to 499   & 1ST CHOICE STAFF RECRUITMENT LIMITED                 & False & 2020/04/05 00:00:00 & 2020/01/24 09:37:01\\\\\n\t5 & 1ST HOME CARE LTD.                                   & 17484 & Real Life Options, 35 East Port, Dunfermline, Fife, Scotland, KY12 7LG             & KY12 7LG & SC272838 & 86900,\n88100         & -2.0 &  0.5 &     NA &     NA & ⋯ & 91.0 &  9.0 & 91.0 & https://reallifeoptions.org/                                                                                         & Ian Hardcastle (Chief Operating Officer)       & 250 to 499   & 1ST HOME CARE LTD.                                   & False & 2020/04/05 00:00:00 & 2020/03/12 08:21:06\\\\\n\\end{tabular}\n",
            "text/plain": [
              "  EmployerName                                         EmployerId\n",
              "1 'PRIFYSGOL ABERYSTWYTH' AND 'ABERYSTWYTH UNIVERSITY' 19070     \n",
              "2 10 TRINITY SQUARE HOTEL LIMITED                      19455     \n",
              "3 1LIFE MANAGEMENT SOLUTIONS LIMITED                     687     \n",
              "4 1ST CHOICE STAFF RECRUITMENT LIMITED                 18136     \n",
              "5 1ST HOME CARE LTD.                                   17484     \n",
              "  Address                                                                           \n",
              "1 Aberystwyth University, Penglais, Ceredigion, SY23 3FL                            \n",
              "2 5 Market Yard Mews, 194-204 Bermondsey Street, London, United Kingdom, SE1 3TQ    \n",
              "3 Ldh House St Ives Business Park, Parsons Green, St. Ives, Cambridgeshire, PE27 4AA\n",
              "4 1ST CHOICE RECRUITMENT, 8 St. Loyes Street, Bedford, MK40 1EP                     \n",
              "5 Real Life Options, 35 East Port, Dunfermline, Fife, Scotland, KY12 7LG            \n",
              "  PostCode CompanyNumber SicCodes              DiffMeanHourlyPercent\n",
              "1 SY23 3FL RC000641                            11.5                 \n",
              "2 SE1 3TQ  08064685      82990                  8.7                 \n",
              "3 PE27 4AA 02566586      93110,\\n93130,\\n93290 11.0                 \n",
              "4 MK40 1EP 07972006      78109                 -2.3                 \n",
              "5 KY12 7LG SC272838      86900,\\n88100         -2.0                 \n",
              "  DiffMedianHourlyPercent DiffMeanBonusPercent DiffMedianBonusPercent ⋯\n",
              "1 10.3                        NA                   NA                 ⋯\n",
              "2 10.3                      29.6                 54.5                 ⋯\n",
              "3 -0.5                      81.5                 94.2                 ⋯\n",
              "4  0.0                    -114.8               -249.3                 ⋯\n",
              "5  0.5                        NA                   NA                 ⋯\n",
              "  FemaleUpperMiddleQuartile MaleTopQuartile FemaleTopQuartile\n",
              "1 60.0                      62.0            38.0             \n",
              "2 21.1                      66.7            33.3             \n",
              "3 57.7                      44.2            55.8             \n",
              "4 37.1                      50.0            50.0             \n",
              "5 91.0                       9.0            91.0             \n",
              "  CompanyLinkToGPGInfo                                                                                                \n",
              "1 https://www.aber.ac.uk/en/equality/genderpaygapreporting2019/ \\n\\nhttps://www.aber.ac.uk/cy/equality/gender-pay-gap/\n",
              "2                                                                                                                     \n",
              "3 https://www.1life.co.uk/gender-pay-gap                                                                              \n",
              "4 https://www.1stchoice.net/gender-pay-gap-report-2019/                                                               \n",
              "5 https://reallifeoptions.org/                                                                                        \n",
              "  ResponsiblePerson                              EmployerSize\n",
              "1 Elizabeth Treasure (Vice-Chancellor)           1000 to 4999\n",
              "2 Linda Stigter (Director of People and Culture) 250 to 499  \n",
              "3 Mark Braithwaite (Managing Director)           250 to 499  \n",
              "4 Gill Knight (MD)                               250 to 499  \n",
              "5 Ian Hardcastle (Chief Operating Officer)       250 to 499  \n",
              "  CurrentName                                         \n",
              "1 'PRIFYSGOL ABERYSTWYTH' AND 'ABERYSTWYTH UNIVERSITY'\n",
              "2 10 TRINITY SQUARE HOTEL LIMITED                     \n",
              "3 1LIFE MANAGEMENT SOLUTIONS LIMITED                  \n",
              "4 1ST CHOICE STAFF RECRUITMENT LIMITED                \n",
              "5 1ST HOME CARE LTD.                                  \n",
              "  SubmittedAfterTheDeadline DueDate             DateSubmitted      \n",
              "1 False                     2020/04/05 00:00:00 2020/04/03 14:47:45\n",
              "2 False                     2020/04/05 00:00:00 2020/03/19 15:51:20\n",
              "3 False                     2020/04/05 00:00:00 2020/03/10 17:03:17\n",
              "4 False                     2020/04/05 00:00:00 2020/01/24 09:37:01\n",
              "5 False                     2020/04/05 00:00:00 2020/03/12 08:21:06"
            ]
          },
          "metadata": {}
        }
      ]
    },
    {
      "cell_type": "markdown",
      "source": [
        "Checking column names"
      ],
      "metadata": {
        "id": "_swR_82fV0XY"
      }
    },
    {
      "cell_type": "code",
      "source": [
        "colnames(paygap)"
      ],
      "metadata": {
        "colab": {
          "base_uri": "https://localhost:8080/",
          "height": 86
        },
        "id": "f0uH6G_DV2Dk",
        "outputId": "892f3435-9872-456b-8ef4-530695b79f2a"
      },
      "execution_count": 13,
      "outputs": [
        {
          "output_type": "display_data",
          "data": {
            "text/html": [
              "<style>\n",
              ".list-inline {list-style: none; margin:0; padding: 0}\n",
              ".list-inline>li {display: inline-block}\n",
              ".list-inline>li:not(:last-child)::after {content: \"\\00b7\"; padding: 0 .5ex}\n",
              "</style>\n",
              "<ol class=list-inline><li>'EmployerName'</li><li>'EmployerId'</li><li>'Address'</li><li>'PostCode'</li><li>'CompanyNumber'</li><li>'SicCodes'</li><li>'DiffMeanHourlyPercent'</li><li>'DiffMedianHourlyPercent'</li><li>'DiffMeanBonusPercent'</li><li>'DiffMedianBonusPercent'</li><li>'MaleBonusPercent'</li><li>'FemaleBonusPercent'</li><li>'MaleLowerQuartile'</li><li>'FemaleLowerQuartile'</li><li>'MaleLowerMiddleQuartile'</li><li>'FemaleLowerMiddleQuartile'</li><li>'MaleUpperMiddleQuartile'</li><li>'FemaleUpperMiddleQuartile'</li><li>'MaleTopQuartile'</li><li>'FemaleTopQuartile'</li><li>'CompanyLinkToGPGInfo'</li><li>'ResponsiblePerson'</li><li>'EmployerSize'</li><li>'CurrentName'</li><li>'SubmittedAfterTheDeadline'</li><li>'DueDate'</li><li>'DateSubmitted'</li></ol>\n"
            ],
            "text/markdown": "1. 'EmployerName'\n2. 'EmployerId'\n3. 'Address'\n4. 'PostCode'\n5. 'CompanyNumber'\n6. 'SicCodes'\n7. 'DiffMeanHourlyPercent'\n8. 'DiffMedianHourlyPercent'\n9. 'DiffMeanBonusPercent'\n10. 'DiffMedianBonusPercent'\n11. 'MaleBonusPercent'\n12. 'FemaleBonusPercent'\n13. 'MaleLowerQuartile'\n14. 'FemaleLowerQuartile'\n15. 'MaleLowerMiddleQuartile'\n16. 'FemaleLowerMiddleQuartile'\n17. 'MaleUpperMiddleQuartile'\n18. 'FemaleUpperMiddleQuartile'\n19. 'MaleTopQuartile'\n20. 'FemaleTopQuartile'\n21. 'CompanyLinkToGPGInfo'\n22. 'ResponsiblePerson'\n23. 'EmployerSize'\n24. 'CurrentName'\n25. 'SubmittedAfterTheDeadline'\n26. 'DueDate'\n27. 'DateSubmitted'\n\n\n",
            "text/latex": "\\begin{enumerate*}\n\\item 'EmployerName'\n\\item 'EmployerId'\n\\item 'Address'\n\\item 'PostCode'\n\\item 'CompanyNumber'\n\\item 'SicCodes'\n\\item 'DiffMeanHourlyPercent'\n\\item 'DiffMedianHourlyPercent'\n\\item 'DiffMeanBonusPercent'\n\\item 'DiffMedianBonusPercent'\n\\item 'MaleBonusPercent'\n\\item 'FemaleBonusPercent'\n\\item 'MaleLowerQuartile'\n\\item 'FemaleLowerQuartile'\n\\item 'MaleLowerMiddleQuartile'\n\\item 'FemaleLowerMiddleQuartile'\n\\item 'MaleUpperMiddleQuartile'\n\\item 'FemaleUpperMiddleQuartile'\n\\item 'MaleTopQuartile'\n\\item 'FemaleTopQuartile'\n\\item 'CompanyLinkToGPGInfo'\n\\item 'ResponsiblePerson'\n\\item 'EmployerSize'\n\\item 'CurrentName'\n\\item 'SubmittedAfterTheDeadline'\n\\item 'DueDate'\n\\item 'DateSubmitted'\n\\end{enumerate*}\n",
            "text/plain": [
              " [1] \"EmployerName\"              \"EmployerId\"               \n",
              " [3] \"Address\"                   \"PostCode\"                 \n",
              " [5] \"CompanyNumber\"             \"SicCodes\"                 \n",
              " [7] \"DiffMeanHourlyPercent\"     \"DiffMedianHourlyPercent\"  \n",
              " [9] \"DiffMeanBonusPercent\"      \"DiffMedianBonusPercent\"   \n",
              "[11] \"MaleBonusPercent\"          \"FemaleBonusPercent\"       \n",
              "[13] \"MaleLowerQuartile\"         \"FemaleLowerQuartile\"      \n",
              "[15] \"MaleLowerMiddleQuartile\"   \"FemaleLowerMiddleQuartile\"\n",
              "[17] \"MaleUpperMiddleQuartile\"   \"FemaleUpperMiddleQuartile\"\n",
              "[19] \"MaleTopQuartile\"           \"FemaleTopQuartile\"        \n",
              "[21] \"CompanyLinkToGPGInfo\"      \"ResponsiblePerson\"        \n",
              "[23] \"EmployerSize\"              \"CurrentName\"              \n",
              "[25] \"SubmittedAfterTheDeadline\" \"DueDate\"                  \n",
              "[27] \"DateSubmitted\"            "
            ]
          },
          "metadata": {}
        }
      ]
    },
    {
      "cell_type": "markdown",
      "source": [
        "Checking the dimensions"
      ],
      "metadata": {
        "id": "hhoKs4QZV5ZO"
      }
    },
    {
      "cell_type": "code",
      "source": [
        "dim(paygap)"
      ],
      "metadata": {
        "colab": {
          "base_uri": "https://localhost:8080/",
          "height": 34
        },
        "id": "2IF7kI1JV7Eg",
        "outputId": "d2a9a534-995b-4ff0-e756-2f244eedcd0d"
      },
      "execution_count": 14,
      "outputs": [
        {
          "output_type": "display_data",
          "data": {
            "text/html": [
              "<style>\n",
              ".list-inline {list-style: none; margin:0; padding: 0}\n",
              ".list-inline>li {display: inline-block}\n",
              ".list-inline>li:not(:last-child)::after {content: \"\\00b7\"; padding: 0 .5ex}\n",
              "</style>\n",
              "<ol class=list-inline><li>6921</li><li>27</li></ol>\n"
            ],
            "text/markdown": "1. 6921\n2. 27\n\n\n",
            "text/latex": "\\begin{enumerate*}\n\\item 6921\n\\item 27\n\\end{enumerate*}\n",
            "text/plain": [
              "[1] 6921   27"
            ]
          },
          "metadata": {}
        }
      ]
    },
    {
      "cell_type": "markdown",
      "source": [
        "#Data Types in R\n",
        "\n",
        "Character- 'abcd'\n",
        "\n",
        "integer- integer numbers\n",
        "\n",
        "numeric- decimals\n",
        "\n",
        "complex- complex numbers '2+2i'\n",
        "\n",
        "logical- either TRUE or FALSE"
      ],
      "metadata": {
        "id": "LRsEDXjcV_gc"
      }
    },
    {
      "cell_type": "markdown",
      "source": [
        "vector- a one-dimensional array\n",
        "\n",
        "matrix- a two dimensional array; all columns have the same data type\n",
        "\n",
        "data frame- a two dimension array; columns may have different data types"
      ],
      "metadata": {
        "id": "THnW-BNdWXfF"
      }
    },
    {
      "cell_type": "markdown",
      "source": [
        "Check data type"
      ],
      "metadata": {
        "id": "BIU_mW5zWpIt"
      }
    },
    {
      "cell_type": "code",
      "source": [
        "class(paygap)"
      ],
      "metadata": {
        "colab": {
          "base_uri": "https://localhost:8080/",
          "height": 34
        },
        "id": "YF0ATdwEWreU",
        "outputId": "73f01fe0-7afd-46cd-8792-5e326a929bef"
      },
      "execution_count": 15,
      "outputs": [
        {
          "output_type": "display_data",
          "data": {
            "text/html": [
              "'data.frame'"
            ],
            "text/markdown": "'data.frame'",
            "text/latex": "'data.frame'",
            "text/plain": [
              "[1] \"data.frame\""
            ]
          },
          "metadata": {}
        }
      ]
    },
    {
      "cell_type": "markdown",
      "source": [
        "Check data type in columns"
      ],
      "metadata": {
        "id": "QukLhb3RWxgo"
      }
    },
    {
      "cell_type": "code",
      "source": [
        "class(paygap$DiffMeanHourlyPercent)"
      ],
      "metadata": {
        "colab": {
          "base_uri": "https://localhost:8080/",
          "height": 34
        },
        "id": "XWuW5wZZW0ER",
        "outputId": "9312191f-5208-45b4-ab9b-a2a179005c33"
      },
      "execution_count": 17,
      "outputs": [
        {
          "output_type": "display_data",
          "data": {
            "text/html": [
              "'numeric'"
            ],
            "text/markdown": "'numeric'",
            "text/latex": "'numeric'",
            "text/plain": [
              "[1] \"numeric\""
            ]
          },
          "metadata": {}
        }
      ]
    },
    {
      "cell_type": "markdown",
      "source": [
        "#Indexing"
      ],
      "metadata": {
        "id": "SPB9KYYhXwov"
      }
    },
    {
      "cell_type": "markdown",
      "source": [
        "Extract element in 1st row and 3rd column"
      ],
      "metadata": {
        "id": "3XCA9MmBXyAe"
      }
    },
    {
      "cell_type": "code",
      "source": [
        "paygap[1,3]"
      ],
      "metadata": {
        "colab": {
          "base_uri": "https://localhost:8080/",
          "height": 34
        },
        "id": "8STenn3cX2T3",
        "outputId": "0408daf5-3c7e-422f-bbe4-c419c48564ce"
      },
      "execution_count": 18,
      "outputs": [
        {
          "output_type": "display_data",
          "data": {
            "text/html": [
              "'Aberystwyth University, Penglais, Ceredigion, SY23 3FL'"
            ],
            "text/markdown": "'Aberystwyth University, Penglais, Ceredigion, SY23 3FL'",
            "text/latex": "'Aberystwyth University, Penglais, Ceredigion, SY23 3FL'",
            "text/plain": [
              "[1] \"Aberystwyth University, Penglais, Ceredigion, SY23 3FL\""
            ]
          },
          "metadata": {}
        }
      ]
    },
    {
      "cell_type": "code",
      "source": [
        "paygap[5:7,1:3]"
      ],
      "metadata": {
        "colab": {
          "base_uri": "https://localhost:8080/",
          "height": 192
        },
        "id": "MB_yg-2UX7tQ",
        "outputId": "8539cb9c-e5df-408e-ee1c-2a595b11c55d"
      },
      "execution_count": 19,
      "outputs": [
        {
          "output_type": "display_data",
          "data": {
            "text/html": [
              "<table class=\"dataframe\">\n",
              "<caption>A data.frame: 3 × 3</caption>\n",
              "<thead>\n",
              "\t<tr><th></th><th scope=col>EmployerName</th><th scope=col>EmployerId</th><th scope=col>Address</th></tr>\n",
              "\t<tr><th></th><th scope=col>&lt;chr&gt;</th><th scope=col>&lt;int&gt;</th><th scope=col>&lt;chr&gt;</th></tr>\n",
              "</thead>\n",
              "<tbody>\n",
              "\t<tr><th scope=row>5</th><td>1ST HOME CARE LTD.          </td><td>17484</td><td>Real Life Options, 35 East Port, Dunfermline, Fife, Scotland, KY12 7LG                               </td></tr>\n",
              "\t<tr><th scope=row>6</th><td>2 SISTERS FOOD GROUP LIMITED</td><td>   77</td><td>Trinity Park House Trinity Business Park, Fox Way, Wakefield, West Yorkshire, WF2 8EE                </td></tr>\n",
              "\t<tr><th scope=row>7</th><td>23.5 DEGREES LIMITED        </td><td>  694</td><td>Unit 3 Hedge End Retail Park, Charles Watts Way, Hedge End, Southampton, Hampshire, England, SO30 4RT</td></tr>\n",
              "</tbody>\n",
              "</table>\n"
            ],
            "text/markdown": "\nA data.frame: 3 × 3\n\n| <!--/--> | EmployerName &lt;chr&gt; | EmployerId &lt;int&gt; | Address &lt;chr&gt; |\n|---|---|---|---|\n| 5 | 1ST HOME CARE LTD.           | 17484 | Real Life Options, 35 East Port, Dunfermline, Fife, Scotland, KY12 7LG                                |\n| 6 | 2 SISTERS FOOD GROUP LIMITED |    77 | Trinity Park House Trinity Business Park, Fox Way, Wakefield, West Yorkshire, WF2 8EE                 |\n| 7 | 23.5 DEGREES LIMITED         |   694 | Unit 3 Hedge End Retail Park, Charles Watts Way, Hedge End, Southampton, Hampshire, England, SO30 4RT |\n\n",
            "text/latex": "A data.frame: 3 × 3\n\\begin{tabular}{r|lll}\n  & EmployerName & EmployerId & Address\\\\\n  & <chr> & <int> & <chr>\\\\\n\\hline\n\t5 & 1ST HOME CARE LTD.           & 17484 & Real Life Options, 35 East Port, Dunfermline, Fife, Scotland, KY12 7LG                               \\\\\n\t6 & 2 SISTERS FOOD GROUP LIMITED &    77 & Trinity Park House Trinity Business Park, Fox Way, Wakefield, West Yorkshire, WF2 8EE                \\\\\n\t7 & 23.5 DEGREES LIMITED         &   694 & Unit 3 Hedge End Retail Park, Charles Watts Way, Hedge End, Southampton, Hampshire, England, SO30 4RT\\\\\n\\end{tabular}\n",
            "text/plain": [
              "  EmployerName                 EmployerId\n",
              "5 1ST HOME CARE LTD.           17484     \n",
              "6 2 SISTERS FOOD GROUP LIMITED    77     \n",
              "7 23.5 DEGREES LIMITED           694     \n",
              "  Address                                                                                              \n",
              "5 Real Life Options, 35 East Port, Dunfermline, Fife, Scotland, KY12 7LG                               \n",
              "6 Trinity Park House Trinity Business Park, Fox Way, Wakefield, West Yorkshire, WF2 8EE                \n",
              "7 Unit 3 Hedge End Retail Park, Charles Watts Way, Hedge End, Southampton, Hampshire, England, SO30 4RT"
            ]
          },
          "metadata": {}
        }
      ]
    },
    {
      "cell_type": "markdown",
      "source": [
        "#Extracting"
      ],
      "metadata": {
        "id": "NRYrt9HVYAn6"
      }
    },
    {
      "cell_type": "markdown",
      "source": [
        "extract column"
      ],
      "metadata": {
        "id": "3hjoIwGkZ3ba"
      }
    },
    {
      "cell_type": "code",
      "source": [
        "EmployerID <- paygap$EmployerId"
      ],
      "metadata": {
        "id": "PxkMhnbnYE2z"
      },
      "execution_count": 21,
      "outputs": []
    },
    {
      "cell_type": "markdown",
      "source": [
        "#Selecting columns"
      ],
      "metadata": {
        "id": "UQCbiyqlZx6d"
      }
    },
    {
      "cell_type": "code",
      "source": [
        "Employers <- select(paygap, EmployerName)"
      ],
      "metadata": {
        "id": "vQFbOaE1Z6KS"
      },
      "execution_count": 78,
      "outputs": []
    },
    {
      "cell_type": "code",
      "source": [
        "Employers"
      ],
      "metadata": {
        "colab": {
          "base_uri": "https://localhost:8080/",
          "height": 1000
        },
        "id": "32REmJ81aj-U",
        "outputId": "5ea18114-de82-483f-a63c-cdafeedac758"
      },
      "execution_count": 23,
      "outputs": [
        {
          "output_type": "display_data",
          "data": {
            "text/html": [
              "<table class=\"dataframe\">\n",
              "<caption>A data.frame: 6921 × 2</caption>\n",
              "<thead>\n",
              "\t<tr><th scope=col>EmployerName</th><th scope=col>Address</th></tr>\n",
              "\t<tr><th scope=col>&lt;chr&gt;</th><th scope=col>&lt;chr&gt;</th></tr>\n",
              "</thead>\n",
              "<tbody>\n",
              "\t<tr><td>'PRIFYSGOL ABERYSTWYTH' AND 'ABERYSTWYTH UNIVERSITY'</td><td>Aberystwyth University, Penglais, Ceredigion, SY23 3FL                                                      </td></tr>\n",
              "\t<tr><td>10 TRINITY SQUARE HOTEL LIMITED                     </td><td>5 Market Yard Mews, 194-204 Bermondsey Street, London, United Kingdom, SE1 3TQ                              </td></tr>\n",
              "\t<tr><td>1LIFE MANAGEMENT SOLUTIONS LIMITED                  </td><td>Ldh House St Ives Business Park, Parsons Green, St. Ives, Cambridgeshire, PE27 4AA                          </td></tr>\n",
              "\t<tr><td>1ST CHOICE STAFF RECRUITMENT LIMITED                </td><td>1ST CHOICE RECRUITMENT, 8 St. Loyes Street, Bedford, MK40 1EP                                               </td></tr>\n",
              "\t<tr><td>1ST HOME CARE LTD.                                  </td><td>Real Life Options, 35 East Port, Dunfermline, Fife, Scotland, KY12 7LG                                      </td></tr>\n",
              "\t<tr><td>2 SISTERS FOOD GROUP LIMITED                        </td><td>Trinity Park House Trinity Business Park, Fox Way, Wakefield, West Yorkshire, WF2 8EE                       </td></tr>\n",
              "\t<tr><td>23.5 DEGREES LIMITED                                </td><td>Unit 3 Hedge End Retail Park, Charles Watts Way, Hedge End, Southampton, Hampshire, England, SO30 4RT       </td></tr>\n",
              "\t<tr><td>24 X 7 LTD.                                         </td><td>Little Easton Manor Park Road, Little Easton, Dunmow, Essex, England, CM6 2JN                               </td></tr>\n",
              "\t<tr><td>24-7 EMPLOYMENT SOLUTIONS LIMITED                   </td><td>198 Parrock Street, Gravesend, England, DA12 1EW                                                            </td></tr>\n",
              "\t<tr><td>2GETHER SUPPORT SOLUTIONS LIMITED                   </td><td>Management Offices William Harvey Hospital, Kennington Road, Willesborough, Ashford, Kent, England, TN24 0LZ</td></tr>\n",
              "\t<tr><td>3 WAY CLEANING LIMITED                              </td><td>Unit 7 Capstan Centre,, Thurrock Park Way, Tilbury, Essex, RM18 7HH                                         </td></tr>\n",
              "\t<tr><td>3663 TRANSPORT LIMITED                              </td><td>814 Leigh Road, Slough, England, SL1 4BD                                                                    </td></tr>\n",
              "\t<tr><td>3M UNITED KINGDOM PUBLIC LIMITED COMPANY            </td><td>3m Centre, Cain Road, Bracknell, Berkshire, RG12 8HT                                                        </td></tr>\n",
              "\t<tr><td>46 BERKELEY SQUARE LTD                              </td><td>26-28 Conway Street, London, England, W1T 6BQ                                                               </td></tr>\n",
              "\t<tr><td>8X8 UK LIMITED                                      </td><td>Oxford House, Bell Business Park, Smeaton Close, Aylesbury, Buckinghamshire, HP19 8JR                       </td></tr>\n",
              "\t<tr><td>A B GRAPHIC INTERNATIONAL LIMITED                   </td><td>Celebration House, Stanley, Street, Burton-On-Trent, Staffordshire, DE14 1DY                                </td></tr>\n",
              "\t<tr><td>A H WORTH LIMITED                                   </td><td>Fleet Estate Office, Manor Farm, Holbeach Hurn, Holbeach, Spalding, Lincolnshire, PE12 8LR                  </td></tr>\n",
              "\t<tr><td>A-DAY CONSULTANTS LIMITED                           </td><td>Kingston House Towers Business Park, Wilmslow Road, Manchester, England, M20 2LD                            </td></tr>\n",
              "\t<tr><td>A-PLAN HOLDINGS                                     </td><td>2 Des Roches Square, Witney, Oxfordshire, OX28 4LE                                                          </td></tr>\n",
              "\t<tr><td><span style=white-space:pre-wrap>A. &amp; B. GLASS COMPANY LIMITED                       </span></td><td><span style=white-space:pre-wrap>Addison Road, Chilton Industrial Estate, Sudbury, Suffolk, CO10 2YW                                         </span></td></tr>\n",
              "\t<tr><td><span style=white-space:pre-wrap>A. SHARE &amp; SONS LIMITED                             </span></td><td><span style=white-space:pre-wrap>45-49 Villiers Street, Sunderland, SR1 1HA                                                                  </span></td></tr>\n",
              "\t<tr><td>A.B.M. CATERING LIMITED                             </td><td>Eagle Court, 63-67 Saltisford, Warwick, Warwickshire, CV34 4AF                                              </td></tr>\n",
              "\t<tr><td>A.C. GOATHAM AND SON LIMITED                        </td><td>Flanders Farm Ratcliffe Highway, Hoo, Rochester, Kent, England, ME3 8QE                                     </td></tr>\n",
              "\t<tr><td><span style=white-space:pre-wrap>A.CLARKE &amp; CO.(SMETHWICK)LIMITED                    </span></td><td><span style=white-space:pre-wrap>PO BOX 9837 Station Road, Oldbury, West Midlands, B69 4WD                                                   </span></td></tr>\n",
              "\t<tr><td>A.F.BLAKEMORE AND SON LIMITED                       </td><td>Long Acres Ind Est, Rosehill, Willenhall, West Midlands, WV13 2JP                                           </td></tr>\n",
              "\t<tr><td>A.G. BARR P.L.C.                                    </td><td>Westfield House, 4 Mollins Road, Cumbernauld, G68 9HD                                                       </td></tr>\n",
              "\t<tr><td>A.J.N. STEELSTOCK LTD.                              </td><td>Icknield Way, Kentford, Newmarket, Suffolk, CB8 7QT                                                         </td></tr>\n",
              "\t<tr><td><span style=white-space:pre-wrap>A.W. &amp; D. HAMMOND LIMITED                           </span></td><td><span style=white-space:pre-wrap>Norwich Road, Halesworth, Suffolk, IP19 8BU                                                                 </span></td></tr>\n",
              "\t<tr><td>A2DOMINION HOUSING GROUP LIMITED                    </td><td>The Point, 37 North Wharf Road, London, United Kingdom, W2 1BD                                              </td></tr>\n",
              "\t<tr><td>AAH PHARMACEUTICALS LIMITED                         </td><td>Sapphire Court, Walsgrave Triangle, Coventry, CV2 2TX                                                       </td></tr>\n",
              "\t<tr><td>⋮</td><td>⋮</td></tr>\n",
              "\t<tr><td>York Teaching Hospital Nhs Foundation Trust</td><td>Wigginton Road, York, North Yorkshire, YO31 8HE                                              </td></tr>\n",
              "\t<tr><td>YORKARE HOMES LIMITED                      </td><td>Brantingham Thorpe Hall Thorpe Drive, Brantingham, Brough, England, HU15 1QG                 </td></tr>\n",
              "\t<tr><td>Yorkshire Ambulance Service Nhs Trust      </td><td>Springhill 2, Brindley Way, Wakefield 41 Business Park, Wakefield, WF2 0XQ                   </td></tr>\n",
              "\t<tr><td>Yorkshire Building Society                 </td><td>Yorkshire House, Yorkshire Drive, Bradford, BD5 8LJ                                          </td></tr>\n",
              "\t<tr><td>YORKSHIRE CAUSEWAY SCHOOLS TRUST           </td><td>St Aidan's Church Of England High School, Oatlands Drive, Harrogate, North Yorkshire, HG2 8JR</td></tr>\n",
              "\t<tr><td>YORKSHIRE HOUSING LIMITED                  </td><td>Dysons Chambers, 12-14 Briggate, Leeds, United Kingdom, LS1 6ER                              </td></tr>\n",
              "\t<tr><td>YORKSHIRE TIGER LIMITED                    </td><td>ARRIVA PLC, 1 Admiral Way, Doxford International Business Park, Sunderland, SR3 3XP          </td></tr>\n",
              "\t<tr><td>YORKSHIRE WATER SERVICES LIMITED           </td><td>Western House, Halifax Road, Bradford, West Yorkshire, BD6 2SZ                               </td></tr>\n",
              "\t<tr><td>YORWASTE LIMITED                           </td><td>Mount View, Standard Way, Northallerton, North Yorkshire, DL6 2YD                            </td></tr>\n",
              "\t<tr><td>YOUGOV PLC                                 </td><td>50 Featherstone Street, London, EC1Y 8RT                                                     </td></tr>\n",
              "\t<tr><td><span style=white-space:pre-wrap>YOUNG &amp; CO'S BREWERY PLC                   </span></td><td><span style=white-space:pre-wrap>Copper House, 5 Garratt Lane, Wandsworth, London, SW18 4AQ                                   </span></td></tr>\n",
              "\t<tr><td>YOUNG'S SEAFOOD LIMITED                    </td><td>Young's House, Wickham Road, Grimsby, England, DN31 3SW                                      </td></tr>\n",
              "\t<tr><td><span style=white-space:pre-wrap>YOUR HOMES NEWCASTLE LIMITED               </span></td><td><span style=white-space:pre-wrap>Civic Centre, Barras Bridge, Newcastle Upon Tyne, Tyne &amp; Wear, NE1 8PR                       </span></td></tr>\n",
              "\t<tr><td>YOUR LEISURE KENT LIMITED                  </td><td>Northdown House, Northdown Park Road, Margate, CT9 3TP                                       </td></tr>\n",
              "\t<tr><td>YOUR-MOVE.CO.UK LIMITED                    </td><td>Newcastle House Albany Court, Newcastle Business Park, Newcastle Upon Tyne, NE4 7YB          </td></tr>\n",
              "\t<tr><td>YOURLIFE MANAGEMENT SERVICES LIMITED       </td><td>Fourth Floor, 100 Holdenhurst Road, Bournemouth, Dorset, BH8 8AQ                             </td></tr>\n",
              "\t<tr><td>YOURS CLOTHING LIMITED                     </td><td>Newcombe House, Bakewell Road, Orton Southgate, Peterborough, United Kingdom, PE2 6XU        </td></tr>\n",
              "\t<tr><td>YPO                                        </td><td>Kenmore Rd, 41 Industrial Estate, Wakefield, WF2 0XE                                         </td></tr>\n",
              "\t<tr><td>YUSEN LOGISTICS (UK) LIMITED               </td><td>Grange Park 1, Cheaney Drive, Grange Park, Northampton, NN4 5FB                              </td></tr>\n",
              "\t<tr><td>ZAHA HADID LIMITED                         </td><td>101 Goswell Road, London, United Kingdom, EC1V 7EZ                                           </td></tr>\n",
              "\t<tr><td>ZEBRA TECHNOLOGIES EUROPE LIMITED          </td><td>Dukes Meadow, Millboard Road, Bourne End, Buckinghamshire, SL8 5XF                           </td></tr>\n",
              "\t<tr><td>ZELLIS UK LIMITED                          </td><td>740 Waterside Drive Aztec West, Almondsbury, Bristol, England, BS32 4UF                      </td></tr>\n",
              "\t<tr><td>ZEN INTERNET LIMITED                       </td><td>Sandbrook House Sandbrook Park, Sandbrook Way, Rochdale, Lancashire, OL11 1RY                </td></tr>\n",
              "\t<tr><td>ZENITH VEHICLE CONTRACTS LIMITED           </td><td>Number One, Great Exhibition Way, Kirkstall Forge, Leeds, United Kingdom, LS5 3BF            </td></tr>\n",
              "\t<tr><td>ZF SERVICES UK LIMITED                     </td><td>Abbeyfield Road, Lenton, Nottingham, NG7 2SX                                                 </td></tr>\n",
              "\t<tr><td>ZING LEISURE LIMITED                       </td><td>5 New Street Square, London, United Kingdom, EC4A 3TW                                        </td></tr>\n",
              "\t<tr><td>ZOPA LIMITED                               </td><td>Frobisher House, Southbrook Road, Southampton, England, SO15 1GX                             </td></tr>\n",
              "\t<tr><td>ZOTEFOAMS PLC                              </td><td>675 Mitcham Road, Croydon, CR9 3AL                                                           </td></tr>\n",
              "\t<tr><td>ZURICH EMPLOYMENT SERVICES LIMITED         </td><td>Unity Place, 1 Carfax Close, Swindon, Wiltshire, United Kingdom, SN1 1AP                     </td></tr>\n",
              "\t<tr><td>ZURICH UK GENERAL SERVICES LIMITED         </td><td>The Zurich Centre 3000 Parkway, Whiteley, Fareham, Hampshire, PO15 7JZ                       </td></tr>\n",
              "</tbody>\n",
              "</table>\n"
            ],
            "text/markdown": "\nA data.frame: 6921 × 2\n\n| EmployerName &lt;chr&gt; | Address &lt;chr&gt; |\n|---|---|\n| 'PRIFYSGOL ABERYSTWYTH' AND 'ABERYSTWYTH UNIVERSITY' | Aberystwyth University, Penglais, Ceredigion, SY23 3FL                                                       |\n| 10 TRINITY SQUARE HOTEL LIMITED                      | 5 Market Yard Mews, 194-204 Bermondsey Street, London, United Kingdom, SE1 3TQ                               |\n| 1LIFE MANAGEMENT SOLUTIONS LIMITED                   | Ldh House St Ives Business Park, Parsons Green, St. Ives, Cambridgeshire, PE27 4AA                           |\n| 1ST CHOICE STAFF RECRUITMENT LIMITED                 | 1ST CHOICE RECRUITMENT, 8 St. Loyes Street, Bedford, MK40 1EP                                                |\n| 1ST HOME CARE LTD.                                   | Real Life Options, 35 East Port, Dunfermline, Fife, Scotland, KY12 7LG                                       |\n| 2 SISTERS FOOD GROUP LIMITED                         | Trinity Park House Trinity Business Park, Fox Way, Wakefield, West Yorkshire, WF2 8EE                        |\n| 23.5 DEGREES LIMITED                                 | Unit 3 Hedge End Retail Park, Charles Watts Way, Hedge End, Southampton, Hampshire, England, SO30 4RT        |\n| 24 X 7 LTD.                                          | Little Easton Manor Park Road, Little Easton, Dunmow, Essex, England, CM6 2JN                                |\n| 24-7 EMPLOYMENT SOLUTIONS LIMITED                    | 198 Parrock Street, Gravesend, England, DA12 1EW                                                             |\n| 2GETHER SUPPORT SOLUTIONS LIMITED                    | Management Offices William Harvey Hospital, Kennington Road, Willesborough, Ashford, Kent, England, TN24 0LZ |\n| 3 WAY CLEANING LIMITED                               | Unit 7 Capstan Centre,, Thurrock Park Way, Tilbury, Essex, RM18 7HH                                          |\n| 3663 TRANSPORT LIMITED                               | 814 Leigh Road, Slough, England, SL1 4BD                                                                     |\n| 3M UNITED KINGDOM PUBLIC LIMITED COMPANY             | 3m Centre, Cain Road, Bracknell, Berkshire, RG12 8HT                                                         |\n| 46 BERKELEY SQUARE LTD                               | 26-28 Conway Street, London, England, W1T 6BQ                                                                |\n| 8X8 UK LIMITED                                       | Oxford House, Bell Business Park, Smeaton Close, Aylesbury, Buckinghamshire, HP19 8JR                        |\n| A B GRAPHIC INTERNATIONAL LIMITED                    | Celebration House, Stanley, Street, Burton-On-Trent, Staffordshire, DE14 1DY                                 |\n| A H WORTH LIMITED                                    | Fleet Estate Office, Manor Farm, Holbeach Hurn, Holbeach, Spalding, Lincolnshire, PE12 8LR                   |\n| A-DAY CONSULTANTS LIMITED                            | Kingston House Towers Business Park, Wilmslow Road, Manchester, England, M20 2LD                             |\n| A-PLAN HOLDINGS                                      | 2 Des Roches Square, Witney, Oxfordshire, OX28 4LE                                                           |\n| A. &amp; B. GLASS COMPANY LIMITED                        | Addison Road, Chilton Industrial Estate, Sudbury, Suffolk, CO10 2YW                                          |\n| A. SHARE &amp; SONS LIMITED                              | 45-49 Villiers Street, Sunderland, SR1 1HA                                                                   |\n| A.B.M. CATERING LIMITED                              | Eagle Court, 63-67 Saltisford, Warwick, Warwickshire, CV34 4AF                                               |\n| A.C. GOATHAM AND SON LIMITED                         | Flanders Farm Ratcliffe Highway, Hoo, Rochester, Kent, England, ME3 8QE                                      |\n| A.CLARKE &amp; CO.(SMETHWICK)LIMITED                     | PO BOX 9837 Station Road, Oldbury, West Midlands, B69 4WD                                                    |\n| A.F.BLAKEMORE AND SON LIMITED                        | Long Acres Ind Est, Rosehill, Willenhall, West Midlands, WV13 2JP                                            |\n| A.G. BARR P.L.C.                                     | Westfield House, 4 Mollins Road, Cumbernauld, G68 9HD                                                        |\n| A.J.N. STEELSTOCK LTD.                               | Icknield Way, Kentford, Newmarket, Suffolk, CB8 7QT                                                          |\n| A.W. &amp; D. HAMMOND LIMITED                            | Norwich Road, Halesworth, Suffolk, IP19 8BU                                                                  |\n| A2DOMINION HOUSING GROUP LIMITED                     | The Point, 37 North Wharf Road, London, United Kingdom, W2 1BD                                               |\n| AAH PHARMACEUTICALS LIMITED                          | Sapphire Court, Walsgrave Triangle, Coventry, CV2 2TX                                                        |\n| ⋮ | ⋮ |\n| York Teaching Hospital Nhs Foundation Trust | Wigginton Road, York, North Yorkshire, YO31 8HE                                               |\n| YORKARE HOMES LIMITED                       | Brantingham Thorpe Hall Thorpe Drive, Brantingham, Brough, England, HU15 1QG                  |\n| Yorkshire Ambulance Service Nhs Trust       | Springhill 2, Brindley Way, Wakefield 41 Business Park, Wakefield, WF2 0XQ                    |\n| Yorkshire Building Society                  | Yorkshire House, Yorkshire Drive, Bradford, BD5 8LJ                                           |\n| YORKSHIRE CAUSEWAY SCHOOLS TRUST            | St Aidan's Church Of England High School, Oatlands Drive, Harrogate, North Yorkshire, HG2 8JR |\n| YORKSHIRE HOUSING LIMITED                   | Dysons Chambers, 12-14 Briggate, Leeds, United Kingdom, LS1 6ER                               |\n| YORKSHIRE TIGER LIMITED                     | ARRIVA PLC, 1 Admiral Way, Doxford International Business Park, Sunderland, SR3 3XP           |\n| YORKSHIRE WATER SERVICES LIMITED            | Western House, Halifax Road, Bradford, West Yorkshire, BD6 2SZ                                |\n| YORWASTE LIMITED                            | Mount View, Standard Way, Northallerton, North Yorkshire, DL6 2YD                             |\n| YOUGOV PLC                                  | 50 Featherstone Street, London, EC1Y 8RT                                                      |\n| YOUNG &amp; CO'S BREWERY PLC                    | Copper House, 5 Garratt Lane, Wandsworth, London, SW18 4AQ                                    |\n| YOUNG'S SEAFOOD LIMITED                     | Young's House, Wickham Road, Grimsby, England, DN31 3SW                                       |\n| YOUR HOMES NEWCASTLE LIMITED                | Civic Centre, Barras Bridge, Newcastle Upon Tyne, Tyne &amp; Wear, NE1 8PR                        |\n| YOUR LEISURE KENT LIMITED                   | Northdown House, Northdown Park Road, Margate, CT9 3TP                                        |\n| YOUR-MOVE.CO.UK LIMITED                     | Newcastle House Albany Court, Newcastle Business Park, Newcastle Upon Tyne, NE4 7YB           |\n| YOURLIFE MANAGEMENT SERVICES LIMITED        | Fourth Floor, 100 Holdenhurst Road, Bournemouth, Dorset, BH8 8AQ                              |\n| YOURS CLOTHING LIMITED                      | Newcombe House, Bakewell Road, Orton Southgate, Peterborough, United Kingdom, PE2 6XU         |\n| YPO                                         | Kenmore Rd, 41 Industrial Estate, Wakefield, WF2 0XE                                          |\n| YUSEN LOGISTICS (UK) LIMITED                | Grange Park 1, Cheaney Drive, Grange Park, Northampton, NN4 5FB                               |\n| ZAHA HADID LIMITED                          | 101 Goswell Road, London, United Kingdom, EC1V 7EZ                                            |\n| ZEBRA TECHNOLOGIES EUROPE LIMITED           | Dukes Meadow, Millboard Road, Bourne End, Buckinghamshire, SL8 5XF                            |\n| ZELLIS UK LIMITED                           | 740 Waterside Drive Aztec West, Almondsbury, Bristol, England, BS32 4UF                       |\n| ZEN INTERNET LIMITED                        | Sandbrook House Sandbrook Park, Sandbrook Way, Rochdale, Lancashire, OL11 1RY                 |\n| ZENITH VEHICLE CONTRACTS LIMITED            | Number One, Great Exhibition Way, Kirkstall Forge, Leeds, United Kingdom, LS5 3BF             |\n| ZF SERVICES UK LIMITED                      | Abbeyfield Road, Lenton, Nottingham, NG7 2SX                                                  |\n| ZING LEISURE LIMITED                        | 5 New Street Square, London, United Kingdom, EC4A 3TW                                         |\n| ZOPA LIMITED                                | Frobisher House, Southbrook Road, Southampton, England, SO15 1GX                              |\n| ZOTEFOAMS PLC                               | 675 Mitcham Road, Croydon, CR9 3AL                                                            |\n| ZURICH EMPLOYMENT SERVICES LIMITED          | Unity Place, 1 Carfax Close, Swindon, Wiltshire, United Kingdom, SN1 1AP                      |\n| ZURICH UK GENERAL SERVICES LIMITED          | The Zurich Centre 3000 Parkway, Whiteley, Fareham, Hampshire, PO15 7JZ                        |\n\n",
            "text/latex": "A data.frame: 6921 × 2\n\\begin{tabular}{ll}\n EmployerName & Address\\\\\n <chr> & <chr>\\\\\n\\hline\n\t 'PRIFYSGOL ABERYSTWYTH' AND 'ABERYSTWYTH UNIVERSITY' & Aberystwyth University, Penglais, Ceredigion, SY23 3FL                                                      \\\\\n\t 10 TRINITY SQUARE HOTEL LIMITED                      & 5 Market Yard Mews, 194-204 Bermondsey Street, London, United Kingdom, SE1 3TQ                              \\\\\n\t 1LIFE MANAGEMENT SOLUTIONS LIMITED                   & Ldh House St Ives Business Park, Parsons Green, St. Ives, Cambridgeshire, PE27 4AA                          \\\\\n\t 1ST CHOICE STAFF RECRUITMENT LIMITED                 & 1ST CHOICE RECRUITMENT, 8 St. Loyes Street, Bedford, MK40 1EP                                               \\\\\n\t 1ST HOME CARE LTD.                                   & Real Life Options, 35 East Port, Dunfermline, Fife, Scotland, KY12 7LG                                      \\\\\n\t 2 SISTERS FOOD GROUP LIMITED                         & Trinity Park House Trinity Business Park, Fox Way, Wakefield, West Yorkshire, WF2 8EE                       \\\\\n\t 23.5 DEGREES LIMITED                                 & Unit 3 Hedge End Retail Park, Charles Watts Way, Hedge End, Southampton, Hampshire, England, SO30 4RT       \\\\\n\t 24 X 7 LTD.                                          & Little Easton Manor Park Road, Little Easton, Dunmow, Essex, England, CM6 2JN                               \\\\\n\t 24-7 EMPLOYMENT SOLUTIONS LIMITED                    & 198 Parrock Street, Gravesend, England, DA12 1EW                                                            \\\\\n\t 2GETHER SUPPORT SOLUTIONS LIMITED                    & Management Offices William Harvey Hospital, Kennington Road, Willesborough, Ashford, Kent, England, TN24 0LZ\\\\\n\t 3 WAY CLEANING LIMITED                               & Unit 7 Capstan Centre,, Thurrock Park Way, Tilbury, Essex, RM18 7HH                                         \\\\\n\t 3663 TRANSPORT LIMITED                               & 814 Leigh Road, Slough, England, SL1 4BD                                                                    \\\\\n\t 3M UNITED KINGDOM PUBLIC LIMITED COMPANY             & 3m Centre, Cain Road, Bracknell, Berkshire, RG12 8HT                                                        \\\\\n\t 46 BERKELEY SQUARE LTD                               & 26-28 Conway Street, London, England, W1T 6BQ                                                               \\\\\n\t 8X8 UK LIMITED                                       & Oxford House, Bell Business Park, Smeaton Close, Aylesbury, Buckinghamshire, HP19 8JR                       \\\\\n\t A B GRAPHIC INTERNATIONAL LIMITED                    & Celebration House, Stanley, Street, Burton-On-Trent, Staffordshire, DE14 1DY                                \\\\\n\t A H WORTH LIMITED                                    & Fleet Estate Office, Manor Farm, Holbeach Hurn, Holbeach, Spalding, Lincolnshire, PE12 8LR                  \\\\\n\t A-DAY CONSULTANTS LIMITED                            & Kingston House Towers Business Park, Wilmslow Road, Manchester, England, M20 2LD                            \\\\\n\t A-PLAN HOLDINGS                                      & 2 Des Roches Square, Witney, Oxfordshire, OX28 4LE                                                          \\\\\n\t A. \\& B. GLASS COMPANY LIMITED                        & Addison Road, Chilton Industrial Estate, Sudbury, Suffolk, CO10 2YW                                         \\\\\n\t A. SHARE \\& SONS LIMITED                              & 45-49 Villiers Street, Sunderland, SR1 1HA                                                                  \\\\\n\t A.B.M. CATERING LIMITED                              & Eagle Court, 63-67 Saltisford, Warwick, Warwickshire, CV34 4AF                                              \\\\\n\t A.C. GOATHAM AND SON LIMITED                         & Flanders Farm Ratcliffe Highway, Hoo, Rochester, Kent, England, ME3 8QE                                     \\\\\n\t A.CLARKE \\& CO.(SMETHWICK)LIMITED                     & PO BOX 9837 Station Road, Oldbury, West Midlands, B69 4WD                                                   \\\\\n\t A.F.BLAKEMORE AND SON LIMITED                        & Long Acres Ind Est, Rosehill, Willenhall, West Midlands, WV13 2JP                                           \\\\\n\t A.G. BARR P.L.C.                                     & Westfield House, 4 Mollins Road, Cumbernauld, G68 9HD                                                       \\\\\n\t A.J.N. STEELSTOCK LTD.                               & Icknield Way, Kentford, Newmarket, Suffolk, CB8 7QT                                                         \\\\\n\t A.W. \\& D. HAMMOND LIMITED                            & Norwich Road, Halesworth, Suffolk, IP19 8BU                                                                 \\\\\n\t A2DOMINION HOUSING GROUP LIMITED                     & The Point, 37 North Wharf Road, London, United Kingdom, W2 1BD                                              \\\\\n\t AAH PHARMACEUTICALS LIMITED                          & Sapphire Court, Walsgrave Triangle, Coventry, CV2 2TX                                                       \\\\\n\t ⋮ & ⋮\\\\\n\t York Teaching Hospital Nhs Foundation Trust & Wigginton Road, York, North Yorkshire, YO31 8HE                                              \\\\\n\t YORKARE HOMES LIMITED                       & Brantingham Thorpe Hall Thorpe Drive, Brantingham, Brough, England, HU15 1QG                 \\\\\n\t Yorkshire Ambulance Service Nhs Trust       & Springhill 2, Brindley Way, Wakefield 41 Business Park, Wakefield, WF2 0XQ                   \\\\\n\t Yorkshire Building Society                  & Yorkshire House, Yorkshire Drive, Bradford, BD5 8LJ                                          \\\\\n\t YORKSHIRE CAUSEWAY SCHOOLS TRUST            & St Aidan's Church Of England High School, Oatlands Drive, Harrogate, North Yorkshire, HG2 8JR\\\\\n\t YORKSHIRE HOUSING LIMITED                   & Dysons Chambers, 12-14 Briggate, Leeds, United Kingdom, LS1 6ER                              \\\\\n\t YORKSHIRE TIGER LIMITED                     & ARRIVA PLC, 1 Admiral Way, Doxford International Business Park, Sunderland, SR3 3XP          \\\\\n\t YORKSHIRE WATER SERVICES LIMITED            & Western House, Halifax Road, Bradford, West Yorkshire, BD6 2SZ                               \\\\\n\t YORWASTE LIMITED                            & Mount View, Standard Way, Northallerton, North Yorkshire, DL6 2YD                            \\\\\n\t YOUGOV PLC                                  & 50 Featherstone Street, London, EC1Y 8RT                                                     \\\\\n\t YOUNG \\& CO'S BREWERY PLC                    & Copper House, 5 Garratt Lane, Wandsworth, London, SW18 4AQ                                   \\\\\n\t YOUNG'S SEAFOOD LIMITED                     & Young's House, Wickham Road, Grimsby, England, DN31 3SW                                      \\\\\n\t YOUR HOMES NEWCASTLE LIMITED                & Civic Centre, Barras Bridge, Newcastle Upon Tyne, Tyne \\& Wear, NE1 8PR                       \\\\\n\t YOUR LEISURE KENT LIMITED                   & Northdown House, Northdown Park Road, Margate, CT9 3TP                                       \\\\\n\t YOUR-MOVE.CO.UK LIMITED                     & Newcastle House Albany Court, Newcastle Business Park, Newcastle Upon Tyne, NE4 7YB          \\\\\n\t YOURLIFE MANAGEMENT SERVICES LIMITED        & Fourth Floor, 100 Holdenhurst Road, Bournemouth, Dorset, BH8 8AQ                             \\\\\n\t YOURS CLOTHING LIMITED                      & Newcombe House, Bakewell Road, Orton Southgate, Peterborough, United Kingdom, PE2 6XU        \\\\\n\t YPO                                         & Kenmore Rd, 41 Industrial Estate, Wakefield, WF2 0XE                                         \\\\\n\t YUSEN LOGISTICS (UK) LIMITED                & Grange Park 1, Cheaney Drive, Grange Park, Northampton, NN4 5FB                              \\\\\n\t ZAHA HADID LIMITED                          & 101 Goswell Road, London, United Kingdom, EC1V 7EZ                                           \\\\\n\t ZEBRA TECHNOLOGIES EUROPE LIMITED           & Dukes Meadow, Millboard Road, Bourne End, Buckinghamshire, SL8 5XF                           \\\\\n\t ZELLIS UK LIMITED                           & 740 Waterside Drive Aztec West, Almondsbury, Bristol, England, BS32 4UF                      \\\\\n\t ZEN INTERNET LIMITED                        & Sandbrook House Sandbrook Park, Sandbrook Way, Rochdale, Lancashire, OL11 1RY                \\\\\n\t ZENITH VEHICLE CONTRACTS LIMITED            & Number One, Great Exhibition Way, Kirkstall Forge, Leeds, United Kingdom, LS5 3BF            \\\\\n\t ZF SERVICES UK LIMITED                      & Abbeyfield Road, Lenton, Nottingham, NG7 2SX                                                 \\\\\n\t ZING LEISURE LIMITED                        & 5 New Street Square, London, United Kingdom, EC4A 3TW                                        \\\\\n\t ZOPA LIMITED                                & Frobisher House, Southbrook Road, Southampton, England, SO15 1GX                             \\\\\n\t ZOTEFOAMS PLC                               & 675 Mitcham Road, Croydon, CR9 3AL                                                           \\\\\n\t ZURICH EMPLOYMENT SERVICES LIMITED          & Unity Place, 1 Carfax Close, Swindon, Wiltshire, United Kingdom, SN1 1AP                     \\\\\n\t ZURICH UK GENERAL SERVICES LIMITED          & The Zurich Centre 3000 Parkway, Whiteley, Fareham, Hampshire, PO15 7JZ                       \\\\\n\\end{tabular}\n",
            "text/plain": [
              "     EmployerName                                        \n",
              "1    'PRIFYSGOL ABERYSTWYTH' AND 'ABERYSTWYTH UNIVERSITY'\n",
              "2    10 TRINITY SQUARE HOTEL LIMITED                     \n",
              "3    1LIFE MANAGEMENT SOLUTIONS LIMITED                  \n",
              "4    1ST CHOICE STAFF RECRUITMENT LIMITED                \n",
              "5    1ST HOME CARE LTD.                                  \n",
              "6    2 SISTERS FOOD GROUP LIMITED                        \n",
              "7    23.5 DEGREES LIMITED                                \n",
              "8    24 X 7 LTD.                                         \n",
              "9    24-7 EMPLOYMENT SOLUTIONS LIMITED                   \n",
              "10   2GETHER SUPPORT SOLUTIONS LIMITED                   \n",
              "11   3 WAY CLEANING LIMITED                              \n",
              "12   3663 TRANSPORT LIMITED                              \n",
              "13   3M UNITED KINGDOM PUBLIC LIMITED COMPANY            \n",
              "14   46 BERKELEY SQUARE LTD                              \n",
              "15   8X8 UK LIMITED                                      \n",
              "16   A B GRAPHIC INTERNATIONAL LIMITED                   \n",
              "17   A H WORTH LIMITED                                   \n",
              "18   A-DAY CONSULTANTS LIMITED                           \n",
              "19   A-PLAN HOLDINGS                                     \n",
              "20   A. & B. GLASS COMPANY LIMITED                       \n",
              "21   A. SHARE & SONS LIMITED                             \n",
              "22   A.B.M. CATERING LIMITED                             \n",
              "23   A.C. GOATHAM AND SON LIMITED                        \n",
              "24   A.CLARKE & CO.(SMETHWICK)LIMITED                    \n",
              "25   A.F.BLAKEMORE AND SON LIMITED                       \n",
              "26   A.G. BARR P.L.C.                                    \n",
              "27   A.J.N. STEELSTOCK LTD.                              \n",
              "28   A.W. & D. HAMMOND LIMITED                           \n",
              "29   A2DOMINION HOUSING GROUP LIMITED                    \n",
              "30   AAH PHARMACEUTICALS LIMITED                         \n",
              "⋮    ⋮                                                   \n",
              "6892 York Teaching Hospital Nhs Foundation Trust         \n",
              "6893 YORKARE HOMES LIMITED                               \n",
              "6894 Yorkshire Ambulance Service Nhs Trust               \n",
              "6895 Yorkshire Building Society                          \n",
              "6896 YORKSHIRE CAUSEWAY SCHOOLS TRUST                    \n",
              "6897 YORKSHIRE HOUSING LIMITED                           \n",
              "6898 YORKSHIRE TIGER LIMITED                             \n",
              "6899 YORKSHIRE WATER SERVICES LIMITED                    \n",
              "6900 YORWASTE LIMITED                                    \n",
              "6901 YOUGOV PLC                                          \n",
              "6902 YOUNG & CO'S BREWERY PLC                            \n",
              "6903 YOUNG'S SEAFOOD LIMITED                             \n",
              "6904 YOUR HOMES NEWCASTLE LIMITED                        \n",
              "6905 YOUR LEISURE KENT LIMITED                           \n",
              "6906 YOUR-MOVE.CO.UK LIMITED                             \n",
              "6907 YOURLIFE MANAGEMENT SERVICES LIMITED                \n",
              "6908 YOURS CLOTHING LIMITED                              \n",
              "6909 YPO                                                 \n",
              "6910 YUSEN LOGISTICS (UK) LIMITED                        \n",
              "6911 ZAHA HADID LIMITED                                  \n",
              "6912 ZEBRA TECHNOLOGIES EUROPE LIMITED                   \n",
              "6913 ZELLIS UK LIMITED                                   \n",
              "6914 ZEN INTERNET LIMITED                                \n",
              "6915 ZENITH VEHICLE CONTRACTS LIMITED                    \n",
              "6916 ZF SERVICES UK LIMITED                              \n",
              "6917 ZING LEISURE LIMITED                                \n",
              "6918 ZOPA LIMITED                                        \n",
              "6919 ZOTEFOAMS PLC                                       \n",
              "6920 ZURICH EMPLOYMENT SERVICES LIMITED                  \n",
              "6921 ZURICH UK GENERAL SERVICES LIMITED                  \n",
              "     Address                                                                                                     \n",
              "1    Aberystwyth University, Penglais, Ceredigion, SY23 3FL                                                      \n",
              "2    5 Market Yard Mews, 194-204 Bermondsey Street, London, United Kingdom, SE1 3TQ                              \n",
              "3    Ldh House St Ives Business Park, Parsons Green, St. Ives, Cambridgeshire, PE27 4AA                          \n",
              "4    1ST CHOICE RECRUITMENT, 8 St. Loyes Street, Bedford, MK40 1EP                                               \n",
              "5    Real Life Options, 35 East Port, Dunfermline, Fife, Scotland, KY12 7LG                                      \n",
              "6    Trinity Park House Trinity Business Park, Fox Way, Wakefield, West Yorkshire, WF2 8EE                       \n",
              "7    Unit 3 Hedge End Retail Park, Charles Watts Way, Hedge End, Southampton, Hampshire, England, SO30 4RT       \n",
              "8    Little Easton Manor Park Road, Little Easton, Dunmow, Essex, England, CM6 2JN                               \n",
              "9    198 Parrock Street, Gravesend, England, DA12 1EW                                                            \n",
              "10   Management Offices William Harvey Hospital, Kennington Road, Willesborough, Ashford, Kent, England, TN24 0LZ\n",
              "11   Unit 7 Capstan Centre,, Thurrock Park Way, Tilbury, Essex, RM18 7HH                                         \n",
              "12   814 Leigh Road, Slough, England, SL1 4BD                                                                    \n",
              "13   3m Centre, Cain Road, Bracknell, Berkshire, RG12 8HT                                                        \n",
              "14   26-28 Conway Street, London, England, W1T 6BQ                                                               \n",
              "15   Oxford House, Bell Business Park, Smeaton Close, Aylesbury, Buckinghamshire, HP19 8JR                       \n",
              "16   Celebration House, Stanley, Street, Burton-On-Trent, Staffordshire, DE14 1DY                                \n",
              "17   Fleet Estate Office, Manor Farm, Holbeach Hurn, Holbeach, Spalding, Lincolnshire, PE12 8LR                  \n",
              "18   Kingston House Towers Business Park, Wilmslow Road, Manchester, England, M20 2LD                            \n",
              "19   2 Des Roches Square, Witney, Oxfordshire, OX28 4LE                                                          \n",
              "20   Addison Road, Chilton Industrial Estate, Sudbury, Suffolk, CO10 2YW                                         \n",
              "21   45-49 Villiers Street, Sunderland, SR1 1HA                                                                  \n",
              "22   Eagle Court, 63-67 Saltisford, Warwick, Warwickshire, CV34 4AF                                              \n",
              "23   Flanders Farm Ratcliffe Highway, Hoo, Rochester, Kent, England, ME3 8QE                                     \n",
              "24   PO BOX 9837 Station Road, Oldbury, West Midlands, B69 4WD                                                   \n",
              "25   Long Acres Ind Est, Rosehill, Willenhall, West Midlands, WV13 2JP                                           \n",
              "26   Westfield House, 4 Mollins Road, Cumbernauld, G68 9HD                                                       \n",
              "27   Icknield Way, Kentford, Newmarket, Suffolk, CB8 7QT                                                         \n",
              "28   Norwich Road, Halesworth, Suffolk, IP19 8BU                                                                 \n",
              "29   The Point, 37 North Wharf Road, London, United Kingdom, W2 1BD                                              \n",
              "30   Sapphire Court, Walsgrave Triangle, Coventry, CV2 2TX                                                       \n",
              "⋮    ⋮                                                                                                           \n",
              "6892 Wigginton Road, York, North Yorkshire, YO31 8HE                                                             \n",
              "6893 Brantingham Thorpe Hall Thorpe Drive, Brantingham, Brough, England, HU15 1QG                                \n",
              "6894 Springhill 2, Brindley Way, Wakefield 41 Business Park, Wakefield, WF2 0XQ                                  \n",
              "6895 Yorkshire House, Yorkshire Drive, Bradford, BD5 8LJ                                                         \n",
              "6896 St Aidan's Church Of England High School, Oatlands Drive, Harrogate, North Yorkshire, HG2 8JR               \n",
              "6897 Dysons Chambers, 12-14 Briggate, Leeds, United Kingdom, LS1 6ER                                             \n",
              "6898 ARRIVA PLC, 1 Admiral Way, Doxford International Business Park, Sunderland, SR3 3XP                         \n",
              "6899 Western House, Halifax Road, Bradford, West Yorkshire, BD6 2SZ                                              \n",
              "6900 Mount View, Standard Way, Northallerton, North Yorkshire, DL6 2YD                                           \n",
              "6901 50 Featherstone Street, London, EC1Y 8RT                                                                    \n",
              "6902 Copper House, 5 Garratt Lane, Wandsworth, London, SW18 4AQ                                                  \n",
              "6903 Young's House, Wickham Road, Grimsby, England, DN31 3SW                                                     \n",
              "6904 Civic Centre, Barras Bridge, Newcastle Upon Tyne, Tyne & Wear, NE1 8PR                                      \n",
              "6905 Northdown House, Northdown Park Road, Margate, CT9 3TP                                                      \n",
              "6906 Newcastle House Albany Court, Newcastle Business Park, Newcastle Upon Tyne, NE4 7YB                         \n",
              "6907 Fourth Floor, 100 Holdenhurst Road, Bournemouth, Dorset, BH8 8AQ                                            \n",
              "6908 Newcombe House, Bakewell Road, Orton Southgate, Peterborough, United Kingdom, PE2 6XU                       \n",
              "6909 Kenmore Rd, 41 Industrial Estate, Wakefield, WF2 0XE                                                        \n",
              "6910 Grange Park 1, Cheaney Drive, Grange Park, Northampton, NN4 5FB                                             \n",
              "6911 101 Goswell Road, London, United Kingdom, EC1V 7EZ                                                          \n",
              "6912 Dukes Meadow, Millboard Road, Bourne End, Buckinghamshire, SL8 5XF                                          \n",
              "6913 740 Waterside Drive Aztec West, Almondsbury, Bristol, England, BS32 4UF                                     \n",
              "6914 Sandbrook House Sandbrook Park, Sandbrook Way, Rochdale, Lancashire, OL11 1RY                               \n",
              "6915 Number One, Great Exhibition Way, Kirkstall Forge, Leeds, United Kingdom, LS5 3BF                           \n",
              "6916 Abbeyfield Road, Lenton, Nottingham, NG7 2SX                                                                \n",
              "6917 5 New Street Square, London, United Kingdom, EC4A 3TW                                                       \n",
              "6918 Frobisher House, Southbrook Road, Southampton, England, SO15 1GX                                            \n",
              "6919 675 Mitcham Road, Croydon, CR9 3AL                                                                          \n",
              "6920 Unity Place, 1 Carfax Close, Swindon, Wiltshire, United Kingdom, SN1 1AP                                    \n",
              "6921 The Zurich Centre 3000 Parkway, Whiteley, Fareham, Hampshire, PO15 7JZ                                      "
            ]
          },
          "metadata": {}
        }
      ]
    },
    {
      "cell_type": "markdown",
      "source": [
        "#Renaming Columns"
      ],
      "metadata": {
        "id": "u4LV60WLapFy"
      }
    },
    {
      "cell_type": "code",
      "source": [
        "paygap <- rename(paygap, address = Address)"
      ],
      "metadata": {
        "id": "PZQz1ig5asZS"
      },
      "execution_count": 26,
      "outputs": []
    },
    {
      "cell_type": "code",
      "source": [
        "head(paygap)"
      ],
      "metadata": {
        "colab": {
          "base_uri": "https://localhost:8080/",
          "height": 810
        },
        "id": "hYoVPKiVbYdb",
        "outputId": "520e5dc2-eb6a-414a-fecb-ea9a8bb8c266"
      },
      "execution_count": 27,
      "outputs": [
        {
          "output_type": "display_data",
          "data": {
            "text/html": [
              "<table class=\"dataframe\">\n",
              "<caption>A data.frame: 6 × 27</caption>\n",
              "<thead>\n",
              "\t<tr><th></th><th scope=col>EmployerName</th><th scope=col>EmployerId</th><th scope=col>address</th><th scope=col>PostCode</th><th scope=col>CompanyNumber</th><th scope=col>SicCodes</th><th scope=col>DiffMeanHourlyPercent</th><th scope=col>DiffMedianHourlyPercent</th><th scope=col>DiffMeanBonusPercent</th><th scope=col>DiffMedianBonusPercent</th><th scope=col>⋯</th><th scope=col>FemaleUpperMiddleQuartile</th><th scope=col>MaleTopQuartile</th><th scope=col>FemaleTopQuartile</th><th scope=col>CompanyLinkToGPGInfo</th><th scope=col>ResponsiblePerson</th><th scope=col>EmployerSize</th><th scope=col>CurrentName</th><th scope=col>SubmittedAfterTheDeadline</th><th scope=col>DueDate</th><th scope=col>DateSubmitted</th></tr>\n",
              "\t<tr><th></th><th scope=col>&lt;chr&gt;</th><th scope=col>&lt;int&gt;</th><th scope=col>&lt;chr&gt;</th><th scope=col>&lt;chr&gt;</th><th scope=col>&lt;chr&gt;</th><th scope=col>&lt;chr&gt;</th><th scope=col>&lt;dbl&gt;</th><th scope=col>&lt;dbl&gt;</th><th scope=col>&lt;dbl&gt;</th><th scope=col>&lt;dbl&gt;</th><th scope=col>⋯</th><th scope=col>&lt;dbl&gt;</th><th scope=col>&lt;dbl&gt;</th><th scope=col>&lt;dbl&gt;</th><th scope=col>&lt;chr&gt;</th><th scope=col>&lt;chr&gt;</th><th scope=col>&lt;chr&gt;</th><th scope=col>&lt;chr&gt;</th><th scope=col>&lt;chr&gt;</th><th scope=col>&lt;chr&gt;</th><th scope=col>&lt;chr&gt;</th></tr>\n",
              "</thead>\n",
              "<tbody>\n",
              "\t<tr><th scope=row>1</th><td>'PRIFYSGOL ABERYSTWYTH' AND 'ABERYSTWYTH UNIVERSITY'</td><td>19070</td><td>Aberystwyth University, Penglais, Ceredigion, SY23 3FL                               </td><td>SY23 3FL</td><td>RC000641</td><td>                     </td><td>11.5</td><td>10.3</td><td>    NA</td><td>    NA</td><td>⋯</td><td>60.0</td><td>62.0</td><td>38.0</td><td>https://www.aber.ac.uk/en/equality/genderpaygapreporting2019/ \n",
              "\n",
              "https://www.aber.ac.uk/cy/equality/gender-pay-gap/</td><td>Elizabeth Treasure (Vice-Chancellor)                 </td><td>1000 to 4999</td><td>'PRIFYSGOL ABERYSTWYTH' AND 'ABERYSTWYTH UNIVERSITY'</td><td>False</td><td>2020/04/05 00:00:00</td><td>2020/04/03 14:47:45</td></tr>\n",
              "\t<tr><th scope=row>2</th><td>10 TRINITY SQUARE HOTEL LIMITED                     </td><td>19455</td><td>5 Market Yard Mews, 194-204 Bermondsey Street, London, United Kingdom, SE1 3TQ       </td><td>SE1 3TQ </td><td>08064685</td><td>82990                </td><td> 8.7</td><td>10.3</td><td>  29.6</td><td>  54.5</td><td>⋯</td><td>21.1</td><td>66.7</td><td>33.3</td><td>                                                                                                                    </td><td>Linda Stigter (Director of People and Culture)       </td><td>250 to 499  </td><td>10 TRINITY SQUARE HOTEL LIMITED                     </td><td>False</td><td>2020/04/05 00:00:00</td><td>2020/03/19 15:51:20</td></tr>\n",
              "\t<tr><th scope=row>3</th><td>1LIFE MANAGEMENT SOLUTIONS LIMITED                  </td><td>  687</td><td>Ldh House St Ives Business Park, Parsons Green, St. Ives, Cambridgeshire, PE27 4AA   </td><td>PE27 4AA</td><td>02566586</td><td>93110,\n",
              "93130,\n",
              "93290</td><td>11.0</td><td>-0.5</td><td>  81.5</td><td>  94.2</td><td>⋯</td><td>57.7</td><td>44.2</td><td>55.8</td><td>https://www.1life.co.uk/gender-pay-gap                                                                              </td><td>Mark Braithwaite (Managing Director)                 </td><td>250 to 499  </td><td>1LIFE MANAGEMENT SOLUTIONS LIMITED                  </td><td>False</td><td>2020/04/05 00:00:00</td><td>2020/03/10 17:03:17</td></tr>\n",
              "\t<tr><th scope=row>4</th><td>1ST CHOICE STAFF RECRUITMENT LIMITED                </td><td>18136</td><td>1ST CHOICE RECRUITMENT, 8 St. Loyes Street, Bedford, MK40 1EP                        </td><td>MK40 1EP</td><td>07972006</td><td>78109                </td><td>-2.3</td><td> 0.0</td><td>-114.8</td><td>-249.3</td><td>⋯</td><td>37.1</td><td>50.0</td><td>50.0</td><td>https://www.1stchoice.net/gender-pay-gap-report-2019/                                                               </td><td>Gill Knight (MD)                                     </td><td>250 to 499  </td><td>1ST CHOICE STAFF RECRUITMENT LIMITED                </td><td>False</td><td>2020/04/05 00:00:00</td><td>2020/01/24 09:37:01</td></tr>\n",
              "\t<tr><th scope=row>5</th><td>1ST HOME CARE LTD.                                  </td><td>17484</td><td>Real Life Options, 35 East Port, Dunfermline, Fife, Scotland, KY12 7LG               </td><td>KY12 7LG</td><td>SC272838</td><td>86900,\n",
              "88100        </td><td>-2.0</td><td> 0.5</td><td>    NA</td><td>    NA</td><td>⋯</td><td>91.0</td><td> 9.0</td><td>91.0</td><td>https://reallifeoptions.org/                                                                                        </td><td>Ian Hardcastle (Chief Operating Officer)             </td><td>250 to 499  </td><td>1ST HOME CARE LTD.                                  </td><td>False</td><td>2020/04/05 00:00:00</td><td>2020/03/12 08:21:06</td></tr>\n",
              "\t<tr><th scope=row>6</th><td><span style=white-space:pre-wrap>2 SISTERS FOOD GROUP LIMITED                        </span></td><td><span style=white-space:pre-wrap>   77</span></td><td>Trinity Park House Trinity Business Park, Fox Way, Wakefield, West Yorkshire, WF2 8EE</td><td>WF2 8EE </td><td>02826929</td><td><span style=white-space:pre-wrap>10120                </span></td><td>25.0</td><td> 7.3</td><td><span style=white-space:pre-wrap>  65.0</span></td><td><span style=white-space:pre-wrap>   7.6</span></td><td>⋯</td><td>46.4</td><td>65.9</td><td>34.1</td><td><span style=white-space:pre-wrap>https://www.2sfg.com/PDF/2sfg-GenderPay-2020.pdf                                                                    </span></td><td>Lee Greenbury (Group Director of People &amp; Compliance)</td><td>1000 to 4999</td><td><span style=white-space:pre-wrap>2 SISTERS FOOD GROUP LIMITED                        </span></td><td>False</td><td>2020/04/05 00:00:00</td><td>2021/09/30 12:54:30</td></tr>\n",
              "</tbody>\n",
              "</table>\n"
            ],
            "text/markdown": "\nA data.frame: 6 × 27\n\n| <!--/--> | EmployerName &lt;chr&gt; | EmployerId &lt;int&gt; | address &lt;chr&gt; | PostCode &lt;chr&gt; | CompanyNumber &lt;chr&gt; | SicCodes &lt;chr&gt; | DiffMeanHourlyPercent &lt;dbl&gt; | DiffMedianHourlyPercent &lt;dbl&gt; | DiffMeanBonusPercent &lt;dbl&gt; | DiffMedianBonusPercent &lt;dbl&gt; | ⋯ ⋯ | FemaleUpperMiddleQuartile &lt;dbl&gt; | MaleTopQuartile &lt;dbl&gt; | FemaleTopQuartile &lt;dbl&gt; | CompanyLinkToGPGInfo &lt;chr&gt; | ResponsiblePerson &lt;chr&gt; | EmployerSize &lt;chr&gt; | CurrentName &lt;chr&gt; | SubmittedAfterTheDeadline &lt;chr&gt; | DueDate &lt;chr&gt; | DateSubmitted &lt;chr&gt; |\n|---|---|---|---|---|---|---|---|---|---|---|---|---|---|---|---|---|---|---|---|---|---|\n| 1 | 'PRIFYSGOL ABERYSTWYTH' AND 'ABERYSTWYTH UNIVERSITY' | 19070 | Aberystwyth University, Penglais, Ceredigion, SY23 3FL                                | SY23 3FL | RC000641 | <!----> | 11.5 | 10.3 |     NA |     NA | ⋯ | 60.0 | 62.0 | 38.0 | https://www.aber.ac.uk/en/equality/genderpaygapreporting2019/ \n\nhttps://www.aber.ac.uk/cy/equality/gender-pay-gap/ | Elizabeth Treasure (Vice-Chancellor)                  | 1000 to 4999 | 'PRIFYSGOL ABERYSTWYTH' AND 'ABERYSTWYTH UNIVERSITY' | False | 2020/04/05 00:00:00 | 2020/04/03 14:47:45 |\n| 2 | 10 TRINITY SQUARE HOTEL LIMITED                      | 19455 | 5 Market Yard Mews, 194-204 Bermondsey Street, London, United Kingdom, SE1 3TQ        | SE1 3TQ  | 08064685 | 82990                 |  8.7 | 10.3 |   29.6 |   54.5 | ⋯ | 21.1 | 66.7 | 33.3 | <!----> | Linda Stigter (Director of People and Culture)        | 250 to 499   | 10 TRINITY SQUARE HOTEL LIMITED                      | False | 2020/04/05 00:00:00 | 2020/03/19 15:51:20 |\n| 3 | 1LIFE MANAGEMENT SOLUTIONS LIMITED                   |   687 | Ldh House St Ives Business Park, Parsons Green, St. Ives, Cambridgeshire, PE27 4AA    | PE27 4AA | 02566586 | 93110,\n93130,\n93290 | 11.0 | -0.5 |   81.5 |   94.2 | ⋯ | 57.7 | 44.2 | 55.8 | https://www.1life.co.uk/gender-pay-gap                                                                               | Mark Braithwaite (Managing Director)                  | 250 to 499   | 1LIFE MANAGEMENT SOLUTIONS LIMITED                   | False | 2020/04/05 00:00:00 | 2020/03/10 17:03:17 |\n| 4 | 1ST CHOICE STAFF RECRUITMENT LIMITED                 | 18136 | 1ST CHOICE RECRUITMENT, 8 St. Loyes Street, Bedford, MK40 1EP                         | MK40 1EP | 07972006 | 78109                 | -2.3 |  0.0 | -114.8 | -249.3 | ⋯ | 37.1 | 50.0 | 50.0 | https://www.1stchoice.net/gender-pay-gap-report-2019/                                                                | Gill Knight (MD)                                      | 250 to 499   | 1ST CHOICE STAFF RECRUITMENT LIMITED                 | False | 2020/04/05 00:00:00 | 2020/01/24 09:37:01 |\n| 5 | 1ST HOME CARE LTD.                                   | 17484 | Real Life Options, 35 East Port, Dunfermline, Fife, Scotland, KY12 7LG                | KY12 7LG | SC272838 | 86900,\n88100         | -2.0 |  0.5 |     NA |     NA | ⋯ | 91.0 |  9.0 | 91.0 | https://reallifeoptions.org/                                                                                         | Ian Hardcastle (Chief Operating Officer)              | 250 to 499   | 1ST HOME CARE LTD.                                   | False | 2020/04/05 00:00:00 | 2020/03/12 08:21:06 |\n| 6 | 2 SISTERS FOOD GROUP LIMITED                         |    77 | Trinity Park House Trinity Business Park, Fox Way, Wakefield, West Yorkshire, WF2 8EE | WF2 8EE  | 02826929 | 10120                 | 25.0 |  7.3 |   65.0 |    7.6 | ⋯ | 46.4 | 65.9 | 34.1 | https://www.2sfg.com/PDF/2sfg-GenderPay-2020.pdf                                                                     | Lee Greenbury (Group Director of People &amp; Compliance) | 1000 to 4999 | 2 SISTERS FOOD GROUP LIMITED                         | False | 2020/04/05 00:00:00 | 2021/09/30 12:54:30 |\n\n",
            "text/latex": "A data.frame: 6 × 27\n\\begin{tabular}{r|lllllllllllllllllllll}\n  & EmployerName & EmployerId & address & PostCode & CompanyNumber & SicCodes & DiffMeanHourlyPercent & DiffMedianHourlyPercent & DiffMeanBonusPercent & DiffMedianBonusPercent & ⋯ & FemaleUpperMiddleQuartile & MaleTopQuartile & FemaleTopQuartile & CompanyLinkToGPGInfo & ResponsiblePerson & EmployerSize & CurrentName & SubmittedAfterTheDeadline & DueDate & DateSubmitted\\\\\n  & <chr> & <int> & <chr> & <chr> & <chr> & <chr> & <dbl> & <dbl> & <dbl> & <dbl> & ⋯ & <dbl> & <dbl> & <dbl> & <chr> & <chr> & <chr> & <chr> & <chr> & <chr> & <chr>\\\\\n\\hline\n\t1 & 'PRIFYSGOL ABERYSTWYTH' AND 'ABERYSTWYTH UNIVERSITY' & 19070 & Aberystwyth University, Penglais, Ceredigion, SY23 3FL                                & SY23 3FL & RC000641 &                       & 11.5 & 10.3 &     NA &     NA & ⋯ & 60.0 & 62.0 & 38.0 & https://www.aber.ac.uk/en/equality/genderpaygapreporting2019/ \n\nhttps://www.aber.ac.uk/cy/equality/gender-pay-gap/ & Elizabeth Treasure (Vice-Chancellor)                  & 1000 to 4999 & 'PRIFYSGOL ABERYSTWYTH' AND 'ABERYSTWYTH UNIVERSITY' & False & 2020/04/05 00:00:00 & 2020/04/03 14:47:45\\\\\n\t2 & 10 TRINITY SQUARE HOTEL LIMITED                      & 19455 & 5 Market Yard Mews, 194-204 Bermondsey Street, London, United Kingdom, SE1 3TQ        & SE1 3TQ  & 08064685 & 82990                 &  8.7 & 10.3 &   29.6 &   54.5 & ⋯ & 21.1 & 66.7 & 33.3 &                                                                                                                      & Linda Stigter (Director of People and Culture)        & 250 to 499   & 10 TRINITY SQUARE HOTEL LIMITED                      & False & 2020/04/05 00:00:00 & 2020/03/19 15:51:20\\\\\n\t3 & 1LIFE MANAGEMENT SOLUTIONS LIMITED                   &   687 & Ldh House St Ives Business Park, Parsons Green, St. Ives, Cambridgeshire, PE27 4AA    & PE27 4AA & 02566586 & 93110,\n93130,\n93290 & 11.0 & -0.5 &   81.5 &   94.2 & ⋯ & 57.7 & 44.2 & 55.8 & https://www.1life.co.uk/gender-pay-gap                                                                               & Mark Braithwaite (Managing Director)                  & 250 to 499   & 1LIFE MANAGEMENT SOLUTIONS LIMITED                   & False & 2020/04/05 00:00:00 & 2020/03/10 17:03:17\\\\\n\t4 & 1ST CHOICE STAFF RECRUITMENT LIMITED                 & 18136 & 1ST CHOICE RECRUITMENT, 8 St. Loyes Street, Bedford, MK40 1EP                         & MK40 1EP & 07972006 & 78109                 & -2.3 &  0.0 & -114.8 & -249.3 & ⋯ & 37.1 & 50.0 & 50.0 & https://www.1stchoice.net/gender-pay-gap-report-2019/                                                                & Gill Knight (MD)                                      & 250 to 499   & 1ST CHOICE STAFF RECRUITMENT LIMITED                 & False & 2020/04/05 00:00:00 & 2020/01/24 09:37:01\\\\\n\t5 & 1ST HOME CARE LTD.                                   & 17484 & Real Life Options, 35 East Port, Dunfermline, Fife, Scotland, KY12 7LG                & KY12 7LG & SC272838 & 86900,\n88100         & -2.0 &  0.5 &     NA &     NA & ⋯ & 91.0 &  9.0 & 91.0 & https://reallifeoptions.org/                                                                                         & Ian Hardcastle (Chief Operating Officer)              & 250 to 499   & 1ST HOME CARE LTD.                                   & False & 2020/04/05 00:00:00 & 2020/03/12 08:21:06\\\\\n\t6 & 2 SISTERS FOOD GROUP LIMITED                         &    77 & Trinity Park House Trinity Business Park, Fox Way, Wakefield, West Yorkshire, WF2 8EE & WF2 8EE  & 02826929 & 10120                 & 25.0 &  7.3 &   65.0 &    7.6 & ⋯ & 46.4 & 65.9 & 34.1 & https://www.2sfg.com/PDF/2sfg-GenderPay-2020.pdf                                                                     & Lee Greenbury (Group Director of People \\& Compliance) & 1000 to 4999 & 2 SISTERS FOOD GROUP LIMITED                         & False & 2020/04/05 00:00:00 & 2021/09/30 12:54:30\\\\\n\\end{tabular}\n",
            "text/plain": [
              "  EmployerName                                         EmployerId\n",
              "1 'PRIFYSGOL ABERYSTWYTH' AND 'ABERYSTWYTH UNIVERSITY' 19070     \n",
              "2 10 TRINITY SQUARE HOTEL LIMITED                      19455     \n",
              "3 1LIFE MANAGEMENT SOLUTIONS LIMITED                     687     \n",
              "4 1ST CHOICE STAFF RECRUITMENT LIMITED                 18136     \n",
              "5 1ST HOME CARE LTD.                                   17484     \n",
              "6 2 SISTERS FOOD GROUP LIMITED                            77     \n",
              "  address                                                                              \n",
              "1 Aberystwyth University, Penglais, Ceredigion, SY23 3FL                               \n",
              "2 5 Market Yard Mews, 194-204 Bermondsey Street, London, United Kingdom, SE1 3TQ       \n",
              "3 Ldh House St Ives Business Park, Parsons Green, St. Ives, Cambridgeshire, PE27 4AA   \n",
              "4 1ST CHOICE RECRUITMENT, 8 St. Loyes Street, Bedford, MK40 1EP                        \n",
              "5 Real Life Options, 35 East Port, Dunfermline, Fife, Scotland, KY12 7LG               \n",
              "6 Trinity Park House Trinity Business Park, Fox Way, Wakefield, West Yorkshire, WF2 8EE\n",
              "  PostCode CompanyNumber SicCodes              DiffMeanHourlyPercent\n",
              "1 SY23 3FL RC000641                            11.5                 \n",
              "2 SE1 3TQ  08064685      82990                  8.7                 \n",
              "3 PE27 4AA 02566586      93110,\\n93130,\\n93290 11.0                 \n",
              "4 MK40 1EP 07972006      78109                 -2.3                 \n",
              "5 KY12 7LG SC272838      86900,\\n88100         -2.0                 \n",
              "6 WF2 8EE  02826929      10120                 25.0                 \n",
              "  DiffMedianHourlyPercent DiffMeanBonusPercent DiffMedianBonusPercent ⋯\n",
              "1 10.3                        NA                   NA                 ⋯\n",
              "2 10.3                      29.6                 54.5                 ⋯\n",
              "3 -0.5                      81.5                 94.2                 ⋯\n",
              "4  0.0                    -114.8               -249.3                 ⋯\n",
              "5  0.5                        NA                   NA                 ⋯\n",
              "6  7.3                      65.0                  7.6                 ⋯\n",
              "  FemaleUpperMiddleQuartile MaleTopQuartile FemaleTopQuartile\n",
              "1 60.0                      62.0            38.0             \n",
              "2 21.1                      66.7            33.3             \n",
              "3 57.7                      44.2            55.8             \n",
              "4 37.1                      50.0            50.0             \n",
              "5 91.0                       9.0            91.0             \n",
              "6 46.4                      65.9            34.1             \n",
              "  CompanyLinkToGPGInfo                                                                                                \n",
              "1 https://www.aber.ac.uk/en/equality/genderpaygapreporting2019/ \\n\\nhttps://www.aber.ac.uk/cy/equality/gender-pay-gap/\n",
              "2                                                                                                                     \n",
              "3 https://www.1life.co.uk/gender-pay-gap                                                                              \n",
              "4 https://www.1stchoice.net/gender-pay-gap-report-2019/                                                               \n",
              "5 https://reallifeoptions.org/                                                                                        \n",
              "6 https://www.2sfg.com/PDF/2sfg-GenderPay-2020.pdf                                                                    \n",
              "  ResponsiblePerson                                     EmployerSize\n",
              "1 Elizabeth Treasure (Vice-Chancellor)                  1000 to 4999\n",
              "2 Linda Stigter (Director of People and Culture)        250 to 499  \n",
              "3 Mark Braithwaite (Managing Director)                  250 to 499  \n",
              "4 Gill Knight (MD)                                      250 to 499  \n",
              "5 Ian Hardcastle (Chief Operating Officer)              250 to 499  \n",
              "6 Lee Greenbury (Group Director of People & Compliance) 1000 to 4999\n",
              "  CurrentName                                         \n",
              "1 'PRIFYSGOL ABERYSTWYTH' AND 'ABERYSTWYTH UNIVERSITY'\n",
              "2 10 TRINITY SQUARE HOTEL LIMITED                     \n",
              "3 1LIFE MANAGEMENT SOLUTIONS LIMITED                  \n",
              "4 1ST CHOICE STAFF RECRUITMENT LIMITED                \n",
              "5 1ST HOME CARE LTD.                                  \n",
              "6 2 SISTERS FOOD GROUP LIMITED                        \n",
              "  SubmittedAfterTheDeadline DueDate             DateSubmitted      \n",
              "1 False                     2020/04/05 00:00:00 2020/04/03 14:47:45\n",
              "2 False                     2020/04/05 00:00:00 2020/03/19 15:51:20\n",
              "3 False                     2020/04/05 00:00:00 2020/03/10 17:03:17\n",
              "4 False                     2020/04/05 00:00:00 2020/01/24 09:37:01\n",
              "5 False                     2020/04/05 00:00:00 2020/03/12 08:21:06\n",
              "6 False                     2020/04/05 00:00:00 2021/09/30 12:54:30"
            ]
          },
          "metadata": {}
        }
      ]
    },
    {
      "cell_type": "markdown",
      "source": [
        "#Adding/Changing Columns"
      ],
      "metadata": {
        "id": "DaXh14-LbcEG"
      }
    },
    {
      "cell_type": "code",
      "source": [
        "paygap <- mutate(paygap, DiffMeanHourlyPercentTimes2 = (DiffMeanHourlyPercent*2))"
      ],
      "metadata": {
        "id": "SiN-bAWSbf3O"
      },
      "execution_count": 49,
      "outputs": []
    },
    {
      "cell_type": "code",
      "source": [
        "head(paygap)"
      ],
      "metadata": {
        "colab": {
          "base_uri": "https://localhost:8080/",
          "height": 810
        },
        "id": "UHvq37racklU",
        "outputId": "d3ef4438-dddd-402c-e54f-5fea210ad4f7"
      },
      "execution_count": 50,
      "outputs": [
        {
          "output_type": "display_data",
          "data": {
            "text/html": [
              "<table class=\"dataframe\">\n",
              "<caption>A data.frame: 6 × 28</caption>\n",
              "<thead>\n",
              "\t<tr><th></th><th scope=col>EmployerName</th><th scope=col>EmployerId</th><th scope=col>address</th><th scope=col>PostCode</th><th scope=col>CompanyNumber</th><th scope=col>SicCodes</th><th scope=col>DiffMeanHourlyPercent</th><th scope=col>DiffMedianHourlyPercent</th><th scope=col>DiffMeanBonusPercent</th><th scope=col>DiffMedianBonusPercent</th><th scope=col>⋯</th><th scope=col>MaleTopQuartile</th><th scope=col>FemaleTopQuartile</th><th scope=col>CompanyLinkToGPGInfo</th><th scope=col>ResponsiblePerson</th><th scope=col>EmployerSize</th><th scope=col>CurrentName</th><th scope=col>SubmittedAfterTheDeadline</th><th scope=col>DueDate</th><th scope=col>DateSubmitted</th><th scope=col>DiffMeanHourlyPercentTimes2</th></tr>\n",
              "\t<tr><th></th><th scope=col>&lt;chr&gt;</th><th scope=col>&lt;int&gt;</th><th scope=col>&lt;chr&gt;</th><th scope=col>&lt;chr&gt;</th><th scope=col>&lt;chr&gt;</th><th scope=col>&lt;chr&gt;</th><th scope=col>&lt;dbl&gt;</th><th scope=col>&lt;dbl&gt;</th><th scope=col>&lt;dbl&gt;</th><th scope=col>&lt;dbl&gt;</th><th scope=col>⋯</th><th scope=col>&lt;dbl&gt;</th><th scope=col>&lt;dbl&gt;</th><th scope=col>&lt;chr&gt;</th><th scope=col>&lt;chr&gt;</th><th scope=col>&lt;chr&gt;</th><th scope=col>&lt;chr&gt;</th><th scope=col>&lt;lgl&gt;</th><th scope=col>&lt;chr&gt;</th><th scope=col>&lt;chr&gt;</th><th scope=col>&lt;dbl&gt;</th></tr>\n",
              "</thead>\n",
              "<tbody>\n",
              "\t<tr><th scope=row>1</th><td>'PRIFYSGOL ABERYSTWYTH' AND 'ABERYSTWYTH UNIVERSITY'</td><td>19070</td><td>Aberystwyth University, Penglais, Ceredigion, SY23 3FL                               </td><td>SY23 3FL</td><td>RC000641</td><td>                     </td><td>11.5</td><td>10.3</td><td>    NA</td><td>    NA</td><td>⋯</td><td>62.0</td><td>38.0</td><td>https://www.aber.ac.uk/en/equality/genderpaygapreporting2019/ \n",
              "\n",
              "https://www.aber.ac.uk/cy/equality/gender-pay-gap/</td><td>Elizabeth Treasure (Vice-Chancellor)                 </td><td>1000 to 4999</td><td>'PRIFYSGOL ABERYSTWYTH' AND 'ABERYSTWYTH UNIVERSITY'</td><td>NA</td><td>2020/04/05 00:00:00</td><td>2020/04/03 14:47:45</td><td>23.0</td></tr>\n",
              "\t<tr><th scope=row>2</th><td>10 TRINITY SQUARE HOTEL LIMITED                     </td><td>19455</td><td>5 Market Yard Mews, 194-204 Bermondsey Street, London, United Kingdom, SE1 3TQ       </td><td>SE1 3TQ </td><td>08064685</td><td>82990                </td><td> 8.7</td><td>10.3</td><td>  29.6</td><td>  54.5</td><td>⋯</td><td>66.7</td><td>33.3</td><td>                                                                                                                    </td><td>Linda Stigter (Director of People and Culture)       </td><td>250 to 499  </td><td>10 TRINITY SQUARE HOTEL LIMITED                     </td><td>NA</td><td>2020/04/05 00:00:00</td><td>2020/03/19 15:51:20</td><td>17.4</td></tr>\n",
              "\t<tr><th scope=row>3</th><td>1LIFE MANAGEMENT SOLUTIONS LIMITED                  </td><td>  687</td><td>Ldh House St Ives Business Park, Parsons Green, St. Ives, Cambridgeshire, PE27 4AA   </td><td>PE27 4AA</td><td>02566586</td><td>93110,\n",
              "93130,\n",
              "93290</td><td>11.0</td><td>-0.5</td><td>  81.5</td><td>  94.2</td><td>⋯</td><td>44.2</td><td>55.8</td><td>https://www.1life.co.uk/gender-pay-gap                                                                              </td><td>Mark Braithwaite (Managing Director)                 </td><td>250 to 499  </td><td>1LIFE MANAGEMENT SOLUTIONS LIMITED                  </td><td>NA</td><td>2020/04/05 00:00:00</td><td>2020/03/10 17:03:17</td><td>22.0</td></tr>\n",
              "\t<tr><th scope=row>4</th><td>1ST CHOICE STAFF RECRUITMENT LIMITED                </td><td>18136</td><td>1ST CHOICE RECRUITMENT, 8 St. Loyes Street, Bedford, MK40 1EP                        </td><td>MK40 1EP</td><td>07972006</td><td>78109                </td><td>-2.3</td><td> 0.0</td><td>-114.8</td><td>-249.3</td><td>⋯</td><td>50.0</td><td>50.0</td><td>https://www.1stchoice.net/gender-pay-gap-report-2019/                                                               </td><td>Gill Knight (MD)                                     </td><td>250 to 499  </td><td>1ST CHOICE STAFF RECRUITMENT LIMITED                </td><td>NA</td><td>2020/04/05 00:00:00</td><td>2020/01/24 09:37:01</td><td>-4.6</td></tr>\n",
              "\t<tr><th scope=row>5</th><td>1ST HOME CARE LTD.                                  </td><td>17484</td><td>Real Life Options, 35 East Port, Dunfermline, Fife, Scotland, KY12 7LG               </td><td>KY12 7LG</td><td>SC272838</td><td>86900,\n",
              "88100        </td><td>-2.0</td><td> 0.5</td><td>    NA</td><td>    NA</td><td>⋯</td><td> 9.0</td><td>91.0</td><td>https://reallifeoptions.org/                                                                                        </td><td>Ian Hardcastle (Chief Operating Officer)             </td><td>250 to 499  </td><td>1ST HOME CARE LTD.                                  </td><td>NA</td><td>2020/04/05 00:00:00</td><td>2020/03/12 08:21:06</td><td>-4.0</td></tr>\n",
              "\t<tr><th scope=row>6</th><td><span style=white-space:pre-wrap>2 SISTERS FOOD GROUP LIMITED                        </span></td><td><span style=white-space:pre-wrap>   77</span></td><td>Trinity Park House Trinity Business Park, Fox Way, Wakefield, West Yorkshire, WF2 8EE</td><td>WF2 8EE </td><td>02826929</td><td><span style=white-space:pre-wrap>10120                </span></td><td>25.0</td><td> 7.3</td><td><span style=white-space:pre-wrap>  65.0</span></td><td><span style=white-space:pre-wrap>   7.6</span></td><td>⋯</td><td>65.9</td><td>34.1</td><td><span style=white-space:pre-wrap>https://www.2sfg.com/PDF/2sfg-GenderPay-2020.pdf                                                                    </span></td><td>Lee Greenbury (Group Director of People &amp; Compliance)</td><td>1000 to 4999</td><td><span style=white-space:pre-wrap>2 SISTERS FOOD GROUP LIMITED                        </span></td><td>NA</td><td>2020/04/05 00:00:00</td><td>2021/09/30 12:54:30</td><td>50.0</td></tr>\n",
              "</tbody>\n",
              "</table>\n"
            ],
            "text/markdown": "\nA data.frame: 6 × 28\n\n| <!--/--> | EmployerName &lt;chr&gt; | EmployerId &lt;int&gt; | address &lt;chr&gt; | PostCode &lt;chr&gt; | CompanyNumber &lt;chr&gt; | SicCodes &lt;chr&gt; | DiffMeanHourlyPercent &lt;dbl&gt; | DiffMedianHourlyPercent &lt;dbl&gt; | DiffMeanBonusPercent &lt;dbl&gt; | DiffMedianBonusPercent &lt;dbl&gt; | ⋯ ⋯ | MaleTopQuartile &lt;dbl&gt; | FemaleTopQuartile &lt;dbl&gt; | CompanyLinkToGPGInfo &lt;chr&gt; | ResponsiblePerson &lt;chr&gt; | EmployerSize &lt;chr&gt; | CurrentName &lt;chr&gt; | SubmittedAfterTheDeadline &lt;lgl&gt; | DueDate &lt;chr&gt; | DateSubmitted &lt;chr&gt; | DiffMeanHourlyPercentTimes2 &lt;dbl&gt; |\n|---|---|---|---|---|---|---|---|---|---|---|---|---|---|---|---|---|---|---|---|---|---|\n| 1 | 'PRIFYSGOL ABERYSTWYTH' AND 'ABERYSTWYTH UNIVERSITY' | 19070 | Aberystwyth University, Penglais, Ceredigion, SY23 3FL                                | SY23 3FL | RC000641 | <!----> | 11.5 | 10.3 |     NA |     NA | ⋯ | 62.0 | 38.0 | https://www.aber.ac.uk/en/equality/genderpaygapreporting2019/ \n\nhttps://www.aber.ac.uk/cy/equality/gender-pay-gap/ | Elizabeth Treasure (Vice-Chancellor)                  | 1000 to 4999 | 'PRIFYSGOL ABERYSTWYTH' AND 'ABERYSTWYTH UNIVERSITY' | NA | 2020/04/05 00:00:00 | 2020/04/03 14:47:45 | 23.0 |\n| 2 | 10 TRINITY SQUARE HOTEL LIMITED                      | 19455 | 5 Market Yard Mews, 194-204 Bermondsey Street, London, United Kingdom, SE1 3TQ        | SE1 3TQ  | 08064685 | 82990                 |  8.7 | 10.3 |   29.6 |   54.5 | ⋯ | 66.7 | 33.3 | <!----> | Linda Stigter (Director of People and Culture)        | 250 to 499   | 10 TRINITY SQUARE HOTEL LIMITED                      | NA | 2020/04/05 00:00:00 | 2020/03/19 15:51:20 | 17.4 |\n| 3 | 1LIFE MANAGEMENT SOLUTIONS LIMITED                   |   687 | Ldh House St Ives Business Park, Parsons Green, St. Ives, Cambridgeshire, PE27 4AA    | PE27 4AA | 02566586 | 93110,\n93130,\n93290 | 11.0 | -0.5 |   81.5 |   94.2 | ⋯ | 44.2 | 55.8 | https://www.1life.co.uk/gender-pay-gap                                                                               | Mark Braithwaite (Managing Director)                  | 250 to 499   | 1LIFE MANAGEMENT SOLUTIONS LIMITED                   | NA | 2020/04/05 00:00:00 | 2020/03/10 17:03:17 | 22.0 |\n| 4 | 1ST CHOICE STAFF RECRUITMENT LIMITED                 | 18136 | 1ST CHOICE RECRUITMENT, 8 St. Loyes Street, Bedford, MK40 1EP                         | MK40 1EP | 07972006 | 78109                 | -2.3 |  0.0 | -114.8 | -249.3 | ⋯ | 50.0 | 50.0 | https://www.1stchoice.net/gender-pay-gap-report-2019/                                                                | Gill Knight (MD)                                      | 250 to 499   | 1ST CHOICE STAFF RECRUITMENT LIMITED                 | NA | 2020/04/05 00:00:00 | 2020/01/24 09:37:01 | -4.6 |\n| 5 | 1ST HOME CARE LTD.                                   | 17484 | Real Life Options, 35 East Port, Dunfermline, Fife, Scotland, KY12 7LG                | KY12 7LG | SC272838 | 86900,\n88100         | -2.0 |  0.5 |     NA |     NA | ⋯ |  9.0 | 91.0 | https://reallifeoptions.org/                                                                                         | Ian Hardcastle (Chief Operating Officer)              | 250 to 499   | 1ST HOME CARE LTD.                                   | NA | 2020/04/05 00:00:00 | 2020/03/12 08:21:06 | -4.0 |\n| 6 | 2 SISTERS FOOD GROUP LIMITED                         |    77 | Trinity Park House Trinity Business Park, Fox Way, Wakefield, West Yorkshire, WF2 8EE | WF2 8EE  | 02826929 | 10120                 | 25.0 |  7.3 |   65.0 |    7.6 | ⋯ | 65.9 | 34.1 | https://www.2sfg.com/PDF/2sfg-GenderPay-2020.pdf                                                                     | Lee Greenbury (Group Director of People &amp; Compliance) | 1000 to 4999 | 2 SISTERS FOOD GROUP LIMITED                         | NA | 2020/04/05 00:00:00 | 2021/09/30 12:54:30 | 50.0 |\n\n",
            "text/latex": "A data.frame: 6 × 28\n\\begin{tabular}{r|lllllllllllllllllllll}\n  & EmployerName & EmployerId & address & PostCode & CompanyNumber & SicCodes & DiffMeanHourlyPercent & DiffMedianHourlyPercent & DiffMeanBonusPercent & DiffMedianBonusPercent & ⋯ & MaleTopQuartile & FemaleTopQuartile & CompanyLinkToGPGInfo & ResponsiblePerson & EmployerSize & CurrentName & SubmittedAfterTheDeadline & DueDate & DateSubmitted & DiffMeanHourlyPercentTimes2\\\\\n  & <chr> & <int> & <chr> & <chr> & <chr> & <chr> & <dbl> & <dbl> & <dbl> & <dbl> & ⋯ & <dbl> & <dbl> & <chr> & <chr> & <chr> & <chr> & <lgl> & <chr> & <chr> & <dbl>\\\\\n\\hline\n\t1 & 'PRIFYSGOL ABERYSTWYTH' AND 'ABERYSTWYTH UNIVERSITY' & 19070 & Aberystwyth University, Penglais, Ceredigion, SY23 3FL                                & SY23 3FL & RC000641 &                       & 11.5 & 10.3 &     NA &     NA & ⋯ & 62.0 & 38.0 & https://www.aber.ac.uk/en/equality/genderpaygapreporting2019/ \n\nhttps://www.aber.ac.uk/cy/equality/gender-pay-gap/ & Elizabeth Treasure (Vice-Chancellor)                  & 1000 to 4999 & 'PRIFYSGOL ABERYSTWYTH' AND 'ABERYSTWYTH UNIVERSITY' & NA & 2020/04/05 00:00:00 & 2020/04/03 14:47:45 & 23.0\\\\\n\t2 & 10 TRINITY SQUARE HOTEL LIMITED                      & 19455 & 5 Market Yard Mews, 194-204 Bermondsey Street, London, United Kingdom, SE1 3TQ        & SE1 3TQ  & 08064685 & 82990                 &  8.7 & 10.3 &   29.6 &   54.5 & ⋯ & 66.7 & 33.3 &                                                                                                                      & Linda Stigter (Director of People and Culture)        & 250 to 499   & 10 TRINITY SQUARE HOTEL LIMITED                      & NA & 2020/04/05 00:00:00 & 2020/03/19 15:51:20 & 17.4\\\\\n\t3 & 1LIFE MANAGEMENT SOLUTIONS LIMITED                   &   687 & Ldh House St Ives Business Park, Parsons Green, St. Ives, Cambridgeshire, PE27 4AA    & PE27 4AA & 02566586 & 93110,\n93130,\n93290 & 11.0 & -0.5 &   81.5 &   94.2 & ⋯ & 44.2 & 55.8 & https://www.1life.co.uk/gender-pay-gap                                                                               & Mark Braithwaite (Managing Director)                  & 250 to 499   & 1LIFE MANAGEMENT SOLUTIONS LIMITED                   & NA & 2020/04/05 00:00:00 & 2020/03/10 17:03:17 & 22.0\\\\\n\t4 & 1ST CHOICE STAFF RECRUITMENT LIMITED                 & 18136 & 1ST CHOICE RECRUITMENT, 8 St. Loyes Street, Bedford, MK40 1EP                         & MK40 1EP & 07972006 & 78109                 & -2.3 &  0.0 & -114.8 & -249.3 & ⋯ & 50.0 & 50.0 & https://www.1stchoice.net/gender-pay-gap-report-2019/                                                                & Gill Knight (MD)                                      & 250 to 499   & 1ST CHOICE STAFF RECRUITMENT LIMITED                 & NA & 2020/04/05 00:00:00 & 2020/01/24 09:37:01 & -4.6\\\\\n\t5 & 1ST HOME CARE LTD.                                   & 17484 & Real Life Options, 35 East Port, Dunfermline, Fife, Scotland, KY12 7LG                & KY12 7LG & SC272838 & 86900,\n88100         & -2.0 &  0.5 &     NA &     NA & ⋯ &  9.0 & 91.0 & https://reallifeoptions.org/                                                                                         & Ian Hardcastle (Chief Operating Officer)              & 250 to 499   & 1ST HOME CARE LTD.                                   & NA & 2020/04/05 00:00:00 & 2020/03/12 08:21:06 & -4.0\\\\\n\t6 & 2 SISTERS FOOD GROUP LIMITED                         &    77 & Trinity Park House Trinity Business Park, Fox Way, Wakefield, West Yorkshire, WF2 8EE & WF2 8EE  & 02826929 & 10120                 & 25.0 &  7.3 &   65.0 &    7.6 & ⋯ & 65.9 & 34.1 & https://www.2sfg.com/PDF/2sfg-GenderPay-2020.pdf                                                                     & Lee Greenbury (Group Director of People \\& Compliance) & 1000 to 4999 & 2 SISTERS FOOD GROUP LIMITED                         & NA & 2020/04/05 00:00:00 & 2021/09/30 12:54:30 & 50.0\\\\\n\\end{tabular}\n",
            "text/plain": [
              "  EmployerName                                         EmployerId\n",
              "1 'PRIFYSGOL ABERYSTWYTH' AND 'ABERYSTWYTH UNIVERSITY' 19070     \n",
              "2 10 TRINITY SQUARE HOTEL LIMITED                      19455     \n",
              "3 1LIFE MANAGEMENT SOLUTIONS LIMITED                     687     \n",
              "4 1ST CHOICE STAFF RECRUITMENT LIMITED                 18136     \n",
              "5 1ST HOME CARE LTD.                                   17484     \n",
              "6 2 SISTERS FOOD GROUP LIMITED                            77     \n",
              "  address                                                                              \n",
              "1 Aberystwyth University, Penglais, Ceredigion, SY23 3FL                               \n",
              "2 5 Market Yard Mews, 194-204 Bermondsey Street, London, United Kingdom, SE1 3TQ       \n",
              "3 Ldh House St Ives Business Park, Parsons Green, St. Ives, Cambridgeshire, PE27 4AA   \n",
              "4 1ST CHOICE RECRUITMENT, 8 St. Loyes Street, Bedford, MK40 1EP                        \n",
              "5 Real Life Options, 35 East Port, Dunfermline, Fife, Scotland, KY12 7LG               \n",
              "6 Trinity Park House Trinity Business Park, Fox Way, Wakefield, West Yorkshire, WF2 8EE\n",
              "  PostCode CompanyNumber SicCodes              DiffMeanHourlyPercent\n",
              "1 SY23 3FL RC000641                            11.5                 \n",
              "2 SE1 3TQ  08064685      82990                  8.7                 \n",
              "3 PE27 4AA 02566586      93110,\\n93130,\\n93290 11.0                 \n",
              "4 MK40 1EP 07972006      78109                 -2.3                 \n",
              "5 KY12 7LG SC272838      86900,\\n88100         -2.0                 \n",
              "6 WF2 8EE  02826929      10120                 25.0                 \n",
              "  DiffMedianHourlyPercent DiffMeanBonusPercent DiffMedianBonusPercent ⋯\n",
              "1 10.3                        NA                   NA                 ⋯\n",
              "2 10.3                      29.6                 54.5                 ⋯\n",
              "3 -0.5                      81.5                 94.2                 ⋯\n",
              "4  0.0                    -114.8               -249.3                 ⋯\n",
              "5  0.5                        NA                   NA                 ⋯\n",
              "6  7.3                      65.0                  7.6                 ⋯\n",
              "  MaleTopQuartile FemaleTopQuartile\n",
              "1 62.0            38.0             \n",
              "2 66.7            33.3             \n",
              "3 44.2            55.8             \n",
              "4 50.0            50.0             \n",
              "5  9.0            91.0             \n",
              "6 65.9            34.1             \n",
              "  CompanyLinkToGPGInfo                                                                                                \n",
              "1 https://www.aber.ac.uk/en/equality/genderpaygapreporting2019/ \\n\\nhttps://www.aber.ac.uk/cy/equality/gender-pay-gap/\n",
              "2                                                                                                                     \n",
              "3 https://www.1life.co.uk/gender-pay-gap                                                                              \n",
              "4 https://www.1stchoice.net/gender-pay-gap-report-2019/                                                               \n",
              "5 https://reallifeoptions.org/                                                                                        \n",
              "6 https://www.2sfg.com/PDF/2sfg-GenderPay-2020.pdf                                                                    \n",
              "  ResponsiblePerson                                     EmployerSize\n",
              "1 Elizabeth Treasure (Vice-Chancellor)                  1000 to 4999\n",
              "2 Linda Stigter (Director of People and Culture)        250 to 499  \n",
              "3 Mark Braithwaite (Managing Director)                  250 to 499  \n",
              "4 Gill Knight (MD)                                      250 to 499  \n",
              "5 Ian Hardcastle (Chief Operating Officer)              250 to 499  \n",
              "6 Lee Greenbury (Group Director of People & Compliance) 1000 to 4999\n",
              "  CurrentName                                         \n",
              "1 'PRIFYSGOL ABERYSTWYTH' AND 'ABERYSTWYTH UNIVERSITY'\n",
              "2 10 TRINITY SQUARE HOTEL LIMITED                     \n",
              "3 1LIFE MANAGEMENT SOLUTIONS LIMITED                  \n",
              "4 1ST CHOICE STAFF RECRUITMENT LIMITED                \n",
              "5 1ST HOME CARE LTD.                                  \n",
              "6 2 SISTERS FOOD GROUP LIMITED                        \n",
              "  SubmittedAfterTheDeadline DueDate             DateSubmitted      \n",
              "1 NA                        2020/04/05 00:00:00 2020/04/03 14:47:45\n",
              "2 NA                        2020/04/05 00:00:00 2020/03/19 15:51:20\n",
              "3 NA                        2020/04/05 00:00:00 2020/03/10 17:03:17\n",
              "4 NA                        2020/04/05 00:00:00 2020/01/24 09:37:01\n",
              "5 NA                        2020/04/05 00:00:00 2020/03/12 08:21:06\n",
              "6 NA                        2020/04/05 00:00:00 2021/09/30 12:54:30\n",
              "  DiffMeanHourlyPercentTimes2\n",
              "1 23.0                       \n",
              "2 17.4                       \n",
              "3 22.0                       \n",
              "4 -4.6                       \n",
              "5 -4.0                       \n",
              "6 50.0                       "
            ]
          },
          "metadata": {}
        }
      ]
    },
    {
      "cell_type": "markdown",
      "source": [
        "#Filtering Data"
      ],
      "metadata": {
        "id": "WWyC1MMNgZyX"
      }
    },
    {
      "cell_type": "code",
      "source": [
        "large_employer <- filter(paygap, EmployerSize == '1000 to 4999')"
      ],
      "metadata": {
        "id": "YDTbk6xNgdV-"
      },
      "execution_count": 51,
      "outputs": []
    },
    {
      "cell_type": "code",
      "source": [
        "large_employer"
      ],
      "metadata": {
        "colab": {
          "base_uri": "https://localhost:8080/",
          "height": 1000
        },
        "id": "p1JBL4NtgvyD",
        "outputId": "332a6190-fbce-453b-e5d7-18a9388eaa90"
      },
      "execution_count": 52,
      "outputs": [
        {
          "output_type": "display_data",
          "data": {
            "text/html": [
              "<table class=\"dataframe\">\n",
              "<caption>A data.frame: 1649 × 28</caption>\n",
              "<thead>\n",
              "\t<tr><th scope=col>EmployerName</th><th scope=col>EmployerId</th><th scope=col>address</th><th scope=col>PostCode</th><th scope=col>CompanyNumber</th><th scope=col>SicCodes</th><th scope=col>DiffMeanHourlyPercent</th><th scope=col>DiffMedianHourlyPercent</th><th scope=col>DiffMeanBonusPercent</th><th scope=col>DiffMedianBonusPercent</th><th scope=col>⋯</th><th scope=col>MaleTopQuartile</th><th scope=col>FemaleTopQuartile</th><th scope=col>CompanyLinkToGPGInfo</th><th scope=col>ResponsiblePerson</th><th scope=col>EmployerSize</th><th scope=col>CurrentName</th><th scope=col>SubmittedAfterTheDeadline</th><th scope=col>DueDate</th><th scope=col>DateSubmitted</th><th scope=col>DiffMeanHourlyPercentTimes2</th></tr>\n",
              "\t<tr><th scope=col>&lt;chr&gt;</th><th scope=col>&lt;int&gt;</th><th scope=col>&lt;chr&gt;</th><th scope=col>&lt;chr&gt;</th><th scope=col>&lt;chr&gt;</th><th scope=col>&lt;chr&gt;</th><th scope=col>&lt;dbl&gt;</th><th scope=col>&lt;dbl&gt;</th><th scope=col>&lt;dbl&gt;</th><th scope=col>&lt;dbl&gt;</th><th scope=col>⋯</th><th scope=col>&lt;dbl&gt;</th><th scope=col>&lt;dbl&gt;</th><th scope=col>&lt;chr&gt;</th><th scope=col>&lt;chr&gt;</th><th scope=col>&lt;chr&gt;</th><th scope=col>&lt;chr&gt;</th><th scope=col>&lt;lgl&gt;</th><th scope=col>&lt;chr&gt;</th><th scope=col>&lt;chr&gt;</th><th scope=col>&lt;dbl&gt;</th></tr>\n",
              "</thead>\n",
              "<tbody>\n",
              "\t<tr><td>'PRIFYSGOL ABERYSTWYTH' AND 'ABERYSTWYTH UNIVERSITY'</td><td>19070</td><td>Aberystwyth University, Penglais, Ceredigion, SY23 3FL                                                      </td><td>SY23 3FL</td><td>RC000641</td><td>                                     </td><td>11.5</td><td> 10.3</td><td>   NA</td><td>   NA</td><td>⋯</td><td>62.0</td><td>38.0</td><td>https://www.aber.ac.uk/en/equality/genderpaygapreporting2019/ \n",
              "\n",
              "https://www.aber.ac.uk/cy/equality/gender-pay-gap/</td><td>Elizabeth Treasure (Vice-Chancellor)                 </td><td>1000 to 4999</td><td>'PRIFYSGOL ABERYSTWYTH' AND 'ABERYSTWYTH UNIVERSITY'</td><td>NA</td><td>2020/04/05 00:00:00</td><td>2020/04/03 14:47:45</td><td>23.0</td></tr>\n",
              "\t<tr><td><span style=white-space:pre-wrap>2 SISTERS FOOD GROUP LIMITED                        </span></td><td><span style=white-space:pre-wrap>   77</span></td><td><span style=white-space:pre-wrap>Trinity Park House Trinity Business Park, Fox Way, Wakefield, West Yorkshire, WF2 8EE                       </span></td><td>WF2 8EE </td><td>02826929</td><td><span style=white-space:pre-wrap>10120                                </span></td><td>25.0</td><td><span style=white-space:pre-wrap>  7.3</span></td><td> 65.0</td><td><span style=white-space:pre-wrap>  7.6</span></td><td>⋯</td><td>65.9</td><td>34.1</td><td><span style=white-space:pre-wrap>https://www.2sfg.com/PDF/2sfg-GenderPay-2020.pdf                                                                    </span></td><td>Lee Greenbury (Group Director of People &amp; Compliance)</td><td>1000 to 4999</td><td><span style=white-space:pre-wrap>2 SISTERS FOOD GROUP LIMITED                        </span></td><td>NA</td><td>2020/04/05 00:00:00</td><td>2021/09/30 12:54:30</td><td>50.0</td></tr>\n",
              "\t<tr><td>24 X 7 LTD.                                         </td><td>  695</td><td>Little Easton Manor Park Road, Little Easton, Dunmow, Essex, England, CM6 2JN                               </td><td>CM6 2JN </td><td>04142000</td><td>52290                                </td><td> 0.2</td><td>  0.0</td><td>   NA</td><td>   NA</td><td>⋯</td><td>44.0</td><td>56.0</td><td>                                                                                                                    </td><td>lisa hyem (fd)                                       </td><td>1000 to 4999</td><td>24 X 7 LTD.                                         </td><td>NA</td><td>2020/04/05 00:00:00</td><td>2021/10/12 09:31:56</td><td> 0.4</td></tr>\n",
              "\t<tr><td>2GETHER SUPPORT SOLUTIONS LIMITED                   </td><td>19676</td><td>Management Offices William Harvey Hospital, Kennington Road, Willesborough, Ashford, Kent, England, TN24 0LZ</td><td>TN24 0LZ</td><td>11385580</td><td>81100                                </td><td> 3.7</td><td>  0.0</td><td>   NA</td><td>   NA</td><td>⋯</td><td>53.5</td><td>46.5</td><td>https://2gethersupportsolutions.org/about-us/                                                                       </td><td>Finbarr Murray (Managing Director)                   </td><td>1000 to 4999</td><td>2GETHER SUPPORT SOLUTIONS LIMITED                   </td><td>NA</td><td>2020/04/05 00:00:00</td><td>2020/03/24 14:58:53</td><td> 7.4</td></tr>\n",
              "\t<tr><td><span style=white-space:pre-wrap>3663 TRANSPORT LIMITED                              </span></td><td><span style=white-space:pre-wrap>  697</span></td><td><span style=white-space:pre-wrap>814 Leigh Road, Slough, England, SL1 4BD                                                                    </span></td><td>SL1 4BD </td><td>00456846</td><td><span style=white-space:pre-wrap>52290                                </span></td><td> 1.4</td><td><span style=white-space:pre-wrap>  7.1</span></td><td> 47.4</td><td> 52.5</td><td>⋯</td><td>96.0</td><td> 4.0</td><td><span style=white-space:pre-wrap>https://www.bidfood.co.uk/gender-pay-gap-reports/                                                                   </span></td><td><span style=white-space:pre-wrap>Heather Angus (HR &amp; Sustainability Director)         </span></td><td>1000 to 4999</td><td><span style=white-space:pre-wrap>3663 TRANSPORT LIMITED                              </span></td><td>NA</td><td>2020/04/05 00:00:00</td><td>2020/05/14 16:07:39</td><td> 2.8</td></tr>\n",
              "\t<tr><td><span style=white-space:pre-wrap>3M UNITED KINGDOM PUBLIC LIMITED COMPANY            </span></td><td><span style=white-space:pre-wrap>  293</span></td><td><span style=white-space:pre-wrap>3m Centre, Cain Road, Bracknell, Berkshire, RG12 8HT                                                        </span></td><td>RG12 8HT</td><td>01123045</td><td><span style=white-space:pre-wrap>20301,\n",
              "23910,\n",
              "32990                </span></td><td>10.0</td><td><span style=white-space:pre-wrap>  8.0</span></td><td> 18.0</td><td> 28.0</td><td>⋯</td><td>71.0</td><td>29.0</td><td><span style=white-space:pre-wrap>                                                                                                                    </span></td><td><span style=white-space:pre-wrap>Katherine Parks (PR&amp; I Leader, North Europe)         </span></td><td>1000 to 4999</td><td><span style=white-space:pre-wrap>3M UNITED KINGDOM PUBLIC LIMITED COMPANY            </span></td><td>NA</td><td>2020/04/05 00:00:00</td><td>2020/03/17 13:02:54</td><td>20.0</td></tr>\n",
              "\t<tr><td>A-DAY CONSULTANTS LIMITED                           </td><td>15592</td><td>Kingston House Towers Business Park, Wilmslow Road, Manchester, England, M20 2LD                            </td><td>M20 2LD </td><td>04493101</td><td>78109                                </td><td>14.8</td><td> 17.9</td><td> 52.5</td><td> 28.0</td><td>⋯</td><td>38.9</td><td>61.1</td><td>https://www.academicsltd.co.uk/                                                                                     </td><td>Claire Tyrrell (Group HR Director)                   </td><td>1000 to 4999</td><td>A-DAY CONSULTANTS LIMITED                           </td><td>NA</td><td>2020/04/05 00:00:00</td><td>2020/03/25 16:19:41</td><td>29.6</td></tr>\n",
              "\t<tr><td>A-PLAN HOLDINGS                                     </td><td> 1330</td><td>2 Des Roches Square, Witney, Oxfordshire, OX28 4LE                                                          </td><td>OX28 4LE</td><td>00750484</td><td>66220                                </td><td>18.2</td><td>  8.6</td><td>  9.9</td><td> 13.0</td><td>⋯</td><td>71.0</td><td>29.0</td><td>https://www.aplan.co.uk/                                                                                            </td><td>Andrew Galbraith (Group Chief Financial Officer)     </td><td>1000 to 4999</td><td>A-PLAN HOLDINGS                                     </td><td>NA</td><td>2020/04/05 00:00:00</td><td>2020/03/09 09:08:57</td><td>36.4</td></tr>\n",
              "\t<tr><td><span style=white-space:pre-wrap>A. SHARE &amp; SONS LIMITED                             </span></td><td><span style=white-space:pre-wrap>  124</span></td><td><span style=white-space:pre-wrap>45-49 Villiers Street, Sunderland, SR1 1HA                                                                  </span></td><td>SR1 1HA </td><td>00323778</td><td><span style=white-space:pre-wrap>47530,\n",
              "47599                        </span></td><td>25.0</td><td> 31.0</td><td> 40.0</td><td> 85.0</td><td>⋯</td><td>84.0</td><td>16.0</td><td><span style=white-space:pre-wrap>https://www.scsplc.co.uk/                                                                                           </span></td><td><span style=white-space:pre-wrap>Marie Liston (Corporate Services Director)           </span></td><td>1000 to 4999</td><td><span style=white-space:pre-wrap>A. SHARE &amp; SONS LIMITED                             </span></td><td>NA</td><td>2020/04/05 00:00:00</td><td>2020/06/11 11:19:46</td><td>50.0</td></tr>\n",
              "\t<tr><td><span style=white-space:pre-wrap>A.B.M. CATERING LIMITED                             </span></td><td><span style=white-space:pre-wrap>  733</span></td><td><span style=white-space:pre-wrap>Eagle Court, 63-67 Saltisford, Warwick, Warwickshire, CV34 4AF                                              </span></td><td>CV34 4AF</td><td>04168334</td><td><span style=white-space:pre-wrap>56290,\n",
              "70100                        </span></td><td>21.7</td><td> 16.5</td><td>-70.3</td><td> 61.5</td><td>⋯</td><td>33.9</td><td>66.1</td><td><span style=white-space:pre-wrap>http://www.abmcatering.co.uk/wp-content/uploads/2019/07/Gender-Pay-Gap-Report-2018.pdf                              </span></td><td><span style=white-space:pre-wrap>Sue Hill (Finance &amp; HR Director - Operations)        </span></td><td>1000 to 4999</td><td><span style=white-space:pre-wrap>A.B.M. CATERING LIMITED                             </span></td><td>NA</td><td>2020/04/05 00:00:00</td><td>2020/01/29 12:20:31</td><td>43.4</td></tr>\n",
              "\t<tr><td>AAH PHARMACEUTICALS LIMITED                         </td><td>  757</td><td>Sapphire Court, Walsgrave Triangle, Coventry, CV2 2TX                                                       </td><td>CV2 2TX </td><td>00123458</td><td>21100,\n",
              "46460                        </td><td>10.7</td><td> -0.4</td><td> 48.0</td><td>-28.0</td><td>⋯</td><td>61.0</td><td>39.0</td><td>https://mckesson.uk/wp-content/uploads/2020/03/Gender-Pay-Gap-Report-2019-Final.pdf                                 </td><td>Jane Davies (HR Director)                            </td><td>1000 to 4999</td><td>AAH PHARMACEUTICALS LIMITED                         </td><td>NA</td><td>2020/04/05 00:00:00</td><td>2020/03/18 11:11:39</td><td>21.4</td></tr>\n",
              "\t<tr><td>AB AGRI LIMITED                                     </td><td>  762</td><td>Weston Centre, 10 Grosvenor Street, London, W1K 4QY                                                         </td><td>W1K 4QY </td><td>00193800</td><td>10910                                </td><td> 9.4</td><td>-11.8</td><td> 35.1</td><td> 32.6</td><td>⋯</td><td>72.0</td><td>28.0</td><td>https://www.abagri.com/responsibility/our-policies                                                                  </td><td>Jose Nobre (Chief Executive)                         </td><td>1000 to 4999</td><td>AB AGRI LIMITED                                     </td><td>NA</td><td>2020/04/05 00:00:00</td><td>2019/12/19 10:33:42</td><td>18.8</td></tr>\n",
              "\t<tr><td>ABB LIMITED                                         </td><td>  771</td><td>Daresbury Park, Daresbury, Warrington, Cheshire, WA4 4BT                                                    </td><td>WA4 4BT </td><td>03780764</td><td>27120,\n",
              "43210,\n",
              "46520,\n",
              "70100        </td><td>23.5</td><td> 30.6</td><td> 59.0</td><td> 25.0</td><td>⋯</td><td>87.9</td><td>12.1</td><td>https://new.abb.com/uk/about                                                                                        </td><td>Craig Prendergast (Country HR Manager)               </td><td>1000 to 4999</td><td>ABB LIMITED                                         </td><td>NA</td><td>2020/04/05 00:00:00</td><td>2020/04/01 20:27:38</td><td>47.0</td></tr>\n",
              "\t<tr><td>ABBEYFIELD SOCIETY (THE)                            </td><td>  776</td><td>St Peter's House, 2 Bricket Road, St. Albans, Hertfordshire, AL1 3JW                                        </td><td>AL1 3JW </td><td>00574816</td><td>55900,\n",
              "87300                        </td><td>25.0</td><td> 10.0</td><td>-14.0</td><td>  0.0</td><td>⋯</td><td>21.0</td><td>79.0</td><td>https://www.abbeyfield.com/about-us/our-financial-and-annual-reports/                                               </td><td>Gail Manley (HR Director)                            </td><td>1000 to 4999</td><td>ABBEYFIELD SOCIETY (THE)                            </td><td>NA</td><td>2020/04/05 00:00:00</td><td>2020/05/29 09:56:14</td><td>50.0</td></tr>\n",
              "\t<tr><td>ACADEMY TRANSFORMATION TRUST                        </td><td>14495</td><td>Emmanuel Court, Reddicroft, Sutton Coldfield, England, B73 6AZ                                              </td><td>B73 6AZ </td><td>07846852</td><td>1,\n",
              "1,\n",
              "85200,\n",
              "85310,\n",
              "85590,\n",
              "85600</td><td>22.9</td><td> 35.1</td><td> -4.5</td><td>-17.2</td><td>⋯</td><td>35.9</td><td>64.1</td><td>https://www.academytransformationtrust.co.uk/about-the-trust/company-information                                    </td><td>                                                     </td><td>1000 to 4999</td><td>ACADEMY TRANSFORMATION TRUST                        </td><td>NA</td><td>2020/03/31 00:00:00</td><td>2020/03/30 12:52:12</td><td>45.8</td></tr>\n",
              "\t<tr><td>ACCESS UK LTD                                       </td><td>  828</td><td>The Old School, School Lane, Stratford St Mary, Colchester, Essex,, CO7 6LZ                                 </td><td>CO7 6LZ </td><td>02343760</td><td>62090                                </td><td>23.0</td><td> 25.0</td><td> 37.7</td><td> 16.5</td><td>⋯</td><td>81.0</td><td>19.0</td><td>https://www.theaccessgroup.com/company/our-people-and-values/                                                       </td><td>Claire Scott (Chief People Officer)                  </td><td>1000 to 4999</td><td>ACCESS UK LTD                                       </td><td>NA</td><td>2020/04/05 00:00:00</td><td>2020/12/18 14:37:20</td><td>46.0</td></tr>\n",
              "\t<tr><td>Accord Housing Association Ltd                      </td><td>15369</td><td>178 Birmingham Road, West Bromwich, West Midlands, B706QG                                                   </td><td>B706QG  </td><td>        </td><td>41202,\n",
              "68201,\n",
              "87200,\n",
              "87300        </td><td>19.1</td><td>  7.8</td><td>   NA</td><td>   NA</td><td>⋯</td><td>31.0</td><td>69.0</td><td>                                                                                                                    </td><td>Christopher Handy (Chief Executive)                  </td><td>1000 to 4999</td><td>Accord Housing Association Ltd                      </td><td>NA</td><td>2020/04/05 00:00:00</td><td>2020/03/17 12:31:51</td><td>38.2</td></tr>\n",
              "\t<tr><td>ACTION FOR CHILDREN                                 </td><td>  874</td><td>ACTION FOR CHILDREN, 3 The Boulevard, Ascot Road, Watford, Hertfordshire, WD18 8AG                          </td><td>WD18 8AG</td><td>04764232</td><td>88910                                </td><td>14.0</td><td> 10.0</td><td>   NA</td><td>   NA</td><td>⋯</td><td>24.0</td><td>76.0</td><td>https://www.actionforchildren.org.uk/media/12984/gender-pay-gap-report.pdf                                          </td><td>Melanie Armstrong (Interim Chief Executive)          </td><td>1000 to 4999</td><td>ACTION FOR CHILDREN                                 </td><td>NA</td><td>2020/04/05 00:00:00</td><td>2020/05/04 13:22:30</td><td>28.0</td></tr>\n",
              "\t<tr><td>Activate Learning                                   </td><td>17170</td><td>Oxpens Road, Oxford, OX1 1SA                                                                                </td><td>OX1 1SA </td><td>        </td><td>1,\n",
              "85410                            </td><td> 8.6</td><td>  6.6</td><td> 79.8</td><td> 88.6</td><td>⋯</td><td>34.9</td><td>65.1</td><td>                                                                                                                    </td><td>                                                     </td><td>1000 to 4999</td><td>Activate Learning                                   </td><td>NA</td><td>2020/03/31 00:00:00</td><td>2020/04/28 11:47:08</td><td>17.2</td></tr>\n",
              "\t<tr><td>ADDISON MOTORS LIMITED                              </td><td>  896</td><td>Lookers House 3 Etchells Road, West Timperley, Altrincham, United Kingdom, WA14 5XS                         </td><td>WA14 5XS</td><td>00714804</td><td>45111                                </td><td>25.1</td><td> 13.6</td><td> 47.6</td><td> 42.8</td><td>⋯</td><td>82.7</td><td>17.3</td><td>https://www.lookersplc.com/our-business/our-responsibility/gender-pay/                                              </td><td>Chris Whitaker (Chief People Officer)                </td><td>1000 to 4999</td><td>ADDISON MOTORS LIMITED                              </td><td>NA</td><td>2020/04/05 00:00:00</td><td>2022/02/02 12:17:27</td><td>50.2</td></tr>\n",
              "\t<tr><td>ADECCO UK LIMITED                                   </td><td>  899</td><td>10 Bishops Square, London, England, E1 6EG                                                                  </td><td>E1 6EG  </td><td>00593232</td><td>78200                                </td><td>-3.8</td><td>  2.2</td><td>  7.2</td><td> 25.3</td><td>⋯</td><td>57.0</td><td>43.0</td><td>https://www.adecco.co.uk/gender-pay-gap                                                                             </td><td>Alex Fleming (Country Head, UK and Ireland)          </td><td>1000 to 4999</td><td>ADECCO UK LIMITED                                   </td><td>NA</td><td>2020/04/05 00:00:00</td><td>2020/04/02 15:19:43</td><td>-7.6</td></tr>\n",
              "\t<tr><td>Adrian Flux Insurance Services                      </td><td>17234</td><td>East Winch Hall, East Winch, Kings Lynn, PE32 1HN                                                           </td><td>PE32 1HN</td><td>        </td><td>66220                                </td><td>34.7</td><td>  5.1</td><td> 90.9</td><td> 50.9</td><td>⋯</td><td>56.0</td><td>44.0</td><td>https://www.adrianflux.co.uk/blog/wp-content/uploads/2020/03/AF5334-GenderPayUpdate2020.pdf                         </td><td>David Flux (Partner)                                 </td><td>1000 to 4999</td><td>Adrian Flux Insurance Services                      </td><td>NA</td><td>2020/04/05 00:00:00</td><td>2020/03/11 16:09:13</td><td>69.4</td></tr>\n",
              "\t<tr><td><span style=white-space:pre-wrap>AECOM INFRASTRUCTURE &amp; ENVIRONMENT UK LIMITED       </span></td><td><span style=white-space:pre-wrap>  946</span></td><td><span style=white-space:pre-wrap>Aldgate Tower, 2 Leman Street, London, United Kingdom, E1 8FA                                               </span></td><td><span style=white-space:pre-wrap>E1 8FA  </span></td><td>00880328</td><td><span style=white-space:pre-wrap>74901                                </span></td><td>18.0</td><td> 18.0</td><td> 40.0</td><td> 13.0</td><td>⋯</td><td>85.0</td><td>15.0</td><td><span style=white-space:pre-wrap>https://aecom.com/content/wp-content/uploads/2020/12/20083_Gender-pay-gap_RE_FINAL.pdf                              </span></td><td><span style=white-space:pre-wrap>Colin Wood (Chief Executive, Europe)                 </span></td><td>1000 to 4999</td><td><span style=white-space:pre-wrap>AECOM INFRASTRUCTURE &amp; ENVIRONMENT UK LIMITED       </span></td><td>NA</td><td>2020/04/05 00:00:00</td><td>2020/12/17 16:35:05</td><td>36.0</td></tr>\n",
              "\t<tr><td>AECOM LIMITED                                       </td><td>  947</td><td>Aldgate Tower, 2 Leman Street, London, United Kingdom, E1 8FA                                               </td><td>E1 8FA  </td><td>01846493</td><td>71122                                </td><td>21.3</td><td> 20.6</td><td>  6.0</td><td>  2.0</td><td>⋯</td><td>83.0</td><td>17.0</td><td>https://aecom.com/content/wp-content/uploads/2020/12/20083_Gender-pay-gap_RE_FINAL.pdf                              </td><td>Colin Wood (CEO, Europe)                             </td><td>1000 to 4999</td><td>AECOM LIMITED                                       </td><td>NA</td><td>2020/04/05 00:00:00</td><td>2020/12/17 16:37:29</td><td>42.6</td></tr>\n",
              "\t<tr><td>AEGON UK CORPORATE SERVICES LIMITED                 </td><td>  950</td><td>Aegon Lochside Crescent, Edinburgh Park, Edinburgh, Scotland, EH12 9SE                                      </td><td>EH12 9SE</td><td>SC170062</td><td>82990                                </td><td>34.7</td><td> 23.4</td><td> 65.0</td><td> 27.9</td><td>⋯</td><td>66.5</td><td>33.5</td><td>https://www.aegon.co.uk/about-aegon/corporate-responsibility/gender-pay-gap-report.html                             </td><td>Gill Scott (HR Director)                             </td><td>1000 to 4999</td><td>AEGON UK CORPORATE SERVICES LIMITED                 </td><td>NA</td><td>2020/04/05 00:00:00</td><td>2020/04/14 11:16:10</td><td>69.4</td></tr>\n",
              "\t<tr><td>AFE GROUP LIMITED                                   </td><td>  962</td><td>9 Bryggen Road, North Lynn Industrial Estate, King's Lynn, Norfolk, England, PE30 2HZ                       </td><td>PE30 2HZ</td><td>03872673</td><td>32990                                </td><td>20.0</td><td> 12.4</td><td> 69.5</td><td> 51.5</td><td>⋯</td><td>93.4</td><td> 6.6</td><td>https://www.theafegroup.com                                                                                         </td><td>Timothy Smith (CEO)                                  </td><td>1000 to 4999</td><td>AFE GROUP LIMITED                                   </td><td>NA</td><td>2020/04/05 00:00:00</td><td>2020/03/30 09:17:03</td><td>40.0</td></tr>\n",
              "\t<tr><td>AFFINITY WATER LIMITED                              </td><td>  967</td><td>Tamblin Way, Hatfield, Hertfordshire, AL10 9EZ                                                              </td><td>AL10 9EZ</td><td>02546950</td><td>36000                                </td><td>19.0</td><td> 27.0</td><td> 16.4</td><td>  0.0</td><td>⋯</td><td>74.0</td><td>26.0</td><td>                                                                                                                    </td><td>Sue Flower (Director of HR and Culture)              </td><td>1000 to 4999</td><td>AFFINITY WATER LIMITED                              </td><td>NA</td><td>2020/04/05 00:00:00</td><td>2020/04/03 09:23:34</td><td>38.0</td></tr>\n",
              "\t<tr><td><span style=white-space:pre-wrap>AFH STORES UK LIMITED                               </span></td><td><span style=white-space:pre-wrap>   22</span></td><td><span style=white-space:pre-wrap>3 Savile Row, London, England, W1S 3PB                                                                      </span></td><td>W1S 3PB </td><td>06423604</td><td><span style=white-space:pre-wrap>47710                                </span></td><td> 7.3</td><td> 10.4</td><td> 46.0</td><td><span style=white-space:pre-wrap>  0.0</span></td><td>⋯</td><td>35.8</td><td>64.2</td><td><span style=white-space:pre-wrap>https://www.abercrombie.com/anf/files/2019_uk-gender-pay-report.pdf                                                 </span></td><td><span style=white-space:pre-wrap>Anna Mollerstrom (UK A&amp;F Entity Director)            </span></td><td>1000 to 4999</td><td><span style=white-space:pre-wrap>AFH STORES UK LIMITED                               </span></td><td>NA</td><td>2020/04/05 00:00:00</td><td>2020/04/02 15:10:44</td><td>14.6</td></tr>\n",
              "\t<tr><td>AG SERVICE COMPANY LIMITED                          </td><td>  979</td><td>Milton Gate, 60 Chiswell Street, London, EC1Y 4AG                                                           </td><td>EC1Y 4AG</td><td>07299444</td><td>82990                                </td><td>17.9</td><td> 19.8</td><td> 46.2</td><td> 50.0</td><td>⋯</td><td>45.0</td><td>55.0</td><td>                                                                                                                    </td><td>Niki Lawson (HR Director)                            </td><td>1000 to 4999</td><td>AG SERVICE COMPANY LIMITED                          </td><td>NA</td><td>2020/04/05 00:00:00</td><td>2020/04/03 14:27:12</td><td>35.8</td></tr>\n",
              "\t<tr><td>AGEAS INSURANCE LIMITED                             </td><td>  992</td><td>Ageas House Hampshire Corporate Park, Templars Way, Eastleigh, Hampshire, SO53 3YA                          </td><td>SO53 3YA</td><td>00354568</td><td>65120                                </td><td>30.1</td><td> 25.7</td><td> 53.7</td><td> 40.6</td><td>⋯</td><td>66.1</td><td>33.9</td><td>https://www.ageas.co.uk/important-information/gender-pay-gap/                                                       </td><td>Lyn Nicholls (HR Director)                           </td><td>1000 to 4999</td><td>AGEAS INSURANCE LIMITED                             </td><td>NA</td><td>2020/04/05 00:00:00</td><td>2020/03/27 14:53:44</td><td>60.2</td></tr>\n",
              "\t<tr><td>⋮</td><td>⋮</td><td>⋮</td><td>⋮</td><td>⋮</td><td>⋮</td><td>⋮</td><td>⋮</td><td>⋮</td><td>⋮</td><td>⋱</td><td>⋮</td><td>⋮</td><td>⋮</td><td>⋮</td><td>⋮</td><td>⋮</td><td>⋮</td><td>⋮</td><td>⋮</td><td>⋮</td></tr>\n",
              "\t<tr><td>Wirral Council                                  </td><td>13848</td><td>The Treasury Building, Cleveland Street, Birkenhead, Merseyside, United Kingdom, CH41 6BU                </td><td>CH41 6BU</td><td>        </td><td>1,\n",
              "84110                    </td><td> 6.9</td><td>10.9</td><td>    NA</td><td>    NA</td><td>⋯</td><td>44.5</td><td>55.5</td><td>https://www.wirral.gov.uk/about-council/budgets-and-spending/gender-pay-gap-reporting                                                                     </td><td>                                                               </td><td>1000 to 4999</td><td>Wirral Council                                  </td><td>NA</td><td>2020/03/31 00:00:00</td><td>2020/03/23 14:54:36</td><td> 13.8</td></tr>\n",
              "\t<tr><td>WITHERSLACK GROUP LIMITED                       </td><td>13856</td><td>Lupton Tower, Lupton, Carnforth, Lancashire, LA6 2PR                                                     </td><td>LA6 2PR </td><td>03579104</td><td>85200,\n",
              "85310,\n",
              "87900        </td><td> 1.6</td><td> 1.4</td><td> -13.3</td><td>  33.3</td><td>⋯</td><td>44.3</td><td>55.7</td><td>https://witherslackgroup.co.uk/gender-pay-gap-statement/                                                                                                  </td><td>Sarah Jones (Group FC)                                         </td><td>1000 to 4999</td><td>WITHERSLACK GROUP LIMITED                       </td><td>NA</td><td>2020/04/05 00:00:00</td><td>2020/01/27 16:16:03</td><td>  3.2</td></tr>\n",
              "\t<tr><td>Wokingham Council                               </td><td>13871</td><td>Civic Offices, Shute End, Wokingham, Berkshire, United Kingdom, RG40 1BN                                 </td><td>RG40 1BN</td><td>        </td><td>1,\n",
              "84110                    </td><td>15.2</td><td>25.8</td><td>  77.8</td><td>  93.7</td><td>⋯</td><td>38.2</td><td>61.8</td><td>                                                                                                                                                          </td><td>                                                               </td><td>1000 to 4999</td><td>Wokingham Council                               </td><td>NA</td><td>2020/03/31 00:00:00</td><td>2020/03/25 12:11:43</td><td> 30.4</td></tr>\n",
              "\t<tr><td>WOLSELEY UK LIMITED                             </td><td>13874</td><td>2 Kingmaker Court, Warwick Technology Park, Gallows Hill, Warwick, Warwickshire, United Kingdom, CV34 6DY</td><td>CV34 6DY</td><td>00636445</td><td>46900                        </td><td> 5.0</td><td> 2.9</td><td>  28.3</td><td>  21.1</td><td>⋯</td><td>83.6</td><td>16.4</td><td>https://corporate.wolseley.co.uk/how-we-work/equal-opportunities/gender-pay-2019.aspx                                                                     </td><td>Sally-Anne Griffiths (Human Resources Director)                </td><td>1000 to 4999</td><td>WOLSELEY UK LIMITED                             </td><td>NA</td><td>2020/04/05 00:00:00</td><td>2019/10/18 11:06:16</td><td> 10.0</td></tr>\n",
              "\t<tr><td>Wolverhampton City Council                      </td><td>13876</td><td>Civic Centre, St. Peters Square, Wolverhampton, West Midlands, United Kingdom, WV1 1SH                   </td><td>WV1 1SH </td><td>        </td><td>1,\n",
              "84110                    </td><td> 4.5</td><td> 0.2</td><td>    NA</td><td>    NA</td><td>⋯</td><td>30.9</td><td>69.1</td><td>https://www.wolverhampton.gov.uk/your-council/equalities-and-diversity/workforce-monitoring-data                                                          </td><td>                                                               </td><td>1000 to 4999</td><td>Wolverhampton City Council                      </td><td>NA</td><td>2020/03/31 00:00:00</td><td>2020/03/13 14:55:21</td><td>  9.0</td></tr>\n",
              "\t<tr><td>WOMBLE BOND DICKINSON (UK) LLP                  </td><td> 2215</td><td>4 More London Riverside, London, United Kingdom, SE1 2AU                                                 </td><td>SE1 2AU </td><td>OC317661</td><td>                             </td><td>23.7</td><td>33.3</td><td>  48.1</td><td>   0.0</td><td>⋯</td><td>43.3</td><td>56.7</td><td>https://www.womblebonddickinson.com/sites/default/files/2020-05/Gender%20pay%20gap%20report%202019.pdf                                                    </td><td>Tracy Walsh (Partner/Board sponsor for Diversity and Inclusion)</td><td>1000 to 4999</td><td>WOMBLE BOND DICKINSON (UK) LLP                  </td><td>NA</td><td>2020/04/05 00:00:00</td><td>2020/05/21 11:36:04</td><td> 47.4</td></tr>\n",
              "\t<tr><td><span style=white-space:pre-wrap>WOOD GROUP UK LIMITED                           </span></td><td>13887</td><td><span style=white-space:pre-wrap>15 Justice Mill Lane, Aberdeen, Scotland, AB11 6EQ                                                       </span></td><td>AB11 6EQ</td><td>SC296737</td><td><span style=white-space:pre-wrap>9100                         </span></td><td>26.6</td><td>32.5</td><td><span style=white-space:pre-wrap>   1.8</span></td><td>-102.6</td><td>⋯</td><td>87.4</td><td>12.6</td><td><span style=white-space:pre-wrap>https://www.woodplc.com/policies-and-notices/gender-pay-gap                                                                                               </span></td><td><span style=white-space:pre-wrap>Sue MacDonald (Executive President - People &amp; Organisation)    </span></td><td>1000 to 4999</td><td><span style=white-space:pre-wrap>WOOD GROUP UK LIMITED                           </span></td><td>NA</td><td>2020/04/05 00:00:00</td><td>2020/03/19 14:50:28</td><td> 53.2</td></tr>\n",
              "\t<tr><td>Worcestershire Health And Care Nhs Trust        </td><td>13902</td><td>Unit 19, Isaac Maddox House, Shrub Hill Industrial Estate, Worcester, WR4 9RW                            </td><td>WR4 9RW </td><td>        </td><td>1,\n",
              "86210                    </td><td>15.2</td><td> 4.6</td><td>  22.1</td><td>  31.8</td><td>⋯</td><td>14.0</td><td>86.0</td><td>https://www.hacw.nhs.uk/gender-pay-gap                                                                                                                    </td><td>                                                               </td><td>1000 to 4999</td><td>Worcestershire Health And Care Nhs Trust        </td><td>NA</td><td>2020/03/31 00:00:00</td><td>2020/03/12 14:42:21</td><td> 30.4</td></tr>\n",
              "\t<tr><td>WORKERS' EDUCATIONAL ASSOCIATION                </td><td>13904</td><td>4 Luke Street, London, Greater London, EC2A 4XW                                                          </td><td>EC2A 4XW</td><td>02806910</td><td>85590                        </td><td> 3.5</td><td> 0.0</td><td>    NA</td><td>    NA</td><td>⋯</td><td>23.7</td><td>76.3</td><td>https://www.wea.org.uk/about-us/equality-diversity-and-inclusion                                                                                          </td><td>Margaret Johnson (Head of HR and Organisational Design)        </td><td>1000 to 4999</td><td>WORKERS' EDUCATIONAL ASSOCIATION                </td><td>NA</td><td>2020/04/05 00:00:00</td><td>2020/05/04 09:13:50</td><td>  7.0</td></tr>\n",
              "\t<tr><td>WORLDPAY (UK) LIMITED                           </td><td>  480</td><td>The Walbrook Building, 25 Walbrook, London, EC4N 8AF                                                     </td><td>EC4N 8AF</td><td>07316500</td><td>82990                        </td><td>29.8</td><td>39.6</td><td>  56.7</td><td>  58.6</td><td>⋯</td><td>77.5</td><td>22.5</td><td>                                                                                                                                                          </td><td>Dan Brames (EVP)                                               </td><td>1000 to 4999</td><td>WORLDPAY (UK) LIMITED                           </td><td>NA</td><td>2020/04/05 00:00:00</td><td>2021/10/04 16:53:25</td><td> 59.6</td></tr>\n",
              "\t<tr><td>WORLEY SERVICES UK LIMITED                      </td><td>18299</td><td>Annan House, Palmerston Road, Aberdeen, Scotland, AB11 5QP                                               </td><td>AB11 5QP</td><td>SC572221</td><td>9100                         </td><td>21.7</td><td>30.1</td><td>  17.9</td><td>  16.4</td><td>⋯</td><td>91.0</td><td> 9.0</td><td>https://www.worley.com/~/media/Files/W/WorleyParsons-V2/documents/corporate-governance/2020/Gender%20pay%20gap%20report_032020_RevB.pdf                   </td><td>Shaun Poll (Vice President - Operations, UK)                   </td><td>1000 to 4999</td><td>WORLEY SERVICES UK LIMITED                      </td><td>NA</td><td>2020/04/05 00:00:00</td><td>2020/05/06 15:59:37</td><td> 43.4</td></tr>\n",
              "\t<tr><td>WREN KITCHENS LIMITED                           </td><td>13926</td><td>The Nest, Falkland Way, Barton-Upon-Humber, England, DN18 5RL                                            </td><td>DN18 5RL</td><td>06799478</td><td>23700,\n",
              "31020,\n",
              "43320,\n",
              "47599</td><td> 3.7</td><td>14.1</td><td>  19.1</td><td>  -0.3</td><td>⋯</td><td>71.1</td><td>28.9</td><td>https://static.wrenkitchens.com/pdf/gender-pay-gap-review.pdf                                                                                             </td><td>Alex Grant (Finance Director)                                  </td><td>1000 to 4999</td><td>WREN KITCHENS LIMITED                           </td><td>NA</td><td>2020/04/05 00:00:00</td><td>2021/10/04 08:47:51</td><td>  7.4</td></tr>\n",
              "\t<tr><td>WRIGHT RESTAURANTS LTD                          </td><td>13932</td><td>First Floor, 1 The Lower Parade, Sutton Coldfield, West Midlands, B72 1XX                                </td><td>B72 1XX </td><td>04487036</td><td>56102                        </td><td> 2.8</td><td> 0.0</td><td>  63.0</td><td>  50.0</td><td>⋯</td><td>47.0</td><td>53.0</td><td>                                                                                                                                                          </td><td>Toby Wright (Office Manager)                                   </td><td>1000 to 4999</td><td>WRIGHT RESTAURANTS LTD                          </td><td>NA</td><td>2020/04/05 00:00:00</td><td>2020/03/09 10:15:17</td><td>  5.6</td></tr>\n",
              "\t<tr><td><span style=white-space:pre-wrap>WW GBR LIMITED                                  </span></td><td><span style=white-space:pre-wrap>  347</span></td><td><span style=white-space:pre-wrap>Millennium House, Ludlow Road, Maidenhead, Berkshire, SL6 2SL                                            </span></td><td>SL6 2SL </td><td>01248588</td><td><span style=white-space:pre-wrap>86900                        </span></td><td>40.5</td><td>16.8</td><td><span style=white-space:pre-wrap>  81.7</span></td><td><span style=white-space:pre-wrap>  71.7</span></td><td>⋯</td><td> 9.5</td><td>90.5</td><td><span style=white-space:pre-wrap>https://www.weightwatchers.com/uk/sites/uk/files/gender-pay-gap_2019_0.pdf                                                                                </span></td><td><span style=white-space:pre-wrap>Anna Hill (SVP &amp; GM UK)                                        </span></td><td>1000 to 4999</td><td><span style=white-space:pre-wrap>WW GBR LIMITED                                  </span></td><td>NA</td><td>2020/04/05 00:00:00</td><td>2020/06/16 08:23:30</td><td> 81.0</td></tr>\n",
              "\t<tr><td>XC TRAINS LIMITED                               </td><td>13981</td><td>C/O Arriva Plc 1 Admiral Way, Doxford International, Business Park, Sunderland, SR3 3XP                  </td><td>SR3 3XP </td><td>04402048</td><td>49100                        </td><td>30.6</td><td>21.0</td><td>  27.7</td><td>  16.0</td><td>⋯</td><td>95.0</td><td> 5.0</td><td>https://www.arriva.co.uk/~/media/Files/A/Arriva-Corporate-V2/documents/arriva-uks-2019-gender-pay-gap-report.pdf                                          </td><td>Alison O'Connor (Director of Corporate Affairs)                </td><td>1000 to 4999</td><td>XC TRAINS LIMITED                               </td><td>NA</td><td>2020/04/05 00:00:00</td><td>2020/03/04 10:53:54</td><td> 61.2</td></tr>\n",
              "\t<tr><td><span style=white-space:pre-wrap>XL CATLIN SERVICES SE                           </span></td><td>14426</td><td><span style=white-space:pre-wrap>20 Gracechurch Street, London, EC3V 0BG                                                                  </span></td><td>EC3V 0BG</td><td>SE000103</td><td><span style=white-space:pre-wrap>66220                        </span></td><td>32.9</td><td>34.5</td><td><span style=white-space:pre-wrap>  60.9</span></td><td><span style=white-space:pre-wrap>  58.5</span></td><td>⋯</td><td>77.9</td><td>22.1</td><td><span style=white-space:pre-wrap>https://axaxl.com/-/media/axaxl/files/pdfs/about-us/diversity-and-inclusion/2019-gender-pay-gap-report.pdf                                                </span></td><td><span style=white-space:pre-wrap>Paul Greensmith (CEO UK Region &amp; Legal Entities, AXA XL)       </span></td><td>1000 to 4999</td><td><span style=white-space:pre-wrap>XL CATLIN SERVICES SE                           </span></td><td>NA</td><td>2020/04/05 00:00:00</td><td>2020/02/07 11:05:20</td><td> 65.8</td></tr>\n",
              "\t<tr><td>YHA (ENGLAND AND WALES)                         </td><td>   88</td><td>Trevelyan House, Dimple Road, Matlock, Derbyshire, DE4 3YH                                               </td><td>DE4 3YH </td><td>00282555</td><td>55202                        </td><td> 5.8</td><td> 6.0</td><td>    NA</td><td>    NA</td><td>⋯</td><td>48.0</td><td>52.0</td><td>                                                                                                                                                          </td><td>James Blake (CEO)                                              </td><td>1000 to 4999</td><td>YHA (ENGLAND AND WALES)                         </td><td>NA</td><td>2020/04/05 00:00:00</td><td>2019/12/03 08:42:09</td><td> 11.6</td></tr>\n",
              "\t<tr><td>YODEL DELIVERY NETWORK LIMITED                  </td><td>14025</td><td>Atlantic Pavilion, Albert Dock, Liverpool, United Kingdom, L3 4AE                                        </td><td>L3 4AE  </td><td>05200072</td><td>49410,\n",
              "52219,\n",
              "74909        </td><td>-5.9</td><td> 2.7</td><td>-165.6</td><td> -13.3</td><td>⋯</td><td>81.2</td><td>18.8</td><td>                                                                                                                                                          </td><td>John Hardman (Chief People Officer)                            </td><td>1000 to 4999</td><td>YODEL DELIVERY NETWORK LIMITED                  </td><td>NA</td><td>2020/04/05 00:00:00</td><td>2021/07/12 14:20:03</td><td>-11.8</td></tr>\n",
              "\t<tr><td>YORK ST JOHN UNIVERSITY                         </td><td>14028</td><td>Lord Mayors Walk, York, North Yorkshire, YO31 7EX                                                        </td><td>YO31 7EX</td><td>04498683</td><td>85421,\n",
              "85422                </td><td> 9.3</td><td>16.2</td><td>  27.2</td><td>   0.0</td><td>⋯</td><td>47.2</td><td>52.8</td><td>https://www.yorksj.ac.uk/media/content-assets/equality-and-diversity/documents/YSJU-Gender-Gap-2019---5.pdf                                               </td><td>                                                               </td><td>1000 to 4999</td><td>YORK ST JOHN UNIVERSITY                         </td><td>NA</td><td>2020/03/31 00:00:00</td><td>2020/03/30 11:20:38</td><td> 18.6</td></tr>\n",
              "\t<tr><td>YORK TEACHING HOSPITAL FACILITIES MANAGEMENT LLP</td><td>19697</td><td>York Hospital, Wigginton Road, York, England, YO31 8HE                                                   </td><td>YO31 8HE</td><td>OC421341</td><td>                             </td><td> 4.1</td><td> 3.2</td><td>    NA</td><td>    NA</td><td>⋯</td><td>40.8</td><td>59.2</td><td>https://www.ythfm.co.uk/seecmsfile/?id=369                                                                                                                </td><td>Brian Golding (Managing Director)                              </td><td>1000 to 4999</td><td>YORK TEACHING HOSPITAL FACILITIES MANAGEMENT LLP</td><td>NA</td><td>2020/04/05 00:00:00</td><td>2020/03/31 12:21:53</td><td>  8.2</td></tr>\n",
              "\t<tr><td>Yorkshire Building Society                      </td><td>14480</td><td>Yorkshire House, Yorkshire Drive, Bradford, BD5 8LJ                                                      </td><td>BD5 8LJ </td><td>MUT00001</td><td>64192                        </td><td>30.5</td><td>27.9</td><td>  47.9</td><td>  34.1</td><td>⋯</td><td>56.2</td><td>43.8</td><td>https://www.ybs.co.uk/your-society/inside-your-society/corporate-governance/policies/gender-pay-gap.html                                                  </td><td>Stephen White (Chief Operating Officer)                        </td><td>1000 to 4999</td><td>Yorkshire Building Society                      </td><td>NA</td><td>2020/04/05 00:00:00</td><td>2019/12/19 06:06:39</td><td> 61.0</td></tr>\n",
              "\t<tr><td>YORKSHIRE WATER SERVICES LIMITED                </td><td>15780</td><td>Western House, Halifax Road, Bradford, West Yorkshire, BD6 2SZ                                           </td><td>BD6 2SZ </td><td>02366682</td><td>36000                        </td><td> 1.5</td><td> 0.1</td><td>  13.6</td><td>   5.7</td><td>⋯</td><td>78.5</td><td>21.5</td><td>https://www.yorkshirewater.com/careers/working-for-yorkshire-water/diversity-inclusion/                                                                   </td><td>Liz Barber (Chief Executive Officer)                           </td><td>1000 to 4999</td><td>YORKSHIRE WATER SERVICES LIMITED                </td><td>NA</td><td>2020/04/05 00:00:00</td><td>2020/04/02 08:00:46</td><td>  3.0</td></tr>\n",
              "\t<tr><td><span style=white-space:pre-wrap>YOUNG &amp; CO'S BREWERY PLC                        </span></td><td>14036</td><td><span style=white-space:pre-wrap>Copper House, 5 Garratt Lane, Wandsworth, London, SW18 4AQ                                               </span></td><td>SW18 4AQ</td><td>00032762</td><td><span style=white-space:pre-wrap>55100,\n",
              "56302                </span></td><td> 9.6</td><td> 6.8</td><td><span style=white-space:pre-wrap>  24.6</span></td><td><span style=white-space:pre-wrap>   8.3</span></td><td>⋯</td><td>70.5</td><td>29.5</td><td><span style=white-space:pre-wrap>https://www.youngs.co.uk/youngs/uploads/sites/2/2020/03/Youngs-gender-pay-gap-2020.pdf                                                                    </span></td><td><span style=white-space:pre-wrap>Patrick Dardis (Chief Executive)                               </span></td><td>1000 to 4999</td><td><span style=white-space:pre-wrap>YOUNG &amp; CO'S BREWERY PLC                        </span></td><td>NA</td><td>2020/04/05 00:00:00</td><td>2020/03/20 16:08:39</td><td> 19.2</td></tr>\n",
              "\t<tr><td>YOUNG'S SEAFOOD LIMITED                         </td><td>  606</td><td>Young's House, Wickham Road, Grimsby, England, DN31 3SW                                                  </td><td>DN31 3SW</td><td>03751665</td><td>10200                        </td><td>19.0</td><td> 6.0</td><td>  59.0</td><td>  26.0</td><td>⋯</td><td>68.0</td><td>32.0</td><td>https://youngsseafood.co.uk/youngs-gender-pay-gap-report/                                                                                                 </td><td>Dominic Kerrigan (HR Director)                                 </td><td>1000 to 4999</td><td>YOUNG'S SEAFOOD LIMITED                         </td><td>NA</td><td>2020/04/05 00:00:00</td><td>2020/03/19 11:25:18</td><td> 38.0</td></tr>\n",
              "\t<tr><td>YOURLIFE MANAGEMENT SERVICES LIMITED            </td><td>14042</td><td>Fourth Floor, 100 Holdenhurst Road, Bournemouth, Dorset, BH8 8AQ                                         </td><td>BH8 8AQ </td><td>07153519</td><td>68320,\n",
              "96090                </td><td>18.5</td><td> 3.9</td><td>  50.0</td><td>  26.9</td><td>⋯</td><td>14.1</td><td>85.9</td><td>https://www.mccarthyandstonegroup.co.uk/making-a-difference/gender-pay-gap-report-2019                                                                    </td><td>Paula Jordan (Group HR Director)                               </td><td>1000 to 4999</td><td>YOURLIFE MANAGEMENT SERVICES LIMITED            </td><td>NA</td><td>2020/04/05 00:00:00</td><td>2020/07/01 11:23:55</td><td> 37.0</td></tr>\n",
              "\t<tr><td>YOURS CLOTHING LIMITED                          </td><td>14044</td><td>Newcombe House, Bakewell Road, Orton Southgate, Peterborough, United Kingdom, PE2 6XU                    </td><td>PE2 6XU </td><td>02886196</td><td>47710                        </td><td>59.0</td><td>57.0</td><td>  88.0</td><td>  73.0</td><td>⋯</td><td>11.2</td><td>88.8</td><td>https://www.yoursclothing.co.uk/gender-pay-gap                                                                                                            </td><td>Anna Heather (Finance Director)                                </td><td>1000 to 4999</td><td>YOURS CLOTHING LIMITED                          </td><td>NA</td><td>2020/04/05 00:00:00</td><td>2020/04/28 15:59:05</td><td>118.0</td></tr>\n",
              "\t<tr><td>YUSEN LOGISTICS (UK) LIMITED                    </td><td>14051</td><td>Grange Park 1, Cheaney Drive, Grange Park, Northampton, NN4 5FB                                          </td><td>NN4 5FB </td><td>02548297</td><td>49410,\n",
              "50200,\n",
              "51210,\n",
              "52103</td><td> 4.7</td><td>-2.1</td><td> -86.4</td><td>   0.0</td><td>⋯</td><td>71.0</td><td>29.0</td><td>                                                                                                                                                          </td><td>Suzanne Mercer (HR Director)                                   </td><td>1000 to 4999</td><td>YUSEN LOGISTICS (UK) LIMITED                    </td><td>NA</td><td>2020/04/05 00:00:00</td><td>2020/03/30 10:19:10</td><td>  9.4</td></tr>\n",
              "\t<tr><td>ZELLIS UK LIMITED                               </td><td> 9144</td><td>740 Waterside Drive Aztec West, Almondsbury, Bristol, England, BS32 4UF                                  </td><td>BS32 4UF</td><td>01587537</td><td>58290,\n",
              "63110                </td><td>18.8</td><td>27.6</td><td>  29.8</td><td>  28.6</td><td>⋯</td><td>63.9</td><td>36.1</td><td>                                                                                                                                                          </td><td>Caroline Drake (Chief People Officer)                          </td><td>1000 to 4999</td><td>ZELLIS UK LIMITED                               </td><td>NA</td><td>2020/04/05 00:00:00</td><td>2020/07/10 08:26:03</td><td> 37.6</td></tr>\n",
              "\t<tr><td><span style=white-space:pre-wrap>ZURICH EMPLOYMENT SERVICES LIMITED              </span></td><td>14076</td><td><span style=white-space:pre-wrap>Unity Place, 1 Carfax Close, Swindon, Wiltshire, United Kingdom, SN1 1AP                                 </span></td><td>SN1 1AP </td><td>00243883</td><td><span style=white-space:pre-wrap>78300,\n",
              "82990                </span></td><td>23.4</td><td>27.6</td><td><span style=white-space:pre-wrap>  48.8</span></td><td><span style=white-space:pre-wrap>  49.9</span></td><td>⋯</td><td>70.3</td><td>29.7</td><td>https://www.zurich.co.uk/-/media/project/zwp/united-kingdom/docs/about-us/cr/zurich-uk-gender-pay-gap-2019.pdf?la=en&amp;hash=B63A743DC6127FCD767B739EA2A1DCEB</td><td><span style=white-space:pre-wrap>Steve Collinson (Head of The People Team)                      </span></td><td>1000 to 4999</td><td><span style=white-space:pre-wrap>ZURICH EMPLOYMENT SERVICES LIMITED              </span></td><td>NA</td><td>2020/04/05 00:00:00</td><td>2020/04/09 12:19:18</td><td> 46.8</td></tr>\n",
              "\t<tr><td><span style=white-space:pre-wrap>ZURICH UK GENERAL SERVICES LIMITED              </span></td><td>14078</td><td><span style=white-space:pre-wrap>The Zurich Centre 3000 Parkway, Whiteley, Fareham, Hampshire, PO15 7JZ                                   </span></td><td>PO15 7JZ</td><td>03843124</td><td><span style=white-space:pre-wrap>82990                        </span></td><td>21.5</td><td>21.9</td><td><span style=white-space:pre-wrap>  54.0</span></td><td><span style=white-space:pre-wrap>  36.3</span></td><td>⋯</td><td>70.0</td><td>30.0</td><td>https://www.zurich.co.uk/-/media/project/zwp/united-kingdom/docs/about-us/cr/zurich-uk-gender-pay-gap-2019.pdf?la=en&amp;hash=B63A743DC6127FCD767B739EA2A1DCEB</td><td><span style=white-space:pre-wrap>Steve Collinson (Head of The People Team)                      </span></td><td>1000 to 4999</td><td><span style=white-space:pre-wrap>ZURICH UK GENERAL SERVICES LIMITED              </span></td><td>NA</td><td>2020/04/05 00:00:00</td><td>2020/04/09 12:24:11</td><td> 43.0</td></tr>\n",
              "</tbody>\n",
              "</table>\n"
            ],
            "text/markdown": "\nA data.frame: 1649 × 28\n\n| EmployerName &lt;chr&gt; | EmployerId &lt;int&gt; | address &lt;chr&gt; | PostCode &lt;chr&gt; | CompanyNumber &lt;chr&gt; | SicCodes &lt;chr&gt; | DiffMeanHourlyPercent &lt;dbl&gt; | DiffMedianHourlyPercent &lt;dbl&gt; | DiffMeanBonusPercent &lt;dbl&gt; | DiffMedianBonusPercent &lt;dbl&gt; | ⋯ ⋯ | MaleTopQuartile &lt;dbl&gt; | FemaleTopQuartile &lt;dbl&gt; | CompanyLinkToGPGInfo &lt;chr&gt; | ResponsiblePerson &lt;chr&gt; | EmployerSize &lt;chr&gt; | CurrentName &lt;chr&gt; | SubmittedAfterTheDeadline &lt;lgl&gt; | DueDate &lt;chr&gt; | DateSubmitted &lt;chr&gt; | DiffMeanHourlyPercentTimes2 &lt;dbl&gt; |\n|---|---|---|---|---|---|---|---|---|---|---|---|---|---|---|---|---|---|---|---|---|\n| 'PRIFYSGOL ABERYSTWYTH' AND 'ABERYSTWYTH UNIVERSITY' | 19070 | Aberystwyth University, Penglais, Ceredigion, SY23 3FL                                                       | SY23 3FL | RC000641 | <!----> | 11.5 |  10.3 |    NA |    NA | ⋯ | 62.0 | 38.0 | https://www.aber.ac.uk/en/equality/genderpaygapreporting2019/ \n\nhttps://www.aber.ac.uk/cy/equality/gender-pay-gap/ | Elizabeth Treasure (Vice-Chancellor)                  | 1000 to 4999 | 'PRIFYSGOL ABERYSTWYTH' AND 'ABERYSTWYTH UNIVERSITY' | NA | 2020/04/05 00:00:00 | 2020/04/03 14:47:45 | 23.0 |\n| 2 SISTERS FOOD GROUP LIMITED                         |    77 | Trinity Park House Trinity Business Park, Fox Way, Wakefield, West Yorkshire, WF2 8EE                        | WF2 8EE  | 02826929 | 10120                                 | 25.0 |   7.3 |  65.0 |   7.6 | ⋯ | 65.9 | 34.1 | https://www.2sfg.com/PDF/2sfg-GenderPay-2020.pdf                                                                     | Lee Greenbury (Group Director of People &amp; Compliance) | 1000 to 4999 | 2 SISTERS FOOD GROUP LIMITED                         | NA | 2020/04/05 00:00:00 | 2021/09/30 12:54:30 | 50.0 |\n| 24 X 7 LTD.                                          |   695 | Little Easton Manor Park Road, Little Easton, Dunmow, Essex, England, CM6 2JN                                | CM6 2JN  | 04142000 | 52290                                 |  0.2 |   0.0 |    NA |    NA | ⋯ | 44.0 | 56.0 | <!----> | lisa hyem (fd)                                        | 1000 to 4999 | 24 X 7 LTD.                                          | NA | 2020/04/05 00:00:00 | 2021/10/12 09:31:56 |  0.4 |\n| 2GETHER SUPPORT SOLUTIONS LIMITED                    | 19676 | Management Offices William Harvey Hospital, Kennington Road, Willesborough, Ashford, Kent, England, TN24 0LZ | TN24 0LZ | 11385580 | 81100                                 |  3.7 |   0.0 |    NA |    NA | ⋯ | 53.5 | 46.5 | https://2gethersupportsolutions.org/about-us/                                                                        | Finbarr Murray (Managing Director)                    | 1000 to 4999 | 2GETHER SUPPORT SOLUTIONS LIMITED                    | NA | 2020/04/05 00:00:00 | 2020/03/24 14:58:53 |  7.4 |\n| 3663 TRANSPORT LIMITED                               |   697 | 814 Leigh Road, Slough, England, SL1 4BD                                                                     | SL1 4BD  | 00456846 | 52290                                 |  1.4 |   7.1 |  47.4 |  52.5 | ⋯ | 96.0 |  4.0 | https://www.bidfood.co.uk/gender-pay-gap-reports/                                                                    | Heather Angus (HR &amp; Sustainability Director)          | 1000 to 4999 | 3663 TRANSPORT LIMITED                               | NA | 2020/04/05 00:00:00 | 2020/05/14 16:07:39 |  2.8 |\n| 3M UNITED KINGDOM PUBLIC LIMITED COMPANY             |   293 | 3m Centre, Cain Road, Bracknell, Berkshire, RG12 8HT                                                         | RG12 8HT | 01123045 | 20301,\n23910,\n32990                 | 10.0 |   8.0 |  18.0 |  28.0 | ⋯ | 71.0 | 29.0 | <!----> | Katherine Parks (PR&amp; I Leader, North Europe)          | 1000 to 4999 | 3M UNITED KINGDOM PUBLIC LIMITED COMPANY             | NA | 2020/04/05 00:00:00 | 2020/03/17 13:02:54 | 20.0 |\n| A-DAY CONSULTANTS LIMITED                            | 15592 | Kingston House Towers Business Park, Wilmslow Road, Manchester, England, M20 2LD                             | M20 2LD  | 04493101 | 78109                                 | 14.8 |  17.9 |  52.5 |  28.0 | ⋯ | 38.9 | 61.1 | https://www.academicsltd.co.uk/                                                                                      | Claire Tyrrell (Group HR Director)                    | 1000 to 4999 | A-DAY CONSULTANTS LIMITED                            | NA | 2020/04/05 00:00:00 | 2020/03/25 16:19:41 | 29.6 |\n| A-PLAN HOLDINGS                                      |  1330 | 2 Des Roches Square, Witney, Oxfordshire, OX28 4LE                                                           | OX28 4LE | 00750484 | 66220                                 | 18.2 |   8.6 |   9.9 |  13.0 | ⋯ | 71.0 | 29.0 | https://www.aplan.co.uk/                                                                                             | Andrew Galbraith (Group Chief Financial Officer)      | 1000 to 4999 | A-PLAN HOLDINGS                                      | NA | 2020/04/05 00:00:00 | 2020/03/09 09:08:57 | 36.4 |\n| A. SHARE &amp; SONS LIMITED                              |   124 | 45-49 Villiers Street, Sunderland, SR1 1HA                                                                   | SR1 1HA  | 00323778 | 47530,\n47599                         | 25.0 |  31.0 |  40.0 |  85.0 | ⋯ | 84.0 | 16.0 | https://www.scsplc.co.uk/                                                                                            | Marie Liston (Corporate Services Director)            | 1000 to 4999 | A. SHARE &amp; SONS LIMITED                              | NA | 2020/04/05 00:00:00 | 2020/06/11 11:19:46 | 50.0 |\n| A.B.M. CATERING LIMITED                              |   733 | Eagle Court, 63-67 Saltisford, Warwick, Warwickshire, CV34 4AF                                               | CV34 4AF | 04168334 | 56290,\n70100                         | 21.7 |  16.5 | -70.3 |  61.5 | ⋯ | 33.9 | 66.1 | http://www.abmcatering.co.uk/wp-content/uploads/2019/07/Gender-Pay-Gap-Report-2018.pdf                               | Sue Hill (Finance &amp; HR Director - Operations)         | 1000 to 4999 | A.B.M. CATERING LIMITED                              | NA | 2020/04/05 00:00:00 | 2020/01/29 12:20:31 | 43.4 |\n| AAH PHARMACEUTICALS LIMITED                          |   757 | Sapphire Court, Walsgrave Triangle, Coventry, CV2 2TX                                                        | CV2 2TX  | 00123458 | 21100,\n46460                         | 10.7 |  -0.4 |  48.0 | -28.0 | ⋯ | 61.0 | 39.0 | https://mckesson.uk/wp-content/uploads/2020/03/Gender-Pay-Gap-Report-2019-Final.pdf                                  | Jane Davies (HR Director)                             | 1000 to 4999 | AAH PHARMACEUTICALS LIMITED                          | NA | 2020/04/05 00:00:00 | 2020/03/18 11:11:39 | 21.4 |\n| AB AGRI LIMITED                                      |   762 | Weston Centre, 10 Grosvenor Street, London, W1K 4QY                                                          | W1K 4QY  | 00193800 | 10910                                 |  9.4 | -11.8 |  35.1 |  32.6 | ⋯ | 72.0 | 28.0 | https://www.abagri.com/responsibility/our-policies                                                                   | Jose Nobre (Chief Executive)                          | 1000 to 4999 | AB AGRI LIMITED                                      | NA | 2020/04/05 00:00:00 | 2019/12/19 10:33:42 | 18.8 |\n| ABB LIMITED                                          |   771 | Daresbury Park, Daresbury, Warrington, Cheshire, WA4 4BT                                                     | WA4 4BT  | 03780764 | 27120,\n43210,\n46520,\n70100         | 23.5 |  30.6 |  59.0 |  25.0 | ⋯ | 87.9 | 12.1 | https://new.abb.com/uk/about                                                                                         | Craig Prendergast (Country HR Manager)                | 1000 to 4999 | ABB LIMITED                                          | NA | 2020/04/05 00:00:00 | 2020/04/01 20:27:38 | 47.0 |\n| ABBEYFIELD SOCIETY (THE)                             |   776 | St Peter's House, 2 Bricket Road, St. Albans, Hertfordshire, AL1 3JW                                         | AL1 3JW  | 00574816 | 55900,\n87300                         | 25.0 |  10.0 | -14.0 |   0.0 | ⋯ | 21.0 | 79.0 | https://www.abbeyfield.com/about-us/our-financial-and-annual-reports/                                                | Gail Manley (HR Director)                             | 1000 to 4999 | ABBEYFIELD SOCIETY (THE)                             | NA | 2020/04/05 00:00:00 | 2020/05/29 09:56:14 | 50.0 |\n| ACADEMY TRANSFORMATION TRUST                         | 14495 | Emmanuel Court, Reddicroft, Sutton Coldfield, England, B73 6AZ                                               | B73 6AZ  | 07846852 | 1,\n1,\n85200,\n85310,\n85590,\n85600 | 22.9 |  35.1 |  -4.5 | -17.2 | ⋯ | 35.9 | 64.1 | https://www.academytransformationtrust.co.uk/about-the-trust/company-information                                     | <!----> | 1000 to 4999 | ACADEMY TRANSFORMATION TRUST                         | NA | 2020/03/31 00:00:00 | 2020/03/30 12:52:12 | 45.8 |\n| ACCESS UK LTD                                        |   828 | The Old School, School Lane, Stratford St Mary, Colchester, Essex,, CO7 6LZ                                  | CO7 6LZ  | 02343760 | 62090                                 | 23.0 |  25.0 |  37.7 |  16.5 | ⋯ | 81.0 | 19.0 | https://www.theaccessgroup.com/company/our-people-and-values/                                                        | Claire Scott (Chief People Officer)                   | 1000 to 4999 | ACCESS UK LTD                                        | NA | 2020/04/05 00:00:00 | 2020/12/18 14:37:20 | 46.0 |\n| Accord Housing Association Ltd                       | 15369 | 178 Birmingham Road, West Bromwich, West Midlands, B706QG                                                    | B706QG   | <!----> | 41202,\n68201,\n87200,\n87300         | 19.1 |   7.8 |    NA |    NA | ⋯ | 31.0 | 69.0 | <!----> | Christopher Handy (Chief Executive)                   | 1000 to 4999 | Accord Housing Association Ltd                       | NA | 2020/04/05 00:00:00 | 2020/03/17 12:31:51 | 38.2 |\n| ACTION FOR CHILDREN                                  |   874 | ACTION FOR CHILDREN, 3 The Boulevard, Ascot Road, Watford, Hertfordshire, WD18 8AG                           | WD18 8AG | 04764232 | 88910                                 | 14.0 |  10.0 |    NA |    NA | ⋯ | 24.0 | 76.0 | https://www.actionforchildren.org.uk/media/12984/gender-pay-gap-report.pdf                                           | Melanie Armstrong (Interim Chief Executive)           | 1000 to 4999 | ACTION FOR CHILDREN                                  | NA | 2020/04/05 00:00:00 | 2020/05/04 13:22:30 | 28.0 |\n| Activate Learning                                    | 17170 | Oxpens Road, Oxford, OX1 1SA                                                                                 | OX1 1SA  | <!----> | 1,\n85410                             |  8.6 |   6.6 |  79.8 |  88.6 | ⋯ | 34.9 | 65.1 | <!----> | <!----> | 1000 to 4999 | Activate Learning                                    | NA | 2020/03/31 00:00:00 | 2020/04/28 11:47:08 | 17.2 |\n| ADDISON MOTORS LIMITED                               |   896 | Lookers House 3 Etchells Road, West Timperley, Altrincham, United Kingdom, WA14 5XS                          | WA14 5XS | 00714804 | 45111                                 | 25.1 |  13.6 |  47.6 |  42.8 | ⋯ | 82.7 | 17.3 | https://www.lookersplc.com/our-business/our-responsibility/gender-pay/                                               | Chris Whitaker (Chief People Officer)                 | 1000 to 4999 | ADDISON MOTORS LIMITED                               | NA | 2020/04/05 00:00:00 | 2022/02/02 12:17:27 | 50.2 |\n| ADECCO UK LIMITED                                    |   899 | 10 Bishops Square, London, England, E1 6EG                                                                   | E1 6EG   | 00593232 | 78200                                 | -3.8 |   2.2 |   7.2 |  25.3 | ⋯ | 57.0 | 43.0 | https://www.adecco.co.uk/gender-pay-gap                                                                              | Alex Fleming (Country Head, UK and Ireland)           | 1000 to 4999 | ADECCO UK LIMITED                                    | NA | 2020/04/05 00:00:00 | 2020/04/02 15:19:43 | -7.6 |\n| Adrian Flux Insurance Services                       | 17234 | East Winch Hall, East Winch, Kings Lynn, PE32 1HN                                                            | PE32 1HN | <!----> | 66220                                 | 34.7 |   5.1 |  90.9 |  50.9 | ⋯ | 56.0 | 44.0 | https://www.adrianflux.co.uk/blog/wp-content/uploads/2020/03/AF5334-GenderPayUpdate2020.pdf                          | David Flux (Partner)                                  | 1000 to 4999 | Adrian Flux Insurance Services                       | NA | 2020/04/05 00:00:00 | 2020/03/11 16:09:13 | 69.4 |\n| AECOM INFRASTRUCTURE &amp; ENVIRONMENT UK LIMITED        |   946 | Aldgate Tower, 2 Leman Street, London, United Kingdom, E1 8FA                                                | E1 8FA   | 00880328 | 74901                                 | 18.0 |  18.0 |  40.0 |  13.0 | ⋯ | 85.0 | 15.0 | https://aecom.com/content/wp-content/uploads/2020/12/20083_Gender-pay-gap_RE_FINAL.pdf                               | Colin Wood (Chief Executive, Europe)                  | 1000 to 4999 | AECOM INFRASTRUCTURE &amp; ENVIRONMENT UK LIMITED        | NA | 2020/04/05 00:00:00 | 2020/12/17 16:35:05 | 36.0 |\n| AECOM LIMITED                                        |   947 | Aldgate Tower, 2 Leman Street, London, United Kingdom, E1 8FA                                                | E1 8FA   | 01846493 | 71122                                 | 21.3 |  20.6 |   6.0 |   2.0 | ⋯ | 83.0 | 17.0 | https://aecom.com/content/wp-content/uploads/2020/12/20083_Gender-pay-gap_RE_FINAL.pdf                               | Colin Wood (CEO, Europe)                              | 1000 to 4999 | AECOM LIMITED                                        | NA | 2020/04/05 00:00:00 | 2020/12/17 16:37:29 | 42.6 |\n| AEGON UK CORPORATE SERVICES LIMITED                  |   950 | Aegon Lochside Crescent, Edinburgh Park, Edinburgh, Scotland, EH12 9SE                                       | EH12 9SE | SC170062 | 82990                                 | 34.7 |  23.4 |  65.0 |  27.9 | ⋯ | 66.5 | 33.5 | https://www.aegon.co.uk/about-aegon/corporate-responsibility/gender-pay-gap-report.html                              | Gill Scott (HR Director)                              | 1000 to 4999 | AEGON UK CORPORATE SERVICES LIMITED                  | NA | 2020/04/05 00:00:00 | 2020/04/14 11:16:10 | 69.4 |\n| AFE GROUP LIMITED                                    |   962 | 9 Bryggen Road, North Lynn Industrial Estate, King's Lynn, Norfolk, England, PE30 2HZ                        | PE30 2HZ | 03872673 | 32990                                 | 20.0 |  12.4 |  69.5 |  51.5 | ⋯ | 93.4 |  6.6 | https://www.theafegroup.com                                                                                          | Timothy Smith (CEO)                                   | 1000 to 4999 | AFE GROUP LIMITED                                    | NA | 2020/04/05 00:00:00 | 2020/03/30 09:17:03 | 40.0 |\n| AFFINITY WATER LIMITED                               |   967 | Tamblin Way, Hatfield, Hertfordshire, AL10 9EZ                                                               | AL10 9EZ | 02546950 | 36000                                 | 19.0 |  27.0 |  16.4 |   0.0 | ⋯ | 74.0 | 26.0 | <!----> | Sue Flower (Director of HR and Culture)               | 1000 to 4999 | AFFINITY WATER LIMITED                               | NA | 2020/04/05 00:00:00 | 2020/04/03 09:23:34 | 38.0 |\n| AFH STORES UK LIMITED                                |    22 | 3 Savile Row, London, England, W1S 3PB                                                                       | W1S 3PB  | 06423604 | 47710                                 |  7.3 |  10.4 |  46.0 |   0.0 | ⋯ | 35.8 | 64.2 | https://www.abercrombie.com/anf/files/2019_uk-gender-pay-report.pdf                                                  | Anna Mollerstrom (UK A&amp;F Entity Director)             | 1000 to 4999 | AFH STORES UK LIMITED                                | NA | 2020/04/05 00:00:00 | 2020/04/02 15:10:44 | 14.6 |\n| AG SERVICE COMPANY LIMITED                           |   979 | Milton Gate, 60 Chiswell Street, London, EC1Y 4AG                                                            | EC1Y 4AG | 07299444 | 82990                                 | 17.9 |  19.8 |  46.2 |  50.0 | ⋯ | 45.0 | 55.0 | <!----> | Niki Lawson (HR Director)                             | 1000 to 4999 | AG SERVICE COMPANY LIMITED                           | NA | 2020/04/05 00:00:00 | 2020/04/03 14:27:12 | 35.8 |\n| AGEAS INSURANCE LIMITED                              |   992 | Ageas House Hampshire Corporate Park, Templars Way, Eastleigh, Hampshire, SO53 3YA                           | SO53 3YA | 00354568 | 65120                                 | 30.1 |  25.7 |  53.7 |  40.6 | ⋯ | 66.1 | 33.9 | https://www.ageas.co.uk/important-information/gender-pay-gap/                                                        | Lyn Nicholls (HR Director)                            | 1000 to 4999 | AGEAS INSURANCE LIMITED                              | NA | 2020/04/05 00:00:00 | 2020/03/27 14:53:44 | 60.2 |\n| ⋮ | ⋮ | ⋮ | ⋮ | ⋮ | ⋮ | ⋮ | ⋮ | ⋮ | ⋮ | ⋱ | ⋮ | ⋮ | ⋮ | ⋮ | ⋮ | ⋮ | ⋮ | ⋮ | ⋮ | ⋮ |\n| Wirral Council                                   | 13848 | The Treasury Building, Cleveland Street, Birkenhead, Merseyside, United Kingdom, CH41 6BU                 | CH41 6BU | <!----> | 1,\n84110                     |  6.9 | 10.9 |     NA |     NA | ⋯ | 44.5 | 55.5 | https://www.wirral.gov.uk/about-council/budgets-and-spending/gender-pay-gap-reporting                                                                      | <!----> | 1000 to 4999 | Wirral Council                                   | NA | 2020/03/31 00:00:00 | 2020/03/23 14:54:36 |  13.8 |\n| WITHERSLACK GROUP LIMITED                        | 13856 | Lupton Tower, Lupton, Carnforth, Lancashire, LA6 2PR                                                      | LA6 2PR  | 03579104 | 85200,\n85310,\n87900         |  1.6 |  1.4 |  -13.3 |   33.3 | ⋯ | 44.3 | 55.7 | https://witherslackgroup.co.uk/gender-pay-gap-statement/                                                                                                   | Sarah Jones (Group FC)                                          | 1000 to 4999 | WITHERSLACK GROUP LIMITED                        | NA | 2020/04/05 00:00:00 | 2020/01/27 16:16:03 |   3.2 |\n| Wokingham Council                                | 13871 | Civic Offices, Shute End, Wokingham, Berkshire, United Kingdom, RG40 1BN                                  | RG40 1BN | <!----> | 1,\n84110                     | 15.2 | 25.8 |   77.8 |   93.7 | ⋯ | 38.2 | 61.8 | <!----> | <!----> | 1000 to 4999 | Wokingham Council                                | NA | 2020/03/31 00:00:00 | 2020/03/25 12:11:43 |  30.4 |\n| WOLSELEY UK LIMITED                              | 13874 | 2 Kingmaker Court, Warwick Technology Park, Gallows Hill, Warwick, Warwickshire, United Kingdom, CV34 6DY | CV34 6DY | 00636445 | 46900                         |  5.0 |  2.9 |   28.3 |   21.1 | ⋯ | 83.6 | 16.4 | https://corporate.wolseley.co.uk/how-we-work/equal-opportunities/gender-pay-2019.aspx                                                                      | Sally-Anne Griffiths (Human Resources Director)                 | 1000 to 4999 | WOLSELEY UK LIMITED                              | NA | 2020/04/05 00:00:00 | 2019/10/18 11:06:16 |  10.0 |\n| Wolverhampton City Council                       | 13876 | Civic Centre, St. Peters Square, Wolverhampton, West Midlands, United Kingdom, WV1 1SH                    | WV1 1SH  | <!----> | 1,\n84110                     |  4.5 |  0.2 |     NA |     NA | ⋯ | 30.9 | 69.1 | https://www.wolverhampton.gov.uk/your-council/equalities-and-diversity/workforce-monitoring-data                                                           | <!----> | 1000 to 4999 | Wolverhampton City Council                       | NA | 2020/03/31 00:00:00 | 2020/03/13 14:55:21 |   9.0 |\n| WOMBLE BOND DICKINSON (UK) LLP                   |  2215 | 4 More London Riverside, London, United Kingdom, SE1 2AU                                                  | SE1 2AU  | OC317661 | <!----> | 23.7 | 33.3 |   48.1 |    0.0 | ⋯ | 43.3 | 56.7 | https://www.womblebonddickinson.com/sites/default/files/2020-05/Gender%20pay%20gap%20report%202019.pdf                                                     | Tracy Walsh (Partner/Board sponsor for Diversity and Inclusion) | 1000 to 4999 | WOMBLE BOND DICKINSON (UK) LLP                   | NA | 2020/04/05 00:00:00 | 2020/05/21 11:36:04 |  47.4 |\n| WOOD GROUP UK LIMITED                            | 13887 | 15 Justice Mill Lane, Aberdeen, Scotland, AB11 6EQ                                                        | AB11 6EQ | SC296737 | 9100                          | 26.6 | 32.5 |    1.8 | -102.6 | ⋯ | 87.4 | 12.6 | https://www.woodplc.com/policies-and-notices/gender-pay-gap                                                                                                | Sue MacDonald (Executive President - People &amp; Organisation)     | 1000 to 4999 | WOOD GROUP UK LIMITED                            | NA | 2020/04/05 00:00:00 | 2020/03/19 14:50:28 |  53.2 |\n| Worcestershire Health And Care Nhs Trust         | 13902 | Unit 19, Isaac Maddox House, Shrub Hill Industrial Estate, Worcester, WR4 9RW                             | WR4 9RW  | <!----> | 1,\n86210                     | 15.2 |  4.6 |   22.1 |   31.8 | ⋯ | 14.0 | 86.0 | https://www.hacw.nhs.uk/gender-pay-gap                                                                                                                     | <!----> | 1000 to 4999 | Worcestershire Health And Care Nhs Trust         | NA | 2020/03/31 00:00:00 | 2020/03/12 14:42:21 |  30.4 |\n| WORKERS' EDUCATIONAL ASSOCIATION                 | 13904 | 4 Luke Street, London, Greater London, EC2A 4XW                                                           | EC2A 4XW | 02806910 | 85590                         |  3.5 |  0.0 |     NA |     NA | ⋯ | 23.7 | 76.3 | https://www.wea.org.uk/about-us/equality-diversity-and-inclusion                                                                                           | Margaret Johnson (Head of HR and Organisational Design)         | 1000 to 4999 | WORKERS' EDUCATIONAL ASSOCIATION                 | NA | 2020/04/05 00:00:00 | 2020/05/04 09:13:50 |   7.0 |\n| WORLDPAY (UK) LIMITED                            |   480 | The Walbrook Building, 25 Walbrook, London, EC4N 8AF                                                      | EC4N 8AF | 07316500 | 82990                         | 29.8 | 39.6 |   56.7 |   58.6 | ⋯ | 77.5 | 22.5 | <!----> | Dan Brames (EVP)                                                | 1000 to 4999 | WORLDPAY (UK) LIMITED                            | NA | 2020/04/05 00:00:00 | 2021/10/04 16:53:25 |  59.6 |\n| WORLEY SERVICES UK LIMITED                       | 18299 | Annan House, Palmerston Road, Aberdeen, Scotland, AB11 5QP                                                | AB11 5QP | SC572221 | 9100                          | 21.7 | 30.1 |   17.9 |   16.4 | ⋯ | 91.0 |  9.0 | https://www.worley.com/~/media/Files/W/WorleyParsons-V2/documents/corporate-governance/2020/Gender%20pay%20gap%20report_032020_RevB.pdf                    | Shaun Poll (Vice President - Operations, UK)                    | 1000 to 4999 | WORLEY SERVICES UK LIMITED                       | NA | 2020/04/05 00:00:00 | 2020/05/06 15:59:37 |  43.4 |\n| WREN KITCHENS LIMITED                            | 13926 | The Nest, Falkland Way, Barton-Upon-Humber, England, DN18 5RL                                             | DN18 5RL | 06799478 | 23700,\n31020,\n43320,\n47599 |  3.7 | 14.1 |   19.1 |   -0.3 | ⋯ | 71.1 | 28.9 | https://static.wrenkitchens.com/pdf/gender-pay-gap-review.pdf                                                                                              | Alex Grant (Finance Director)                                   | 1000 to 4999 | WREN KITCHENS LIMITED                            | NA | 2020/04/05 00:00:00 | 2021/10/04 08:47:51 |   7.4 |\n| WRIGHT RESTAURANTS LTD                           | 13932 | First Floor, 1 The Lower Parade, Sutton Coldfield, West Midlands, B72 1XX                                 | B72 1XX  | 04487036 | 56102                         |  2.8 |  0.0 |   63.0 |   50.0 | ⋯ | 47.0 | 53.0 | <!----> | Toby Wright (Office Manager)                                    | 1000 to 4999 | WRIGHT RESTAURANTS LTD                           | NA | 2020/04/05 00:00:00 | 2020/03/09 10:15:17 |   5.6 |\n| WW GBR LIMITED                                   |   347 | Millennium House, Ludlow Road, Maidenhead, Berkshire, SL6 2SL                                             | SL6 2SL  | 01248588 | 86900                         | 40.5 | 16.8 |   81.7 |   71.7 | ⋯ |  9.5 | 90.5 | https://www.weightwatchers.com/uk/sites/uk/files/gender-pay-gap_2019_0.pdf                                                                                 | Anna Hill (SVP &amp; GM UK)                                         | 1000 to 4999 | WW GBR LIMITED                                   | NA | 2020/04/05 00:00:00 | 2020/06/16 08:23:30 |  81.0 |\n| XC TRAINS LIMITED                                | 13981 | C/O Arriva Plc 1 Admiral Way, Doxford International, Business Park, Sunderland, SR3 3XP                   | SR3 3XP  | 04402048 | 49100                         | 30.6 | 21.0 |   27.7 |   16.0 | ⋯ | 95.0 |  5.0 | https://www.arriva.co.uk/~/media/Files/A/Arriva-Corporate-V2/documents/arriva-uks-2019-gender-pay-gap-report.pdf                                           | Alison O'Connor (Director of Corporate Affairs)                 | 1000 to 4999 | XC TRAINS LIMITED                                | NA | 2020/04/05 00:00:00 | 2020/03/04 10:53:54 |  61.2 |\n| XL CATLIN SERVICES SE                            | 14426 | 20 Gracechurch Street, London, EC3V 0BG                                                                   | EC3V 0BG | SE000103 | 66220                         | 32.9 | 34.5 |   60.9 |   58.5 | ⋯ | 77.9 | 22.1 | https://axaxl.com/-/media/axaxl/files/pdfs/about-us/diversity-and-inclusion/2019-gender-pay-gap-report.pdf                                                 | Paul Greensmith (CEO UK Region &amp; Legal Entities, AXA XL)        | 1000 to 4999 | XL CATLIN SERVICES SE                            | NA | 2020/04/05 00:00:00 | 2020/02/07 11:05:20 |  65.8 |\n| YHA (ENGLAND AND WALES)                          |    88 | Trevelyan House, Dimple Road, Matlock, Derbyshire, DE4 3YH                                                | DE4 3YH  | 00282555 | 55202                         |  5.8 |  6.0 |     NA |     NA | ⋯ | 48.0 | 52.0 | <!----> | James Blake (CEO)                                               | 1000 to 4999 | YHA (ENGLAND AND WALES)                          | NA | 2020/04/05 00:00:00 | 2019/12/03 08:42:09 |  11.6 |\n| YODEL DELIVERY NETWORK LIMITED                   | 14025 | Atlantic Pavilion, Albert Dock, Liverpool, United Kingdom, L3 4AE                                         | L3 4AE   | 05200072 | 49410,\n52219,\n74909         | -5.9 |  2.7 | -165.6 |  -13.3 | ⋯ | 81.2 | 18.8 | <!----> | John Hardman (Chief People Officer)                             | 1000 to 4999 | YODEL DELIVERY NETWORK LIMITED                   | NA | 2020/04/05 00:00:00 | 2021/07/12 14:20:03 | -11.8 |\n| YORK ST JOHN UNIVERSITY                          | 14028 | Lord Mayors Walk, York, North Yorkshire, YO31 7EX                                                         | YO31 7EX | 04498683 | 85421,\n85422                 |  9.3 | 16.2 |   27.2 |    0.0 | ⋯ | 47.2 | 52.8 | https://www.yorksj.ac.uk/media/content-assets/equality-and-diversity/documents/YSJU-Gender-Gap-2019---5.pdf                                                | <!----> | 1000 to 4999 | YORK ST JOHN UNIVERSITY                          | NA | 2020/03/31 00:00:00 | 2020/03/30 11:20:38 |  18.6 |\n| YORK TEACHING HOSPITAL FACILITIES MANAGEMENT LLP | 19697 | York Hospital, Wigginton Road, York, England, YO31 8HE                                                    | YO31 8HE | OC421341 | <!----> |  4.1 |  3.2 |     NA |     NA | ⋯ | 40.8 | 59.2 | https://www.ythfm.co.uk/seecmsfile/?id=369                                                                                                                 | Brian Golding (Managing Director)                               | 1000 to 4999 | YORK TEACHING HOSPITAL FACILITIES MANAGEMENT LLP | NA | 2020/04/05 00:00:00 | 2020/03/31 12:21:53 |   8.2 |\n| Yorkshire Building Society                       | 14480 | Yorkshire House, Yorkshire Drive, Bradford, BD5 8LJ                                                       | BD5 8LJ  | MUT00001 | 64192                         | 30.5 | 27.9 |   47.9 |   34.1 | ⋯ | 56.2 | 43.8 | https://www.ybs.co.uk/your-society/inside-your-society/corporate-governance/policies/gender-pay-gap.html                                                   | Stephen White (Chief Operating Officer)                         | 1000 to 4999 | Yorkshire Building Society                       | NA | 2020/04/05 00:00:00 | 2019/12/19 06:06:39 |  61.0 |\n| YORKSHIRE WATER SERVICES LIMITED                 | 15780 | Western House, Halifax Road, Bradford, West Yorkshire, BD6 2SZ                                            | BD6 2SZ  | 02366682 | 36000                         |  1.5 |  0.1 |   13.6 |    5.7 | ⋯ | 78.5 | 21.5 | https://www.yorkshirewater.com/careers/working-for-yorkshire-water/diversity-inclusion/                                                                    | Liz Barber (Chief Executive Officer)                            | 1000 to 4999 | YORKSHIRE WATER SERVICES LIMITED                 | NA | 2020/04/05 00:00:00 | 2020/04/02 08:00:46 |   3.0 |\n| YOUNG &amp; CO'S BREWERY PLC                         | 14036 | Copper House, 5 Garratt Lane, Wandsworth, London, SW18 4AQ                                                | SW18 4AQ | 00032762 | 55100,\n56302                 |  9.6 |  6.8 |   24.6 |    8.3 | ⋯ | 70.5 | 29.5 | https://www.youngs.co.uk/youngs/uploads/sites/2/2020/03/Youngs-gender-pay-gap-2020.pdf                                                                     | Patrick Dardis (Chief Executive)                                | 1000 to 4999 | YOUNG &amp; CO'S BREWERY PLC                         | NA | 2020/04/05 00:00:00 | 2020/03/20 16:08:39 |  19.2 |\n| YOUNG'S SEAFOOD LIMITED                          |   606 | Young's House, Wickham Road, Grimsby, England, DN31 3SW                                                   | DN31 3SW | 03751665 | 10200                         | 19.0 |  6.0 |   59.0 |   26.0 | ⋯ | 68.0 | 32.0 | https://youngsseafood.co.uk/youngs-gender-pay-gap-report/                                                                                                  | Dominic Kerrigan (HR Director)                                  | 1000 to 4999 | YOUNG'S SEAFOOD LIMITED                          | NA | 2020/04/05 00:00:00 | 2020/03/19 11:25:18 |  38.0 |\n| YOURLIFE MANAGEMENT SERVICES LIMITED             | 14042 | Fourth Floor, 100 Holdenhurst Road, Bournemouth, Dorset, BH8 8AQ                                          | BH8 8AQ  | 07153519 | 68320,\n96090                 | 18.5 |  3.9 |   50.0 |   26.9 | ⋯ | 14.1 | 85.9 | https://www.mccarthyandstonegroup.co.uk/making-a-difference/gender-pay-gap-report-2019                                                                     | Paula Jordan (Group HR Director)                                | 1000 to 4999 | YOURLIFE MANAGEMENT SERVICES LIMITED             | NA | 2020/04/05 00:00:00 | 2020/07/01 11:23:55 |  37.0 |\n| YOURS CLOTHING LIMITED                           | 14044 | Newcombe House, Bakewell Road, Orton Southgate, Peterborough, United Kingdom, PE2 6XU                     | PE2 6XU  | 02886196 | 47710                         | 59.0 | 57.0 |   88.0 |   73.0 | ⋯ | 11.2 | 88.8 | https://www.yoursclothing.co.uk/gender-pay-gap                                                                                                             | Anna Heather (Finance Director)                                 | 1000 to 4999 | YOURS CLOTHING LIMITED                           | NA | 2020/04/05 00:00:00 | 2020/04/28 15:59:05 | 118.0 |\n| YUSEN LOGISTICS (UK) LIMITED                     | 14051 | Grange Park 1, Cheaney Drive, Grange Park, Northampton, NN4 5FB                                           | NN4 5FB  | 02548297 | 49410,\n50200,\n51210,\n52103 |  4.7 | -2.1 |  -86.4 |    0.0 | ⋯ | 71.0 | 29.0 | <!----> | Suzanne Mercer (HR Director)                                    | 1000 to 4999 | YUSEN LOGISTICS (UK) LIMITED                     | NA | 2020/04/05 00:00:00 | 2020/03/30 10:19:10 |   9.4 |\n| ZELLIS UK LIMITED                                |  9144 | 740 Waterside Drive Aztec West, Almondsbury, Bristol, England, BS32 4UF                                   | BS32 4UF | 01587537 | 58290,\n63110                 | 18.8 | 27.6 |   29.8 |   28.6 | ⋯ | 63.9 | 36.1 | <!----> | Caroline Drake (Chief People Officer)                           | 1000 to 4999 | ZELLIS UK LIMITED                                | NA | 2020/04/05 00:00:00 | 2020/07/10 08:26:03 |  37.6 |\n| ZURICH EMPLOYMENT SERVICES LIMITED               | 14076 | Unity Place, 1 Carfax Close, Swindon, Wiltshire, United Kingdom, SN1 1AP                                  | SN1 1AP  | 00243883 | 78300,\n82990                 | 23.4 | 27.6 |   48.8 |   49.9 | ⋯ | 70.3 | 29.7 | https://www.zurich.co.uk/-/media/project/zwp/united-kingdom/docs/about-us/cr/zurich-uk-gender-pay-gap-2019.pdf?la=en&amp;hash=B63A743DC6127FCD767B739EA2A1DCEB | Steve Collinson (Head of The People Team)                       | 1000 to 4999 | ZURICH EMPLOYMENT SERVICES LIMITED               | NA | 2020/04/05 00:00:00 | 2020/04/09 12:19:18 |  46.8 |\n| ZURICH UK GENERAL SERVICES LIMITED               | 14078 | The Zurich Centre 3000 Parkway, Whiteley, Fareham, Hampshire, PO15 7JZ                                    | PO15 7JZ | 03843124 | 82990                         | 21.5 | 21.9 |   54.0 |   36.3 | ⋯ | 70.0 | 30.0 | https://www.zurich.co.uk/-/media/project/zwp/united-kingdom/docs/about-us/cr/zurich-uk-gender-pay-gap-2019.pdf?la=en&amp;hash=B63A743DC6127FCD767B739EA2A1DCEB | Steve Collinson (Head of The People Team)                       | 1000 to 4999 | ZURICH UK GENERAL SERVICES LIMITED               | NA | 2020/04/05 00:00:00 | 2020/04/09 12:24:11 |  43.0 |\n\n",
            "text/latex": "A data.frame: 1649 × 28\n\\begin{tabular}{lllllllllllllllllllll}\n EmployerName & EmployerId & address & PostCode & CompanyNumber & SicCodes & DiffMeanHourlyPercent & DiffMedianHourlyPercent & DiffMeanBonusPercent & DiffMedianBonusPercent & ⋯ & MaleTopQuartile & FemaleTopQuartile & CompanyLinkToGPGInfo & ResponsiblePerson & EmployerSize & CurrentName & SubmittedAfterTheDeadline & DueDate & DateSubmitted & DiffMeanHourlyPercentTimes2\\\\\n <chr> & <int> & <chr> & <chr> & <chr> & <chr> & <dbl> & <dbl> & <dbl> & <dbl> & ⋯ & <dbl> & <dbl> & <chr> & <chr> & <chr> & <chr> & <lgl> & <chr> & <chr> & <dbl>\\\\\n\\hline\n\t 'PRIFYSGOL ABERYSTWYTH' AND 'ABERYSTWYTH UNIVERSITY' & 19070 & Aberystwyth University, Penglais, Ceredigion, SY23 3FL                                                       & SY23 3FL & RC000641 &                                       & 11.5 &  10.3 &    NA &    NA & ⋯ & 62.0 & 38.0 & https://www.aber.ac.uk/en/equality/genderpaygapreporting2019/ \n\nhttps://www.aber.ac.uk/cy/equality/gender-pay-gap/ & Elizabeth Treasure (Vice-Chancellor)                  & 1000 to 4999 & 'PRIFYSGOL ABERYSTWYTH' AND 'ABERYSTWYTH UNIVERSITY' & NA & 2020/04/05 00:00:00 & 2020/04/03 14:47:45 & 23.0\\\\\n\t 2 SISTERS FOOD GROUP LIMITED                         &    77 & Trinity Park House Trinity Business Park, Fox Way, Wakefield, West Yorkshire, WF2 8EE                        & WF2 8EE  & 02826929 & 10120                                 & 25.0 &   7.3 &  65.0 &   7.6 & ⋯ & 65.9 & 34.1 & https://www.2sfg.com/PDF/2sfg-GenderPay-2020.pdf                                                                     & Lee Greenbury (Group Director of People \\& Compliance) & 1000 to 4999 & 2 SISTERS FOOD GROUP LIMITED                         & NA & 2020/04/05 00:00:00 & 2021/09/30 12:54:30 & 50.0\\\\\n\t 24 X 7 LTD.                                          &   695 & Little Easton Manor Park Road, Little Easton, Dunmow, Essex, England, CM6 2JN                                & CM6 2JN  & 04142000 & 52290                                 &  0.2 &   0.0 &    NA &    NA & ⋯ & 44.0 & 56.0 &                                                                                                                      & lisa hyem (fd)                                        & 1000 to 4999 & 24 X 7 LTD.                                          & NA & 2020/04/05 00:00:00 & 2021/10/12 09:31:56 &  0.4\\\\\n\t 2GETHER SUPPORT SOLUTIONS LIMITED                    & 19676 & Management Offices William Harvey Hospital, Kennington Road, Willesborough, Ashford, Kent, England, TN24 0LZ & TN24 0LZ & 11385580 & 81100                                 &  3.7 &   0.0 &    NA &    NA & ⋯ & 53.5 & 46.5 & https://2gethersupportsolutions.org/about-us/                                                                        & Finbarr Murray (Managing Director)                    & 1000 to 4999 & 2GETHER SUPPORT SOLUTIONS LIMITED                    & NA & 2020/04/05 00:00:00 & 2020/03/24 14:58:53 &  7.4\\\\\n\t 3663 TRANSPORT LIMITED                               &   697 & 814 Leigh Road, Slough, England, SL1 4BD                                                                     & SL1 4BD  & 00456846 & 52290                                 &  1.4 &   7.1 &  47.4 &  52.5 & ⋯ & 96.0 &  4.0 & https://www.bidfood.co.uk/gender-pay-gap-reports/                                                                    & Heather Angus (HR \\& Sustainability Director)          & 1000 to 4999 & 3663 TRANSPORT LIMITED                               & NA & 2020/04/05 00:00:00 & 2020/05/14 16:07:39 &  2.8\\\\\n\t 3M UNITED KINGDOM PUBLIC LIMITED COMPANY             &   293 & 3m Centre, Cain Road, Bracknell, Berkshire, RG12 8HT                                                         & RG12 8HT & 01123045 & 20301,\n23910,\n32990                 & 10.0 &   8.0 &  18.0 &  28.0 & ⋯ & 71.0 & 29.0 &                                                                                                                      & Katherine Parks (PR\\& I Leader, North Europe)          & 1000 to 4999 & 3M UNITED KINGDOM PUBLIC LIMITED COMPANY             & NA & 2020/04/05 00:00:00 & 2020/03/17 13:02:54 & 20.0\\\\\n\t A-DAY CONSULTANTS LIMITED                            & 15592 & Kingston House Towers Business Park, Wilmslow Road, Manchester, England, M20 2LD                             & M20 2LD  & 04493101 & 78109                                 & 14.8 &  17.9 &  52.5 &  28.0 & ⋯ & 38.9 & 61.1 & https://www.academicsltd.co.uk/                                                                                      & Claire Tyrrell (Group HR Director)                    & 1000 to 4999 & A-DAY CONSULTANTS LIMITED                            & NA & 2020/04/05 00:00:00 & 2020/03/25 16:19:41 & 29.6\\\\\n\t A-PLAN HOLDINGS                                      &  1330 & 2 Des Roches Square, Witney, Oxfordshire, OX28 4LE                                                           & OX28 4LE & 00750484 & 66220                                 & 18.2 &   8.6 &   9.9 &  13.0 & ⋯ & 71.0 & 29.0 & https://www.aplan.co.uk/                                                                                             & Andrew Galbraith (Group Chief Financial Officer)      & 1000 to 4999 & A-PLAN HOLDINGS                                      & NA & 2020/04/05 00:00:00 & 2020/03/09 09:08:57 & 36.4\\\\\n\t A. SHARE \\& SONS LIMITED                              &   124 & 45-49 Villiers Street, Sunderland, SR1 1HA                                                                   & SR1 1HA  & 00323778 & 47530,\n47599                         & 25.0 &  31.0 &  40.0 &  85.0 & ⋯ & 84.0 & 16.0 & https://www.scsplc.co.uk/                                                                                            & Marie Liston (Corporate Services Director)            & 1000 to 4999 & A. SHARE \\& SONS LIMITED                              & NA & 2020/04/05 00:00:00 & 2020/06/11 11:19:46 & 50.0\\\\\n\t A.B.M. CATERING LIMITED                              &   733 & Eagle Court, 63-67 Saltisford, Warwick, Warwickshire, CV34 4AF                                               & CV34 4AF & 04168334 & 56290,\n70100                         & 21.7 &  16.5 & -70.3 &  61.5 & ⋯ & 33.9 & 66.1 & http://www.abmcatering.co.uk/wp-content/uploads/2019/07/Gender-Pay-Gap-Report-2018.pdf                               & Sue Hill (Finance \\& HR Director - Operations)         & 1000 to 4999 & A.B.M. CATERING LIMITED                              & NA & 2020/04/05 00:00:00 & 2020/01/29 12:20:31 & 43.4\\\\\n\t AAH PHARMACEUTICALS LIMITED                          &   757 & Sapphire Court, Walsgrave Triangle, Coventry, CV2 2TX                                                        & CV2 2TX  & 00123458 & 21100,\n46460                         & 10.7 &  -0.4 &  48.0 & -28.0 & ⋯ & 61.0 & 39.0 & https://mckesson.uk/wp-content/uploads/2020/03/Gender-Pay-Gap-Report-2019-Final.pdf                                  & Jane Davies (HR Director)                             & 1000 to 4999 & AAH PHARMACEUTICALS LIMITED                          & NA & 2020/04/05 00:00:00 & 2020/03/18 11:11:39 & 21.4\\\\\n\t AB AGRI LIMITED                                      &   762 & Weston Centre, 10 Grosvenor Street, London, W1K 4QY                                                          & W1K 4QY  & 00193800 & 10910                                 &  9.4 & -11.8 &  35.1 &  32.6 & ⋯ & 72.0 & 28.0 & https://www.abagri.com/responsibility/our-policies                                                                   & Jose Nobre (Chief Executive)                          & 1000 to 4999 & AB AGRI LIMITED                                      & NA & 2020/04/05 00:00:00 & 2019/12/19 10:33:42 & 18.8\\\\\n\t ABB LIMITED                                          &   771 & Daresbury Park, Daresbury, Warrington, Cheshire, WA4 4BT                                                     & WA4 4BT  & 03780764 & 27120,\n43210,\n46520,\n70100         & 23.5 &  30.6 &  59.0 &  25.0 & ⋯ & 87.9 & 12.1 & https://new.abb.com/uk/about                                                                                         & Craig Prendergast (Country HR Manager)                & 1000 to 4999 & ABB LIMITED                                          & NA & 2020/04/05 00:00:00 & 2020/04/01 20:27:38 & 47.0\\\\\n\t ABBEYFIELD SOCIETY (THE)                             &   776 & St Peter's House, 2 Bricket Road, St. Albans, Hertfordshire, AL1 3JW                                         & AL1 3JW  & 00574816 & 55900,\n87300                         & 25.0 &  10.0 & -14.0 &   0.0 & ⋯ & 21.0 & 79.0 & https://www.abbeyfield.com/about-us/our-financial-and-annual-reports/                                                & Gail Manley (HR Director)                             & 1000 to 4999 & ABBEYFIELD SOCIETY (THE)                             & NA & 2020/04/05 00:00:00 & 2020/05/29 09:56:14 & 50.0\\\\\n\t ACADEMY TRANSFORMATION TRUST                         & 14495 & Emmanuel Court, Reddicroft, Sutton Coldfield, England, B73 6AZ                                               & B73 6AZ  & 07846852 & 1,\n1,\n85200,\n85310,\n85590,\n85600 & 22.9 &  35.1 &  -4.5 & -17.2 & ⋯ & 35.9 & 64.1 & https://www.academytransformationtrust.co.uk/about-the-trust/company-information                                     &                                                       & 1000 to 4999 & ACADEMY TRANSFORMATION TRUST                         & NA & 2020/03/31 00:00:00 & 2020/03/30 12:52:12 & 45.8\\\\\n\t ACCESS UK LTD                                        &   828 & The Old School, School Lane, Stratford St Mary, Colchester, Essex,, CO7 6LZ                                  & CO7 6LZ  & 02343760 & 62090                                 & 23.0 &  25.0 &  37.7 &  16.5 & ⋯ & 81.0 & 19.0 & https://www.theaccessgroup.com/company/our-people-and-values/                                                        & Claire Scott (Chief People Officer)                   & 1000 to 4999 & ACCESS UK LTD                                        & NA & 2020/04/05 00:00:00 & 2020/12/18 14:37:20 & 46.0\\\\\n\t Accord Housing Association Ltd                       & 15369 & 178 Birmingham Road, West Bromwich, West Midlands, B706QG                                                    & B706QG   &          & 41202,\n68201,\n87200,\n87300         & 19.1 &   7.8 &    NA &    NA & ⋯ & 31.0 & 69.0 &                                                                                                                      & Christopher Handy (Chief Executive)                   & 1000 to 4999 & Accord Housing Association Ltd                       & NA & 2020/04/05 00:00:00 & 2020/03/17 12:31:51 & 38.2\\\\\n\t ACTION FOR CHILDREN                                  &   874 & ACTION FOR CHILDREN, 3 The Boulevard, Ascot Road, Watford, Hertfordshire, WD18 8AG                           & WD18 8AG & 04764232 & 88910                                 & 14.0 &  10.0 &    NA &    NA & ⋯ & 24.0 & 76.0 & https://www.actionforchildren.org.uk/media/12984/gender-pay-gap-report.pdf                                           & Melanie Armstrong (Interim Chief Executive)           & 1000 to 4999 & ACTION FOR CHILDREN                                  & NA & 2020/04/05 00:00:00 & 2020/05/04 13:22:30 & 28.0\\\\\n\t Activate Learning                                    & 17170 & Oxpens Road, Oxford, OX1 1SA                                                                                 & OX1 1SA  &          & 1,\n85410                             &  8.6 &   6.6 &  79.8 &  88.6 & ⋯ & 34.9 & 65.1 &                                                                                                                      &                                                       & 1000 to 4999 & Activate Learning                                    & NA & 2020/03/31 00:00:00 & 2020/04/28 11:47:08 & 17.2\\\\\n\t ADDISON MOTORS LIMITED                               &   896 & Lookers House 3 Etchells Road, West Timperley, Altrincham, United Kingdom, WA14 5XS                          & WA14 5XS & 00714804 & 45111                                 & 25.1 &  13.6 &  47.6 &  42.8 & ⋯ & 82.7 & 17.3 & https://www.lookersplc.com/our-business/our-responsibility/gender-pay/                                               & Chris Whitaker (Chief People Officer)                 & 1000 to 4999 & ADDISON MOTORS LIMITED                               & NA & 2020/04/05 00:00:00 & 2022/02/02 12:17:27 & 50.2\\\\\n\t ADECCO UK LIMITED                                    &   899 & 10 Bishops Square, London, England, E1 6EG                                                                   & E1 6EG   & 00593232 & 78200                                 & -3.8 &   2.2 &   7.2 &  25.3 & ⋯ & 57.0 & 43.0 & https://www.adecco.co.uk/gender-pay-gap                                                                              & Alex Fleming (Country Head, UK and Ireland)           & 1000 to 4999 & ADECCO UK LIMITED                                    & NA & 2020/04/05 00:00:00 & 2020/04/02 15:19:43 & -7.6\\\\\n\t Adrian Flux Insurance Services                       & 17234 & East Winch Hall, East Winch, Kings Lynn, PE32 1HN                                                            & PE32 1HN &          & 66220                                 & 34.7 &   5.1 &  90.9 &  50.9 & ⋯ & 56.0 & 44.0 & https://www.adrianflux.co.uk/blog/wp-content/uploads/2020/03/AF5334-GenderPayUpdate2020.pdf                          & David Flux (Partner)                                  & 1000 to 4999 & Adrian Flux Insurance Services                       & NA & 2020/04/05 00:00:00 & 2020/03/11 16:09:13 & 69.4\\\\\n\t AECOM INFRASTRUCTURE \\& ENVIRONMENT UK LIMITED        &   946 & Aldgate Tower, 2 Leman Street, London, United Kingdom, E1 8FA                                                & E1 8FA   & 00880328 & 74901                                 & 18.0 &  18.0 &  40.0 &  13.0 & ⋯ & 85.0 & 15.0 & https://aecom.com/content/wp-content/uploads/2020/12/20083\\_Gender-pay-gap\\_RE\\_FINAL.pdf                               & Colin Wood (Chief Executive, Europe)                  & 1000 to 4999 & AECOM INFRASTRUCTURE \\& ENVIRONMENT UK LIMITED        & NA & 2020/04/05 00:00:00 & 2020/12/17 16:35:05 & 36.0\\\\\n\t AECOM LIMITED                                        &   947 & Aldgate Tower, 2 Leman Street, London, United Kingdom, E1 8FA                                                & E1 8FA   & 01846493 & 71122                                 & 21.3 &  20.6 &   6.0 &   2.0 & ⋯ & 83.0 & 17.0 & https://aecom.com/content/wp-content/uploads/2020/12/20083\\_Gender-pay-gap\\_RE\\_FINAL.pdf                               & Colin Wood (CEO, Europe)                              & 1000 to 4999 & AECOM LIMITED                                        & NA & 2020/04/05 00:00:00 & 2020/12/17 16:37:29 & 42.6\\\\\n\t AEGON UK CORPORATE SERVICES LIMITED                  &   950 & Aegon Lochside Crescent, Edinburgh Park, Edinburgh, Scotland, EH12 9SE                                       & EH12 9SE & SC170062 & 82990                                 & 34.7 &  23.4 &  65.0 &  27.9 & ⋯ & 66.5 & 33.5 & https://www.aegon.co.uk/about-aegon/corporate-responsibility/gender-pay-gap-report.html                              & Gill Scott (HR Director)                              & 1000 to 4999 & AEGON UK CORPORATE SERVICES LIMITED                  & NA & 2020/04/05 00:00:00 & 2020/04/14 11:16:10 & 69.4\\\\\n\t AFE GROUP LIMITED                                    &   962 & 9 Bryggen Road, North Lynn Industrial Estate, King's Lynn, Norfolk, England, PE30 2HZ                        & PE30 2HZ & 03872673 & 32990                                 & 20.0 &  12.4 &  69.5 &  51.5 & ⋯ & 93.4 &  6.6 & https://www.theafegroup.com                                                                                          & Timothy Smith (CEO)                                   & 1000 to 4999 & AFE GROUP LIMITED                                    & NA & 2020/04/05 00:00:00 & 2020/03/30 09:17:03 & 40.0\\\\\n\t AFFINITY WATER LIMITED                               &   967 & Tamblin Way, Hatfield, Hertfordshire, AL10 9EZ                                                               & AL10 9EZ & 02546950 & 36000                                 & 19.0 &  27.0 &  16.4 &   0.0 & ⋯ & 74.0 & 26.0 &                                                                                                                      & Sue Flower (Director of HR and Culture)               & 1000 to 4999 & AFFINITY WATER LIMITED                               & NA & 2020/04/05 00:00:00 & 2020/04/03 09:23:34 & 38.0\\\\\n\t AFH STORES UK LIMITED                                &    22 & 3 Savile Row, London, England, W1S 3PB                                                                       & W1S 3PB  & 06423604 & 47710                                 &  7.3 &  10.4 &  46.0 &   0.0 & ⋯ & 35.8 & 64.2 & https://www.abercrombie.com/anf/files/2019\\_uk-gender-pay-report.pdf                                                  & Anna Mollerstrom (UK A\\&F Entity Director)             & 1000 to 4999 & AFH STORES UK LIMITED                                & NA & 2020/04/05 00:00:00 & 2020/04/02 15:10:44 & 14.6\\\\\n\t AG SERVICE COMPANY LIMITED                           &   979 & Milton Gate, 60 Chiswell Street, London, EC1Y 4AG                                                            & EC1Y 4AG & 07299444 & 82990                                 & 17.9 &  19.8 &  46.2 &  50.0 & ⋯ & 45.0 & 55.0 &                                                                                                                      & Niki Lawson (HR Director)                             & 1000 to 4999 & AG SERVICE COMPANY LIMITED                           & NA & 2020/04/05 00:00:00 & 2020/04/03 14:27:12 & 35.8\\\\\n\t AGEAS INSURANCE LIMITED                              &   992 & Ageas House Hampshire Corporate Park, Templars Way, Eastleigh, Hampshire, SO53 3YA                           & SO53 3YA & 00354568 & 65120                                 & 30.1 &  25.7 &  53.7 &  40.6 & ⋯ & 66.1 & 33.9 & https://www.ageas.co.uk/important-information/gender-pay-gap/                                                        & Lyn Nicholls (HR Director)                            & 1000 to 4999 & AGEAS INSURANCE LIMITED                              & NA & 2020/04/05 00:00:00 & 2020/03/27 14:53:44 & 60.2\\\\\n\t ⋮ & ⋮ & ⋮ & ⋮ & ⋮ & ⋮ & ⋮ & ⋮ & ⋮ & ⋮ & ⋱ & ⋮ & ⋮ & ⋮ & ⋮ & ⋮ & ⋮ & ⋮ & ⋮ & ⋮ & ⋮\\\\\n\t Wirral Council                                   & 13848 & The Treasury Building, Cleveland Street, Birkenhead, Merseyside, United Kingdom, CH41 6BU                 & CH41 6BU &          & 1,\n84110                     &  6.9 & 10.9 &     NA &     NA & ⋯ & 44.5 & 55.5 & https://www.wirral.gov.uk/about-council/budgets-and-spending/gender-pay-gap-reporting                                                                      &                                                                 & 1000 to 4999 & Wirral Council                                   & NA & 2020/03/31 00:00:00 & 2020/03/23 14:54:36 &  13.8\\\\\n\t WITHERSLACK GROUP LIMITED                        & 13856 & Lupton Tower, Lupton, Carnforth, Lancashire, LA6 2PR                                                      & LA6 2PR  & 03579104 & 85200,\n85310,\n87900         &  1.6 &  1.4 &  -13.3 &   33.3 & ⋯ & 44.3 & 55.7 & https://witherslackgroup.co.uk/gender-pay-gap-statement/                                                                                                   & Sarah Jones (Group FC)                                          & 1000 to 4999 & WITHERSLACK GROUP LIMITED                        & NA & 2020/04/05 00:00:00 & 2020/01/27 16:16:03 &   3.2\\\\\n\t Wokingham Council                                & 13871 & Civic Offices, Shute End, Wokingham, Berkshire, United Kingdom, RG40 1BN                                  & RG40 1BN &          & 1,\n84110                     & 15.2 & 25.8 &   77.8 &   93.7 & ⋯ & 38.2 & 61.8 &                                                                                                                                                            &                                                                 & 1000 to 4999 & Wokingham Council                                & NA & 2020/03/31 00:00:00 & 2020/03/25 12:11:43 &  30.4\\\\\n\t WOLSELEY UK LIMITED                              & 13874 & 2 Kingmaker Court, Warwick Technology Park, Gallows Hill, Warwick, Warwickshire, United Kingdom, CV34 6DY & CV34 6DY & 00636445 & 46900                         &  5.0 &  2.9 &   28.3 &   21.1 & ⋯ & 83.6 & 16.4 & https://corporate.wolseley.co.uk/how-we-work/equal-opportunities/gender-pay-2019.aspx                                                                      & Sally-Anne Griffiths (Human Resources Director)                 & 1000 to 4999 & WOLSELEY UK LIMITED                              & NA & 2020/04/05 00:00:00 & 2019/10/18 11:06:16 &  10.0\\\\\n\t Wolverhampton City Council                       & 13876 & Civic Centre, St. Peters Square, Wolverhampton, West Midlands, United Kingdom, WV1 1SH                    & WV1 1SH  &          & 1,\n84110                     &  4.5 &  0.2 &     NA &     NA & ⋯ & 30.9 & 69.1 & https://www.wolverhampton.gov.uk/your-council/equalities-and-diversity/workforce-monitoring-data                                                           &                                                                 & 1000 to 4999 & Wolverhampton City Council                       & NA & 2020/03/31 00:00:00 & 2020/03/13 14:55:21 &   9.0\\\\\n\t WOMBLE BOND DICKINSON (UK) LLP                   &  2215 & 4 More London Riverside, London, United Kingdom, SE1 2AU                                                  & SE1 2AU  & OC317661 &                               & 23.7 & 33.3 &   48.1 &    0.0 & ⋯ & 43.3 & 56.7 & https://www.womblebonddickinson.com/sites/default/files/2020-05/Gender\\%20pay\\%20gap\\%20report\\%202019.pdf                                                     & Tracy Walsh (Partner/Board sponsor for Diversity and Inclusion) & 1000 to 4999 & WOMBLE BOND DICKINSON (UK) LLP                   & NA & 2020/04/05 00:00:00 & 2020/05/21 11:36:04 &  47.4\\\\\n\t WOOD GROUP UK LIMITED                            & 13887 & 15 Justice Mill Lane, Aberdeen, Scotland, AB11 6EQ                                                        & AB11 6EQ & SC296737 & 9100                          & 26.6 & 32.5 &    1.8 & -102.6 & ⋯ & 87.4 & 12.6 & https://www.woodplc.com/policies-and-notices/gender-pay-gap                                                                                                & Sue MacDonald (Executive President - People \\& Organisation)     & 1000 to 4999 & WOOD GROUP UK LIMITED                            & NA & 2020/04/05 00:00:00 & 2020/03/19 14:50:28 &  53.2\\\\\n\t Worcestershire Health And Care Nhs Trust         & 13902 & Unit 19, Isaac Maddox House, Shrub Hill Industrial Estate, Worcester, WR4 9RW                             & WR4 9RW  &          & 1,\n86210                     & 15.2 &  4.6 &   22.1 &   31.8 & ⋯ & 14.0 & 86.0 & https://www.hacw.nhs.uk/gender-pay-gap                                                                                                                     &                                                                 & 1000 to 4999 & Worcestershire Health And Care Nhs Trust         & NA & 2020/03/31 00:00:00 & 2020/03/12 14:42:21 &  30.4\\\\\n\t WORKERS' EDUCATIONAL ASSOCIATION                 & 13904 & 4 Luke Street, London, Greater London, EC2A 4XW                                                           & EC2A 4XW & 02806910 & 85590                         &  3.5 &  0.0 &     NA &     NA & ⋯ & 23.7 & 76.3 & https://www.wea.org.uk/about-us/equality-diversity-and-inclusion                                                                                           & Margaret Johnson (Head of HR and Organisational Design)         & 1000 to 4999 & WORKERS' EDUCATIONAL ASSOCIATION                 & NA & 2020/04/05 00:00:00 & 2020/05/04 09:13:50 &   7.0\\\\\n\t WORLDPAY (UK) LIMITED                            &   480 & The Walbrook Building, 25 Walbrook, London, EC4N 8AF                                                      & EC4N 8AF & 07316500 & 82990                         & 29.8 & 39.6 &   56.7 &   58.6 & ⋯ & 77.5 & 22.5 &                                                                                                                                                            & Dan Brames (EVP)                                                & 1000 to 4999 & WORLDPAY (UK) LIMITED                            & NA & 2020/04/05 00:00:00 & 2021/10/04 16:53:25 &  59.6\\\\\n\t WORLEY SERVICES UK LIMITED                       & 18299 & Annan House, Palmerston Road, Aberdeen, Scotland, AB11 5QP                                                & AB11 5QP & SC572221 & 9100                          & 21.7 & 30.1 &   17.9 &   16.4 & ⋯ & 91.0 &  9.0 & https://www.worley.com/\\textasciitilde{}/media/Files/W/WorleyParsons-V2/documents/corporate-governance/2020/Gender\\%20pay\\%20gap\\%20report\\_032020\\_RevB.pdf                    & Shaun Poll (Vice President - Operations, UK)                    & 1000 to 4999 & WORLEY SERVICES UK LIMITED                       & NA & 2020/04/05 00:00:00 & 2020/05/06 15:59:37 &  43.4\\\\\n\t WREN KITCHENS LIMITED                            & 13926 & The Nest, Falkland Way, Barton-Upon-Humber, England, DN18 5RL                                             & DN18 5RL & 06799478 & 23700,\n31020,\n43320,\n47599 &  3.7 & 14.1 &   19.1 &   -0.3 & ⋯ & 71.1 & 28.9 & https://static.wrenkitchens.com/pdf/gender-pay-gap-review.pdf                                                                                              & Alex Grant (Finance Director)                                   & 1000 to 4999 & WREN KITCHENS LIMITED                            & NA & 2020/04/05 00:00:00 & 2021/10/04 08:47:51 &   7.4\\\\\n\t WRIGHT RESTAURANTS LTD                           & 13932 & First Floor, 1 The Lower Parade, Sutton Coldfield, West Midlands, B72 1XX                                 & B72 1XX  & 04487036 & 56102                         &  2.8 &  0.0 &   63.0 &   50.0 & ⋯ & 47.0 & 53.0 &                                                                                                                                                            & Toby Wright (Office Manager)                                    & 1000 to 4999 & WRIGHT RESTAURANTS LTD                           & NA & 2020/04/05 00:00:00 & 2020/03/09 10:15:17 &   5.6\\\\\n\t WW GBR LIMITED                                   &   347 & Millennium House, Ludlow Road, Maidenhead, Berkshire, SL6 2SL                                             & SL6 2SL  & 01248588 & 86900                         & 40.5 & 16.8 &   81.7 &   71.7 & ⋯ &  9.5 & 90.5 & https://www.weightwatchers.com/uk/sites/uk/files/gender-pay-gap\\_2019\\_0.pdf                                                                                 & Anna Hill (SVP \\& GM UK)                                         & 1000 to 4999 & WW GBR LIMITED                                   & NA & 2020/04/05 00:00:00 & 2020/06/16 08:23:30 &  81.0\\\\\n\t XC TRAINS LIMITED                                & 13981 & C/O Arriva Plc 1 Admiral Way, Doxford International, Business Park, Sunderland, SR3 3XP                   & SR3 3XP  & 04402048 & 49100                         & 30.6 & 21.0 &   27.7 &   16.0 & ⋯ & 95.0 &  5.0 & https://www.arriva.co.uk/\\textasciitilde{}/media/Files/A/Arriva-Corporate-V2/documents/arriva-uks-2019-gender-pay-gap-report.pdf                                           & Alison O'Connor (Director of Corporate Affairs)                 & 1000 to 4999 & XC TRAINS LIMITED                                & NA & 2020/04/05 00:00:00 & 2020/03/04 10:53:54 &  61.2\\\\\n\t XL CATLIN SERVICES SE                            & 14426 & 20 Gracechurch Street, London, EC3V 0BG                                                                   & EC3V 0BG & SE000103 & 66220                         & 32.9 & 34.5 &   60.9 &   58.5 & ⋯ & 77.9 & 22.1 & https://axaxl.com/-/media/axaxl/files/pdfs/about-us/diversity-and-inclusion/2019-gender-pay-gap-report.pdf                                                 & Paul Greensmith (CEO UK Region \\& Legal Entities, AXA XL)        & 1000 to 4999 & XL CATLIN SERVICES SE                            & NA & 2020/04/05 00:00:00 & 2020/02/07 11:05:20 &  65.8\\\\\n\t YHA (ENGLAND AND WALES)                          &    88 & Trevelyan House, Dimple Road, Matlock, Derbyshire, DE4 3YH                                                & DE4 3YH  & 00282555 & 55202                         &  5.8 &  6.0 &     NA &     NA & ⋯ & 48.0 & 52.0 &                                                                                                                                                            & James Blake (CEO)                                               & 1000 to 4999 & YHA (ENGLAND AND WALES)                          & NA & 2020/04/05 00:00:00 & 2019/12/03 08:42:09 &  11.6\\\\\n\t YODEL DELIVERY NETWORK LIMITED                   & 14025 & Atlantic Pavilion, Albert Dock, Liverpool, United Kingdom, L3 4AE                                         & L3 4AE   & 05200072 & 49410,\n52219,\n74909         & -5.9 &  2.7 & -165.6 &  -13.3 & ⋯ & 81.2 & 18.8 &                                                                                                                                                            & John Hardman (Chief People Officer)                             & 1000 to 4999 & YODEL DELIVERY NETWORK LIMITED                   & NA & 2020/04/05 00:00:00 & 2021/07/12 14:20:03 & -11.8\\\\\n\t YORK ST JOHN UNIVERSITY                          & 14028 & Lord Mayors Walk, York, North Yorkshire, YO31 7EX                                                         & YO31 7EX & 04498683 & 85421,\n85422                 &  9.3 & 16.2 &   27.2 &    0.0 & ⋯ & 47.2 & 52.8 & https://www.yorksj.ac.uk/media/content-assets/equality-and-diversity/documents/YSJU-Gender-Gap-2019---5.pdf                                                &                                                                 & 1000 to 4999 & YORK ST JOHN UNIVERSITY                          & NA & 2020/03/31 00:00:00 & 2020/03/30 11:20:38 &  18.6\\\\\n\t YORK TEACHING HOSPITAL FACILITIES MANAGEMENT LLP & 19697 & York Hospital, Wigginton Road, York, England, YO31 8HE                                                    & YO31 8HE & OC421341 &                               &  4.1 &  3.2 &     NA &     NA & ⋯ & 40.8 & 59.2 & https://www.ythfm.co.uk/seecmsfile/?id=369                                                                                                                 & Brian Golding (Managing Director)                               & 1000 to 4999 & YORK TEACHING HOSPITAL FACILITIES MANAGEMENT LLP & NA & 2020/04/05 00:00:00 & 2020/03/31 12:21:53 &   8.2\\\\\n\t Yorkshire Building Society                       & 14480 & Yorkshire House, Yorkshire Drive, Bradford, BD5 8LJ                                                       & BD5 8LJ  & MUT00001 & 64192                         & 30.5 & 27.9 &   47.9 &   34.1 & ⋯ & 56.2 & 43.8 & https://www.ybs.co.uk/your-society/inside-your-society/corporate-governance/policies/gender-pay-gap.html                                                   & Stephen White (Chief Operating Officer)                         & 1000 to 4999 & Yorkshire Building Society                       & NA & 2020/04/05 00:00:00 & 2019/12/19 06:06:39 &  61.0\\\\\n\t YORKSHIRE WATER SERVICES LIMITED                 & 15780 & Western House, Halifax Road, Bradford, West Yorkshire, BD6 2SZ                                            & BD6 2SZ  & 02366682 & 36000                         &  1.5 &  0.1 &   13.6 &    5.7 & ⋯ & 78.5 & 21.5 & https://www.yorkshirewater.com/careers/working-for-yorkshire-water/diversity-inclusion/                                                                    & Liz Barber (Chief Executive Officer)                            & 1000 to 4999 & YORKSHIRE WATER SERVICES LIMITED                 & NA & 2020/04/05 00:00:00 & 2020/04/02 08:00:46 &   3.0\\\\\n\t YOUNG \\& CO'S BREWERY PLC                         & 14036 & Copper House, 5 Garratt Lane, Wandsworth, London, SW18 4AQ                                                & SW18 4AQ & 00032762 & 55100,\n56302                 &  9.6 &  6.8 &   24.6 &    8.3 & ⋯ & 70.5 & 29.5 & https://www.youngs.co.uk/youngs/uploads/sites/2/2020/03/Youngs-gender-pay-gap-2020.pdf                                                                     & Patrick Dardis (Chief Executive)                                & 1000 to 4999 & YOUNG \\& CO'S BREWERY PLC                         & NA & 2020/04/05 00:00:00 & 2020/03/20 16:08:39 &  19.2\\\\\n\t YOUNG'S SEAFOOD LIMITED                          &   606 & Young's House, Wickham Road, Grimsby, England, DN31 3SW                                                   & DN31 3SW & 03751665 & 10200                         & 19.0 &  6.0 &   59.0 &   26.0 & ⋯ & 68.0 & 32.0 & https://youngsseafood.co.uk/youngs-gender-pay-gap-report/                                                                                                  & Dominic Kerrigan (HR Director)                                  & 1000 to 4999 & YOUNG'S SEAFOOD LIMITED                          & NA & 2020/04/05 00:00:00 & 2020/03/19 11:25:18 &  38.0\\\\\n\t YOURLIFE MANAGEMENT SERVICES LIMITED             & 14042 & Fourth Floor, 100 Holdenhurst Road, Bournemouth, Dorset, BH8 8AQ                                          & BH8 8AQ  & 07153519 & 68320,\n96090                 & 18.5 &  3.9 &   50.0 &   26.9 & ⋯ & 14.1 & 85.9 & https://www.mccarthyandstonegroup.co.uk/making-a-difference/gender-pay-gap-report-2019                                                                     & Paula Jordan (Group HR Director)                                & 1000 to 4999 & YOURLIFE MANAGEMENT SERVICES LIMITED             & NA & 2020/04/05 00:00:00 & 2020/07/01 11:23:55 &  37.0\\\\\n\t YOURS CLOTHING LIMITED                           & 14044 & Newcombe House, Bakewell Road, Orton Southgate, Peterborough, United Kingdom, PE2 6XU                     & PE2 6XU  & 02886196 & 47710                         & 59.0 & 57.0 &   88.0 &   73.0 & ⋯ & 11.2 & 88.8 & https://www.yoursclothing.co.uk/gender-pay-gap                                                                                                             & Anna Heather (Finance Director)                                 & 1000 to 4999 & YOURS CLOTHING LIMITED                           & NA & 2020/04/05 00:00:00 & 2020/04/28 15:59:05 & 118.0\\\\\n\t YUSEN LOGISTICS (UK) LIMITED                     & 14051 & Grange Park 1, Cheaney Drive, Grange Park, Northampton, NN4 5FB                                           & NN4 5FB  & 02548297 & 49410,\n50200,\n51210,\n52103 &  4.7 & -2.1 &  -86.4 &    0.0 & ⋯ & 71.0 & 29.0 &                                                                                                                                                            & Suzanne Mercer (HR Director)                                    & 1000 to 4999 & YUSEN LOGISTICS (UK) LIMITED                     & NA & 2020/04/05 00:00:00 & 2020/03/30 10:19:10 &   9.4\\\\\n\t ZELLIS UK LIMITED                                &  9144 & 740 Waterside Drive Aztec West, Almondsbury, Bristol, England, BS32 4UF                                   & BS32 4UF & 01587537 & 58290,\n63110                 & 18.8 & 27.6 &   29.8 &   28.6 & ⋯ & 63.9 & 36.1 &                                                                                                                                                            & Caroline Drake (Chief People Officer)                           & 1000 to 4999 & ZELLIS UK LIMITED                                & NA & 2020/04/05 00:00:00 & 2020/07/10 08:26:03 &  37.6\\\\\n\t ZURICH EMPLOYMENT SERVICES LIMITED               & 14076 & Unity Place, 1 Carfax Close, Swindon, Wiltshire, United Kingdom, SN1 1AP                                  & SN1 1AP  & 00243883 & 78300,\n82990                 & 23.4 & 27.6 &   48.8 &   49.9 & ⋯ & 70.3 & 29.7 & https://www.zurich.co.uk/-/media/project/zwp/united-kingdom/docs/about-us/cr/zurich-uk-gender-pay-gap-2019.pdf?la=en\\&hash=B63A743DC6127FCD767B739EA2A1DCEB & Steve Collinson (Head of The People Team)                       & 1000 to 4999 & ZURICH EMPLOYMENT SERVICES LIMITED               & NA & 2020/04/05 00:00:00 & 2020/04/09 12:19:18 &  46.8\\\\\n\t ZURICH UK GENERAL SERVICES LIMITED               & 14078 & The Zurich Centre 3000 Parkway, Whiteley, Fareham, Hampshire, PO15 7JZ                                    & PO15 7JZ & 03843124 & 82990                         & 21.5 & 21.9 &   54.0 &   36.3 & ⋯ & 70.0 & 30.0 & https://www.zurich.co.uk/-/media/project/zwp/united-kingdom/docs/about-us/cr/zurich-uk-gender-pay-gap-2019.pdf?la=en\\&hash=B63A743DC6127FCD767B739EA2A1DCEB & Steve Collinson (Head of The People Team)                       & 1000 to 4999 & ZURICH UK GENERAL SERVICES LIMITED               & NA & 2020/04/05 00:00:00 & 2020/04/09 12:24:11 &  43.0\\\\\n\\end{tabular}\n",
            "text/plain": [
              "     EmployerName                                         EmployerId\n",
              "1    'PRIFYSGOL ABERYSTWYTH' AND 'ABERYSTWYTH UNIVERSITY' 19070     \n",
              "2    2 SISTERS FOOD GROUP LIMITED                            77     \n",
              "3    24 X 7 LTD.                                            695     \n",
              "4    2GETHER SUPPORT SOLUTIONS LIMITED                    19676     \n",
              "5    3663 TRANSPORT LIMITED                                 697     \n",
              "6    3M UNITED KINGDOM PUBLIC LIMITED COMPANY               293     \n",
              "7    A-DAY CONSULTANTS LIMITED                            15592     \n",
              "8    A-PLAN HOLDINGS                                       1330     \n",
              "9    A. SHARE & SONS LIMITED                                124     \n",
              "10   A.B.M. CATERING LIMITED                                733     \n",
              "11   AAH PHARMACEUTICALS LIMITED                            757     \n",
              "12   AB AGRI LIMITED                                        762     \n",
              "13   ABB LIMITED                                            771     \n",
              "14   ABBEYFIELD SOCIETY (THE)                               776     \n",
              "15   ACADEMY TRANSFORMATION TRUST                         14495     \n",
              "16   ACCESS UK LTD                                          828     \n",
              "17   Accord Housing Association Ltd                       15369     \n",
              "18   ACTION FOR CHILDREN                                    874     \n",
              "19   Activate Learning                                    17170     \n",
              "20   ADDISON MOTORS LIMITED                                 896     \n",
              "21   ADECCO UK LIMITED                                      899     \n",
              "22   Adrian Flux Insurance Services                       17234     \n",
              "23   AECOM INFRASTRUCTURE & ENVIRONMENT UK LIMITED          946     \n",
              "24   AECOM LIMITED                                          947     \n",
              "25   AEGON UK CORPORATE SERVICES LIMITED                    950     \n",
              "26   AFE GROUP LIMITED                                      962     \n",
              "27   AFFINITY WATER LIMITED                                 967     \n",
              "28   AFH STORES UK LIMITED                                   22     \n",
              "29   AG SERVICE COMPANY LIMITED                             979     \n",
              "30   AGEAS INSURANCE LIMITED                                992     \n",
              "⋮    ⋮                                                    ⋮         \n",
              "1620 Wirral Council                                       13848     \n",
              "1621 WITHERSLACK GROUP LIMITED                            13856     \n",
              "1622 Wokingham Council                                    13871     \n",
              "1623 WOLSELEY UK LIMITED                                  13874     \n",
              "1624 Wolverhampton City Council                           13876     \n",
              "1625 WOMBLE BOND DICKINSON (UK) LLP                        2215     \n",
              "1626 WOOD GROUP UK LIMITED                                13887     \n",
              "1627 Worcestershire Health And Care Nhs Trust             13902     \n",
              "1628 WORKERS' EDUCATIONAL ASSOCIATION                     13904     \n",
              "1629 WORLDPAY (UK) LIMITED                                  480     \n",
              "1630 WORLEY SERVICES UK LIMITED                           18299     \n",
              "1631 WREN KITCHENS LIMITED                                13926     \n",
              "1632 WRIGHT RESTAURANTS LTD                               13932     \n",
              "1633 WW GBR LIMITED                                         347     \n",
              "1634 XC TRAINS LIMITED                                    13981     \n",
              "1635 XL CATLIN SERVICES SE                                14426     \n",
              "1636 YHA (ENGLAND AND WALES)                                 88     \n",
              "1637 YODEL DELIVERY NETWORK LIMITED                       14025     \n",
              "1638 YORK ST JOHN UNIVERSITY                              14028     \n",
              "1639 YORK TEACHING HOSPITAL FACILITIES MANAGEMENT LLP     19697     \n",
              "1640 Yorkshire Building Society                           14480     \n",
              "1641 YORKSHIRE WATER SERVICES LIMITED                     15780     \n",
              "1642 YOUNG & CO'S BREWERY PLC                             14036     \n",
              "1643 YOUNG'S SEAFOOD LIMITED                                606     \n",
              "1644 YOURLIFE MANAGEMENT SERVICES LIMITED                 14042     \n",
              "1645 YOURS CLOTHING LIMITED                               14044     \n",
              "1646 YUSEN LOGISTICS (UK) LIMITED                         14051     \n",
              "1647 ZELLIS UK LIMITED                                     9144     \n",
              "1648 ZURICH EMPLOYMENT SERVICES LIMITED                   14076     \n",
              "1649 ZURICH UK GENERAL SERVICES LIMITED                   14078     \n",
              "     address                                                                                                     \n",
              "1    Aberystwyth University, Penglais, Ceredigion, SY23 3FL                                                      \n",
              "2    Trinity Park House Trinity Business Park, Fox Way, Wakefield, West Yorkshire, WF2 8EE                       \n",
              "3    Little Easton Manor Park Road, Little Easton, Dunmow, Essex, England, CM6 2JN                               \n",
              "4    Management Offices William Harvey Hospital, Kennington Road, Willesborough, Ashford, Kent, England, TN24 0LZ\n",
              "5    814 Leigh Road, Slough, England, SL1 4BD                                                                    \n",
              "6    3m Centre, Cain Road, Bracknell, Berkshire, RG12 8HT                                                        \n",
              "7    Kingston House Towers Business Park, Wilmslow Road, Manchester, England, M20 2LD                            \n",
              "8    2 Des Roches Square, Witney, Oxfordshire, OX28 4LE                                                          \n",
              "9    45-49 Villiers Street, Sunderland, SR1 1HA                                                                  \n",
              "10   Eagle Court, 63-67 Saltisford, Warwick, Warwickshire, CV34 4AF                                              \n",
              "11   Sapphire Court, Walsgrave Triangle, Coventry, CV2 2TX                                                       \n",
              "12   Weston Centre, 10 Grosvenor Street, London, W1K 4QY                                                         \n",
              "13   Daresbury Park, Daresbury, Warrington, Cheshire, WA4 4BT                                                    \n",
              "14   St Peter's House, 2 Bricket Road, St. Albans, Hertfordshire, AL1 3JW                                        \n",
              "15   Emmanuel Court, Reddicroft, Sutton Coldfield, England, B73 6AZ                                              \n",
              "16   The Old School, School Lane, Stratford St Mary, Colchester, Essex,, CO7 6LZ                                 \n",
              "17   178 Birmingham Road, West Bromwich, West Midlands, B706QG                                                   \n",
              "18   ACTION FOR CHILDREN, 3 The Boulevard, Ascot Road, Watford, Hertfordshire, WD18 8AG                          \n",
              "19   Oxpens Road, Oxford, OX1 1SA                                                                                \n",
              "20   Lookers House 3 Etchells Road, West Timperley, Altrincham, United Kingdom, WA14 5XS                         \n",
              "21   10 Bishops Square, London, England, E1 6EG                                                                  \n",
              "22   East Winch Hall, East Winch, Kings Lynn, PE32 1HN                                                           \n",
              "23   Aldgate Tower, 2 Leman Street, London, United Kingdom, E1 8FA                                               \n",
              "24   Aldgate Tower, 2 Leman Street, London, United Kingdom, E1 8FA                                               \n",
              "25   Aegon Lochside Crescent, Edinburgh Park, Edinburgh, Scotland, EH12 9SE                                      \n",
              "26   9 Bryggen Road, North Lynn Industrial Estate, King's Lynn, Norfolk, England, PE30 2HZ                       \n",
              "27   Tamblin Way, Hatfield, Hertfordshire, AL10 9EZ                                                              \n",
              "28   3 Savile Row, London, England, W1S 3PB                                                                      \n",
              "29   Milton Gate, 60 Chiswell Street, London, EC1Y 4AG                                                           \n",
              "30   Ageas House Hampshire Corporate Park, Templars Way, Eastleigh, Hampshire, SO53 3YA                          \n",
              "⋮    ⋮                                                                                                           \n",
              "1620 The Treasury Building, Cleveland Street, Birkenhead, Merseyside, United Kingdom, CH41 6BU                   \n",
              "1621 Lupton Tower, Lupton, Carnforth, Lancashire, LA6 2PR                                                        \n",
              "1622 Civic Offices, Shute End, Wokingham, Berkshire, United Kingdom, RG40 1BN                                    \n",
              "1623 2 Kingmaker Court, Warwick Technology Park, Gallows Hill, Warwick, Warwickshire, United Kingdom, CV34 6DY   \n",
              "1624 Civic Centre, St. Peters Square, Wolverhampton, West Midlands, United Kingdom, WV1 1SH                      \n",
              "1625 4 More London Riverside, London, United Kingdom, SE1 2AU                                                    \n",
              "1626 15 Justice Mill Lane, Aberdeen, Scotland, AB11 6EQ                                                          \n",
              "1627 Unit 19, Isaac Maddox House, Shrub Hill Industrial Estate, Worcester, WR4 9RW                               \n",
              "1628 4 Luke Street, London, Greater London, EC2A 4XW                                                             \n",
              "1629 The Walbrook Building, 25 Walbrook, London, EC4N 8AF                                                        \n",
              "1630 Annan House, Palmerston Road, Aberdeen, Scotland, AB11 5QP                                                  \n",
              "1631 The Nest, Falkland Way, Barton-Upon-Humber, England, DN18 5RL                                               \n",
              "1632 First Floor, 1 The Lower Parade, Sutton Coldfield, West Midlands, B72 1XX                                   \n",
              "1633 Millennium House, Ludlow Road, Maidenhead, Berkshire, SL6 2SL                                               \n",
              "1634 C/O Arriva Plc 1 Admiral Way, Doxford International, Business Park, Sunderland, SR3 3XP                     \n",
              "1635 20 Gracechurch Street, London, EC3V 0BG                                                                     \n",
              "1636 Trevelyan House, Dimple Road, Matlock, Derbyshire, DE4 3YH                                                  \n",
              "1637 Atlantic Pavilion, Albert Dock, Liverpool, United Kingdom, L3 4AE                                           \n",
              "1638 Lord Mayors Walk, York, North Yorkshire, YO31 7EX                                                           \n",
              "1639 York Hospital, Wigginton Road, York, England, YO31 8HE                                                      \n",
              "1640 Yorkshire House, Yorkshire Drive, Bradford, BD5 8LJ                                                         \n",
              "1641 Western House, Halifax Road, Bradford, West Yorkshire, BD6 2SZ                                              \n",
              "1642 Copper House, 5 Garratt Lane, Wandsworth, London, SW18 4AQ                                                  \n",
              "1643 Young's House, Wickham Road, Grimsby, England, DN31 3SW                                                     \n",
              "1644 Fourth Floor, 100 Holdenhurst Road, Bournemouth, Dorset, BH8 8AQ                                            \n",
              "1645 Newcombe House, Bakewell Road, Orton Southgate, Peterborough, United Kingdom, PE2 6XU                       \n",
              "1646 Grange Park 1, Cheaney Drive, Grange Park, Northampton, NN4 5FB                                             \n",
              "1647 740 Waterside Drive Aztec West, Almondsbury, Bristol, England, BS32 4UF                                     \n",
              "1648 Unity Place, 1 Carfax Close, Swindon, Wiltshire, United Kingdom, SN1 1AP                                    \n",
              "1649 The Zurich Centre 3000 Parkway, Whiteley, Fareham, Hampshire, PO15 7JZ                                      \n",
              "     PostCode CompanyNumber SicCodes                             \n",
              "1    SY23 3FL RC000641                                           \n",
              "2    WF2 8EE  02826929      10120                                \n",
              "3    CM6 2JN  04142000      52290                                \n",
              "4    TN24 0LZ 11385580      81100                                \n",
              "5    SL1 4BD  00456846      52290                                \n",
              "6    RG12 8HT 01123045      20301,\\n23910,\\n32990                \n",
              "7    M20 2LD  04493101      78109                                \n",
              "8    OX28 4LE 00750484      66220                                \n",
              "9    SR1 1HA  00323778      47530,\\n47599                        \n",
              "10   CV34 4AF 04168334      56290,\\n70100                        \n",
              "11   CV2 2TX  00123458      21100,\\n46460                        \n",
              "12   W1K 4QY  00193800      10910                                \n",
              "13   WA4 4BT  03780764      27120,\\n43210,\\n46520,\\n70100        \n",
              "14   AL1 3JW  00574816      55900,\\n87300                        \n",
              "15   B73 6AZ  07846852      1,\\n1,\\n85200,\\n85310,\\n85590,\\n85600\n",
              "16   CO7 6LZ  02343760      62090                                \n",
              "17   B706QG                 41202,\\n68201,\\n87200,\\n87300        \n",
              "18   WD18 8AG 04764232      88910                                \n",
              "19   OX1 1SA                1,\\n85410                            \n",
              "20   WA14 5XS 00714804      45111                                \n",
              "21   E1 6EG   00593232      78200                                \n",
              "22   PE32 1HN               66220                                \n",
              "23   E1 8FA   00880328      74901                                \n",
              "24   E1 8FA   01846493      71122                                \n",
              "25   EH12 9SE SC170062      82990                                \n",
              "26   PE30 2HZ 03872673      32990                                \n",
              "27   AL10 9EZ 02546950      36000                                \n",
              "28   W1S 3PB  06423604      47710                                \n",
              "29   EC1Y 4AG 07299444      82990                                \n",
              "30   SO53 3YA 00354568      65120                                \n",
              "⋮    ⋮        ⋮             ⋮                                    \n",
              "1620 CH41 6BU               1,\\n84110                            \n",
              "1621 LA6 2PR  03579104      85200,\\n85310,\\n87900                \n",
              "1622 RG40 1BN               1,\\n84110                            \n",
              "1623 CV34 6DY 00636445      46900                                \n",
              "1624 WV1 1SH                1,\\n84110                            \n",
              "1625 SE1 2AU  OC317661                                           \n",
              "1626 AB11 6EQ SC296737      9100                                 \n",
              "1627 WR4 9RW                1,\\n86210                            \n",
              "1628 EC2A 4XW 02806910      85590                                \n",
              "1629 EC4N 8AF 07316500      82990                                \n",
              "1630 AB11 5QP SC572221      9100                                 \n",
              "1631 DN18 5RL 06799478      23700,\\n31020,\\n43320,\\n47599        \n",
              "1632 B72 1XX  04487036      56102                                \n",
              "1633 SL6 2SL  01248588      86900                                \n",
              "1634 SR3 3XP  04402048      49100                                \n",
              "1635 EC3V 0BG SE000103      66220                                \n",
              "1636 DE4 3YH  00282555      55202                                \n",
              "1637 L3 4AE   05200072      49410,\\n52219,\\n74909                \n",
              "1638 YO31 7EX 04498683      85421,\\n85422                        \n",
              "1639 YO31 8HE OC421341                                           \n",
              "1640 BD5 8LJ  MUT00001      64192                                \n",
              "1641 BD6 2SZ  02366682      36000                                \n",
              "1642 SW18 4AQ 00032762      55100,\\n56302                        \n",
              "1643 DN31 3SW 03751665      10200                                \n",
              "1644 BH8 8AQ  07153519      68320,\\n96090                        \n",
              "1645 PE2 6XU  02886196      47710                                \n",
              "1646 NN4 5FB  02548297      49410,\\n50200,\\n51210,\\n52103        \n",
              "1647 BS32 4UF 01587537      58290,\\n63110                        \n",
              "1648 SN1 1AP  00243883      78300,\\n82990                        \n",
              "1649 PO15 7JZ 03843124      82990                                \n",
              "     DiffMeanHourlyPercent DiffMedianHourlyPercent DiffMeanBonusPercent\n",
              "1    11.5                   10.3                      NA               \n",
              "2    25.0                    7.3                    65.0               \n",
              "3     0.2                    0.0                      NA               \n",
              "4     3.7                    0.0                      NA               \n",
              "5     1.4                    7.1                    47.4               \n",
              "6    10.0                    8.0                    18.0               \n",
              "7    14.8                   17.9                    52.5               \n",
              "8    18.2                    8.6                     9.9               \n",
              "9    25.0                   31.0                    40.0               \n",
              "10   21.7                   16.5                   -70.3               \n",
              "11   10.7                   -0.4                    48.0               \n",
              "12    9.4                  -11.8                    35.1               \n",
              "13   23.5                   30.6                    59.0               \n",
              "14   25.0                   10.0                   -14.0               \n",
              "15   22.9                   35.1                    -4.5               \n",
              "16   23.0                   25.0                    37.7               \n",
              "17   19.1                    7.8                      NA               \n",
              "18   14.0                   10.0                      NA               \n",
              "19    8.6                    6.6                    79.8               \n",
              "20   25.1                   13.6                    47.6               \n",
              "21   -3.8                    2.2                     7.2               \n",
              "22   34.7                    5.1                    90.9               \n",
              "23   18.0                   18.0                    40.0               \n",
              "24   21.3                   20.6                     6.0               \n",
              "25   34.7                   23.4                    65.0               \n",
              "26   20.0                   12.4                    69.5               \n",
              "27   19.0                   27.0                    16.4               \n",
              "28    7.3                   10.4                    46.0               \n",
              "29   17.9                   19.8                    46.2               \n",
              "30   30.1                   25.7                    53.7               \n",
              "⋮    ⋮                     ⋮                       ⋮                   \n",
              "1620  6.9                  10.9                        NA              \n",
              "1621  1.6                   1.4                     -13.3              \n",
              "1622 15.2                  25.8                      77.8              \n",
              "1623  5.0                   2.9                      28.3              \n",
              "1624  4.5                   0.2                        NA              \n",
              "1625 23.7                  33.3                      48.1              \n",
              "1626 26.6                  32.5                       1.8              \n",
              "1627 15.2                   4.6                      22.1              \n",
              "1628  3.5                   0.0                        NA              \n",
              "1629 29.8                  39.6                      56.7              \n",
              "1630 21.7                  30.1                      17.9              \n",
              "1631  3.7                  14.1                      19.1              \n",
              "1632  2.8                   0.0                      63.0              \n",
              "1633 40.5                  16.8                      81.7              \n",
              "1634 30.6                  21.0                      27.7              \n",
              "1635 32.9                  34.5                      60.9              \n",
              "1636  5.8                   6.0                        NA              \n",
              "1637 -5.9                   2.7                    -165.6              \n",
              "1638  9.3                  16.2                      27.2              \n",
              "1639  4.1                   3.2                        NA              \n",
              "1640 30.5                  27.9                      47.9              \n",
              "1641  1.5                   0.1                      13.6              \n",
              "1642  9.6                   6.8                      24.6              \n",
              "1643 19.0                   6.0                      59.0              \n",
              "1644 18.5                   3.9                      50.0              \n",
              "1645 59.0                  57.0                      88.0              \n",
              "1646  4.7                  -2.1                     -86.4              \n",
              "1647 18.8                  27.6                      29.8              \n",
              "1648 23.4                  27.6                      48.8              \n",
              "1649 21.5                  21.9                      54.0              \n",
              "     DiffMedianBonusPercent ⋯ MaleTopQuartile FemaleTopQuartile\n",
              "1       NA                  ⋯ 62.0            38.0             \n",
              "2      7.6                  ⋯ 65.9            34.1             \n",
              "3       NA                  ⋯ 44.0            56.0             \n",
              "4       NA                  ⋯ 53.5            46.5             \n",
              "5     52.5                  ⋯ 96.0             4.0             \n",
              "6     28.0                  ⋯ 71.0            29.0             \n",
              "7     28.0                  ⋯ 38.9            61.1             \n",
              "8     13.0                  ⋯ 71.0            29.0             \n",
              "9     85.0                  ⋯ 84.0            16.0             \n",
              "10    61.5                  ⋯ 33.9            66.1             \n",
              "11   -28.0                  ⋯ 61.0            39.0             \n",
              "12    32.6                  ⋯ 72.0            28.0             \n",
              "13    25.0                  ⋯ 87.9            12.1             \n",
              "14     0.0                  ⋯ 21.0            79.0             \n",
              "15   -17.2                  ⋯ 35.9            64.1             \n",
              "16    16.5                  ⋯ 81.0            19.0             \n",
              "17      NA                  ⋯ 31.0            69.0             \n",
              "18      NA                  ⋯ 24.0            76.0             \n",
              "19    88.6                  ⋯ 34.9            65.1             \n",
              "20    42.8                  ⋯ 82.7            17.3             \n",
              "21    25.3                  ⋯ 57.0            43.0             \n",
              "22    50.9                  ⋯ 56.0            44.0             \n",
              "23    13.0                  ⋯ 85.0            15.0             \n",
              "24     2.0                  ⋯ 83.0            17.0             \n",
              "25    27.9                  ⋯ 66.5            33.5             \n",
              "26    51.5                  ⋯ 93.4             6.6             \n",
              "27     0.0                  ⋯ 74.0            26.0             \n",
              "28     0.0                  ⋯ 35.8            64.2             \n",
              "29    50.0                  ⋯ 45.0            55.0             \n",
              "30    40.6                  ⋯ 66.1            33.9             \n",
              "⋮    ⋮                      ⋱ ⋮               ⋮                \n",
              "1620     NA                 ⋯ 44.5            55.5             \n",
              "1621   33.3                 ⋯ 44.3            55.7             \n",
              "1622   93.7                 ⋯ 38.2            61.8             \n",
              "1623   21.1                 ⋯ 83.6            16.4             \n",
              "1624     NA                 ⋯ 30.9            69.1             \n",
              "1625    0.0                 ⋯ 43.3            56.7             \n",
              "1626 -102.6                 ⋯ 87.4            12.6             \n",
              "1627   31.8                 ⋯ 14.0            86.0             \n",
              "1628     NA                 ⋯ 23.7            76.3             \n",
              "1629   58.6                 ⋯ 77.5            22.5             \n",
              "1630   16.4                 ⋯ 91.0             9.0             \n",
              "1631   -0.3                 ⋯ 71.1            28.9             \n",
              "1632   50.0                 ⋯ 47.0            53.0             \n",
              "1633   71.7                 ⋯  9.5            90.5             \n",
              "1634   16.0                 ⋯ 95.0             5.0             \n",
              "1635   58.5                 ⋯ 77.9            22.1             \n",
              "1636     NA                 ⋯ 48.0            52.0             \n",
              "1637  -13.3                 ⋯ 81.2            18.8             \n",
              "1638    0.0                 ⋯ 47.2            52.8             \n",
              "1639     NA                 ⋯ 40.8            59.2             \n",
              "1640   34.1                 ⋯ 56.2            43.8             \n",
              "1641    5.7                 ⋯ 78.5            21.5             \n",
              "1642    8.3                 ⋯ 70.5            29.5             \n",
              "1643   26.0                 ⋯ 68.0            32.0             \n",
              "1644   26.9                 ⋯ 14.1            85.9             \n",
              "1645   73.0                 ⋯ 11.2            88.8             \n",
              "1646    0.0                 ⋯ 71.0            29.0             \n",
              "1647   28.6                 ⋯ 63.9            36.1             \n",
              "1648   49.9                 ⋯ 70.3            29.7             \n",
              "1649   36.3                 ⋯ 70.0            30.0             \n",
              "     CompanyLinkToGPGInfo                                                                                                                                      \n",
              "1    https://www.aber.ac.uk/en/equality/genderpaygapreporting2019/ \\n\\nhttps://www.aber.ac.uk/cy/equality/gender-pay-gap/                                      \n",
              "2    https://www.2sfg.com/PDF/2sfg-GenderPay-2020.pdf                                                                                                          \n",
              "3                                                                                                                                                              \n",
              "4    https://2gethersupportsolutions.org/about-us/                                                                                                             \n",
              "5    https://www.bidfood.co.uk/gender-pay-gap-reports/                                                                                                         \n",
              "6                                                                                                                                                              \n",
              "7    https://www.academicsltd.co.uk/                                                                                                                           \n",
              "8    https://www.aplan.co.uk/                                                                                                                                  \n",
              "9    https://www.scsplc.co.uk/                                                                                                                                 \n",
              "10   http://www.abmcatering.co.uk/wp-content/uploads/2019/07/Gender-Pay-Gap-Report-2018.pdf                                                                    \n",
              "11   https://mckesson.uk/wp-content/uploads/2020/03/Gender-Pay-Gap-Report-2019-Final.pdf                                                                       \n",
              "12   https://www.abagri.com/responsibility/our-policies                                                                                                        \n",
              "13   https://new.abb.com/uk/about                                                                                                                              \n",
              "14   https://www.abbeyfield.com/about-us/our-financial-and-annual-reports/                                                                                     \n",
              "15   https://www.academytransformationtrust.co.uk/about-the-trust/company-information                                                                          \n",
              "16   https://www.theaccessgroup.com/company/our-people-and-values/                                                                                             \n",
              "17                                                                                                                                                             \n",
              "18   https://www.actionforchildren.org.uk/media/12984/gender-pay-gap-report.pdf                                                                                \n",
              "19                                                                                                                                                             \n",
              "20   https://www.lookersplc.com/our-business/our-responsibility/gender-pay/                                                                                    \n",
              "21   https://www.adecco.co.uk/gender-pay-gap                                                                                                                   \n",
              "22   https://www.adrianflux.co.uk/blog/wp-content/uploads/2020/03/AF5334-GenderPayUpdate2020.pdf                                                               \n",
              "23   https://aecom.com/content/wp-content/uploads/2020/12/20083_Gender-pay-gap_RE_FINAL.pdf                                                                    \n",
              "24   https://aecom.com/content/wp-content/uploads/2020/12/20083_Gender-pay-gap_RE_FINAL.pdf                                                                    \n",
              "25   https://www.aegon.co.uk/about-aegon/corporate-responsibility/gender-pay-gap-report.html                                                                   \n",
              "26   https://www.theafegroup.com                                                                                                                               \n",
              "27                                                                                                                                                             \n",
              "28   https://www.abercrombie.com/anf/files/2019_uk-gender-pay-report.pdf                                                                                       \n",
              "29                                                                                                                                                             \n",
              "30   https://www.ageas.co.uk/important-information/gender-pay-gap/                                                                                             \n",
              "⋮    ⋮                                                                                                                                                         \n",
              "1620 https://www.wirral.gov.uk/about-council/budgets-and-spending/gender-pay-gap-reporting                                                                     \n",
              "1621 https://witherslackgroup.co.uk/gender-pay-gap-statement/                                                                                                  \n",
              "1622                                                                                                                                                           \n",
              "1623 https://corporate.wolseley.co.uk/how-we-work/equal-opportunities/gender-pay-2019.aspx                                                                     \n",
              "1624 https://www.wolverhampton.gov.uk/your-council/equalities-and-diversity/workforce-monitoring-data                                                          \n",
              "1625 https://www.womblebonddickinson.com/sites/default/files/2020-05/Gender%20pay%20gap%20report%202019.pdf                                                    \n",
              "1626 https://www.woodplc.com/policies-and-notices/gender-pay-gap                                                                                               \n",
              "1627 https://www.hacw.nhs.uk/gender-pay-gap                                                                                                                    \n",
              "1628 https://www.wea.org.uk/about-us/equality-diversity-and-inclusion                                                                                          \n",
              "1629                                                                                                                                                           \n",
              "1630 https://www.worley.com/~/media/Files/W/WorleyParsons-V2/documents/corporate-governance/2020/Gender%20pay%20gap%20report_032020_RevB.pdf                   \n",
              "1631 https://static.wrenkitchens.com/pdf/gender-pay-gap-review.pdf                                                                                             \n",
              "1632                                                                                                                                                           \n",
              "1633 https://www.weightwatchers.com/uk/sites/uk/files/gender-pay-gap_2019_0.pdf                                                                                \n",
              "1634 https://www.arriva.co.uk/~/media/Files/A/Arriva-Corporate-V2/documents/arriva-uks-2019-gender-pay-gap-report.pdf                                          \n",
              "1635 https://axaxl.com/-/media/axaxl/files/pdfs/about-us/diversity-and-inclusion/2019-gender-pay-gap-report.pdf                                                \n",
              "1636                                                                                                                                                           \n",
              "1637                                                                                                                                                           \n",
              "1638 https://www.yorksj.ac.uk/media/content-assets/equality-and-diversity/documents/YSJU-Gender-Gap-2019---5.pdf                                               \n",
              "1639 https://www.ythfm.co.uk/seecmsfile/?id=369                                                                                                                \n",
              "1640 https://www.ybs.co.uk/your-society/inside-your-society/corporate-governance/policies/gender-pay-gap.html                                                  \n",
              "1641 https://www.yorkshirewater.com/careers/working-for-yorkshire-water/diversity-inclusion/                                                                   \n",
              "1642 https://www.youngs.co.uk/youngs/uploads/sites/2/2020/03/Youngs-gender-pay-gap-2020.pdf                                                                    \n",
              "1643 https://youngsseafood.co.uk/youngs-gender-pay-gap-report/                                                                                                 \n",
              "1644 https://www.mccarthyandstonegroup.co.uk/making-a-difference/gender-pay-gap-report-2019                                                                    \n",
              "1645 https://www.yoursclothing.co.uk/gender-pay-gap                                                                                                            \n",
              "1646                                                                                                                                                           \n",
              "1647                                                                                                                                                           \n",
              "1648 https://www.zurich.co.uk/-/media/project/zwp/united-kingdom/docs/about-us/cr/zurich-uk-gender-pay-gap-2019.pdf?la=en&hash=B63A743DC6127FCD767B739EA2A1DCEB\n",
              "1649 https://www.zurich.co.uk/-/media/project/zwp/united-kingdom/docs/about-us/cr/zurich-uk-gender-pay-gap-2019.pdf?la=en&hash=B63A743DC6127FCD767B739EA2A1DCEB\n",
              "     ResponsiblePerson                                              \n",
              "1    Elizabeth Treasure (Vice-Chancellor)                           \n",
              "2    Lee Greenbury (Group Director of People & Compliance)          \n",
              "3    lisa hyem (fd)                                                 \n",
              "4    Finbarr Murray (Managing Director)                             \n",
              "5    Heather Angus (HR & Sustainability Director)                   \n",
              "6    Katherine Parks (PR& I Leader, North Europe)                   \n",
              "7    Claire Tyrrell (Group HR Director)                             \n",
              "8    Andrew Galbraith (Group Chief Financial Officer)               \n",
              "9    Marie Liston (Corporate Services Director)                     \n",
              "10   Sue Hill (Finance & HR Director - Operations)                  \n",
              "11   Jane Davies (HR Director)                                      \n",
              "12   Jose Nobre (Chief Executive)                                   \n",
              "13   Craig Prendergast (Country HR Manager)                         \n",
              "14   Gail Manley (HR Director)                                      \n",
              "15                                                                  \n",
              "16   Claire Scott (Chief People Officer)                            \n",
              "17   Christopher Handy (Chief Executive)                            \n",
              "18   Melanie Armstrong (Interim Chief Executive)                    \n",
              "19                                                                  \n",
              "20   Chris Whitaker (Chief People Officer)                          \n",
              "21   Alex Fleming (Country Head, UK and Ireland)                    \n",
              "22   David Flux (Partner)                                           \n",
              "23   Colin Wood (Chief Executive, Europe)                           \n",
              "24   Colin Wood (CEO, Europe)                                       \n",
              "25   Gill Scott (HR Director)                                       \n",
              "26   Timothy Smith (CEO)                                            \n",
              "27   Sue Flower (Director of HR and Culture)                        \n",
              "28   Anna Mollerstrom (UK A&F Entity Director)                      \n",
              "29   Niki Lawson (HR Director)                                      \n",
              "30   Lyn Nicholls (HR Director)                                     \n",
              "⋮    ⋮                                                              \n",
              "1620                                                                \n",
              "1621 Sarah Jones (Group FC)                                         \n",
              "1622                                                                \n",
              "1623 Sally-Anne Griffiths (Human Resources Director)                \n",
              "1624                                                                \n",
              "1625 Tracy Walsh (Partner/Board sponsor for Diversity and Inclusion)\n",
              "1626 Sue MacDonald (Executive President - People & Organisation)    \n",
              "1627                                                                \n",
              "1628 Margaret Johnson (Head of HR and Organisational Design)        \n",
              "1629 Dan Brames (EVP)                                               \n",
              "1630 Shaun Poll (Vice President - Operations, UK)                   \n",
              "1631 Alex Grant (Finance Director)                                  \n",
              "1632 Toby Wright (Office Manager)                                   \n",
              "1633 Anna Hill (SVP & GM UK)                                        \n",
              "1634 Alison O'Connor (Director of Corporate Affairs)                \n",
              "1635 Paul Greensmith (CEO UK Region & Legal Entities, AXA XL)       \n",
              "1636 James Blake (CEO)                                              \n",
              "1637 John Hardman (Chief People Officer)                            \n",
              "1638                                                                \n",
              "1639 Brian Golding (Managing Director)                              \n",
              "1640 Stephen White (Chief Operating Officer)                        \n",
              "1641 Liz Barber (Chief Executive Officer)                           \n",
              "1642 Patrick Dardis (Chief Executive)                               \n",
              "1643 Dominic Kerrigan (HR Director)                                 \n",
              "1644 Paula Jordan (Group HR Director)                               \n",
              "1645 Anna Heather (Finance Director)                                \n",
              "1646 Suzanne Mercer (HR Director)                                   \n",
              "1647 Caroline Drake (Chief People Officer)                          \n",
              "1648 Steve Collinson (Head of The People Team)                      \n",
              "1649 Steve Collinson (Head of The People Team)                      \n",
              "     EmployerSize CurrentName                                         \n",
              "1    1000 to 4999 'PRIFYSGOL ABERYSTWYTH' AND 'ABERYSTWYTH UNIVERSITY'\n",
              "2    1000 to 4999 2 SISTERS FOOD GROUP LIMITED                        \n",
              "3    1000 to 4999 24 X 7 LTD.                                         \n",
              "4    1000 to 4999 2GETHER SUPPORT SOLUTIONS LIMITED                   \n",
              "5    1000 to 4999 3663 TRANSPORT LIMITED                              \n",
              "6    1000 to 4999 3M UNITED KINGDOM PUBLIC LIMITED COMPANY            \n",
              "7    1000 to 4999 A-DAY CONSULTANTS LIMITED                           \n",
              "8    1000 to 4999 A-PLAN HOLDINGS                                     \n",
              "9    1000 to 4999 A. SHARE & SONS LIMITED                             \n",
              "10   1000 to 4999 A.B.M. CATERING LIMITED                             \n",
              "11   1000 to 4999 AAH PHARMACEUTICALS LIMITED                         \n",
              "12   1000 to 4999 AB AGRI LIMITED                                     \n",
              "13   1000 to 4999 ABB LIMITED                                         \n",
              "14   1000 to 4999 ABBEYFIELD SOCIETY (THE)                            \n",
              "15   1000 to 4999 ACADEMY TRANSFORMATION TRUST                        \n",
              "16   1000 to 4999 ACCESS UK LTD                                       \n",
              "17   1000 to 4999 Accord Housing Association Ltd                      \n",
              "18   1000 to 4999 ACTION FOR CHILDREN                                 \n",
              "19   1000 to 4999 Activate Learning                                   \n",
              "20   1000 to 4999 ADDISON MOTORS LIMITED                              \n",
              "21   1000 to 4999 ADECCO UK LIMITED                                   \n",
              "22   1000 to 4999 Adrian Flux Insurance Services                      \n",
              "23   1000 to 4999 AECOM INFRASTRUCTURE & ENVIRONMENT UK LIMITED       \n",
              "24   1000 to 4999 AECOM LIMITED                                       \n",
              "25   1000 to 4999 AEGON UK CORPORATE SERVICES LIMITED                 \n",
              "26   1000 to 4999 AFE GROUP LIMITED                                   \n",
              "27   1000 to 4999 AFFINITY WATER LIMITED                              \n",
              "28   1000 to 4999 AFH STORES UK LIMITED                               \n",
              "29   1000 to 4999 AG SERVICE COMPANY LIMITED                          \n",
              "30   1000 to 4999 AGEAS INSURANCE LIMITED                             \n",
              "⋮    ⋮            ⋮                                                   \n",
              "1620 1000 to 4999 Wirral Council                                      \n",
              "1621 1000 to 4999 WITHERSLACK GROUP LIMITED                           \n",
              "1622 1000 to 4999 Wokingham Council                                   \n",
              "1623 1000 to 4999 WOLSELEY UK LIMITED                                 \n",
              "1624 1000 to 4999 Wolverhampton City Council                          \n",
              "1625 1000 to 4999 WOMBLE BOND DICKINSON (UK) LLP                      \n",
              "1626 1000 to 4999 WOOD GROUP UK LIMITED                               \n",
              "1627 1000 to 4999 Worcestershire Health And Care Nhs Trust            \n",
              "1628 1000 to 4999 WORKERS' EDUCATIONAL ASSOCIATION                    \n",
              "1629 1000 to 4999 WORLDPAY (UK) LIMITED                               \n",
              "1630 1000 to 4999 WORLEY SERVICES UK LIMITED                          \n",
              "1631 1000 to 4999 WREN KITCHENS LIMITED                               \n",
              "1632 1000 to 4999 WRIGHT RESTAURANTS LTD                              \n",
              "1633 1000 to 4999 WW GBR LIMITED                                      \n",
              "1634 1000 to 4999 XC TRAINS LIMITED                                   \n",
              "1635 1000 to 4999 XL CATLIN SERVICES SE                               \n",
              "1636 1000 to 4999 YHA (ENGLAND AND WALES)                             \n",
              "1637 1000 to 4999 YODEL DELIVERY NETWORK LIMITED                      \n",
              "1638 1000 to 4999 YORK ST JOHN UNIVERSITY                             \n",
              "1639 1000 to 4999 YORK TEACHING HOSPITAL FACILITIES MANAGEMENT LLP    \n",
              "1640 1000 to 4999 Yorkshire Building Society                          \n",
              "1641 1000 to 4999 YORKSHIRE WATER SERVICES LIMITED                    \n",
              "1642 1000 to 4999 YOUNG & CO'S BREWERY PLC                            \n",
              "1643 1000 to 4999 YOUNG'S SEAFOOD LIMITED                             \n",
              "1644 1000 to 4999 YOURLIFE MANAGEMENT SERVICES LIMITED                \n",
              "1645 1000 to 4999 YOURS CLOTHING LIMITED                              \n",
              "1646 1000 to 4999 YUSEN LOGISTICS (UK) LIMITED                        \n",
              "1647 1000 to 4999 ZELLIS UK LIMITED                                   \n",
              "1648 1000 to 4999 ZURICH EMPLOYMENT SERVICES LIMITED                  \n",
              "1649 1000 to 4999 ZURICH UK GENERAL SERVICES LIMITED                  \n",
              "     SubmittedAfterTheDeadline DueDate             DateSubmitted      \n",
              "1    NA                        2020/04/05 00:00:00 2020/04/03 14:47:45\n",
              "2    NA                        2020/04/05 00:00:00 2021/09/30 12:54:30\n",
              "3    NA                        2020/04/05 00:00:00 2021/10/12 09:31:56\n",
              "4    NA                        2020/04/05 00:00:00 2020/03/24 14:58:53\n",
              "5    NA                        2020/04/05 00:00:00 2020/05/14 16:07:39\n",
              "6    NA                        2020/04/05 00:00:00 2020/03/17 13:02:54\n",
              "7    NA                        2020/04/05 00:00:00 2020/03/25 16:19:41\n",
              "8    NA                        2020/04/05 00:00:00 2020/03/09 09:08:57\n",
              "9    NA                        2020/04/05 00:00:00 2020/06/11 11:19:46\n",
              "10   NA                        2020/04/05 00:00:00 2020/01/29 12:20:31\n",
              "11   NA                        2020/04/05 00:00:00 2020/03/18 11:11:39\n",
              "12   NA                        2020/04/05 00:00:00 2019/12/19 10:33:42\n",
              "13   NA                        2020/04/05 00:00:00 2020/04/01 20:27:38\n",
              "14   NA                        2020/04/05 00:00:00 2020/05/29 09:56:14\n",
              "15   NA                        2020/03/31 00:00:00 2020/03/30 12:52:12\n",
              "16   NA                        2020/04/05 00:00:00 2020/12/18 14:37:20\n",
              "17   NA                        2020/04/05 00:00:00 2020/03/17 12:31:51\n",
              "18   NA                        2020/04/05 00:00:00 2020/05/04 13:22:30\n",
              "19   NA                        2020/03/31 00:00:00 2020/04/28 11:47:08\n",
              "20   NA                        2020/04/05 00:00:00 2022/02/02 12:17:27\n",
              "21   NA                        2020/04/05 00:00:00 2020/04/02 15:19:43\n",
              "22   NA                        2020/04/05 00:00:00 2020/03/11 16:09:13\n",
              "23   NA                        2020/04/05 00:00:00 2020/12/17 16:35:05\n",
              "24   NA                        2020/04/05 00:00:00 2020/12/17 16:37:29\n",
              "25   NA                        2020/04/05 00:00:00 2020/04/14 11:16:10\n",
              "26   NA                        2020/04/05 00:00:00 2020/03/30 09:17:03\n",
              "27   NA                        2020/04/05 00:00:00 2020/04/03 09:23:34\n",
              "28   NA                        2020/04/05 00:00:00 2020/04/02 15:10:44\n",
              "29   NA                        2020/04/05 00:00:00 2020/04/03 14:27:12\n",
              "30   NA                        2020/04/05 00:00:00 2020/03/27 14:53:44\n",
              "⋮    ⋮                         ⋮                   ⋮                  \n",
              "1620 NA                        2020/03/31 00:00:00 2020/03/23 14:54:36\n",
              "1621 NA                        2020/04/05 00:00:00 2020/01/27 16:16:03\n",
              "1622 NA                        2020/03/31 00:00:00 2020/03/25 12:11:43\n",
              "1623 NA                        2020/04/05 00:00:00 2019/10/18 11:06:16\n",
              "1624 NA                        2020/03/31 00:00:00 2020/03/13 14:55:21\n",
              "1625 NA                        2020/04/05 00:00:00 2020/05/21 11:36:04\n",
              "1626 NA                        2020/04/05 00:00:00 2020/03/19 14:50:28\n",
              "1627 NA                        2020/03/31 00:00:00 2020/03/12 14:42:21\n",
              "1628 NA                        2020/04/05 00:00:00 2020/05/04 09:13:50\n",
              "1629 NA                        2020/04/05 00:00:00 2021/10/04 16:53:25\n",
              "1630 NA                        2020/04/05 00:00:00 2020/05/06 15:59:37\n",
              "1631 NA                        2020/04/05 00:00:00 2021/10/04 08:47:51\n",
              "1632 NA                        2020/04/05 00:00:00 2020/03/09 10:15:17\n",
              "1633 NA                        2020/04/05 00:00:00 2020/06/16 08:23:30\n",
              "1634 NA                        2020/04/05 00:00:00 2020/03/04 10:53:54\n",
              "1635 NA                        2020/04/05 00:00:00 2020/02/07 11:05:20\n",
              "1636 NA                        2020/04/05 00:00:00 2019/12/03 08:42:09\n",
              "1637 NA                        2020/04/05 00:00:00 2021/07/12 14:20:03\n",
              "1638 NA                        2020/03/31 00:00:00 2020/03/30 11:20:38\n",
              "1639 NA                        2020/04/05 00:00:00 2020/03/31 12:21:53\n",
              "1640 NA                        2020/04/05 00:00:00 2019/12/19 06:06:39\n",
              "1641 NA                        2020/04/05 00:00:00 2020/04/02 08:00:46\n",
              "1642 NA                        2020/04/05 00:00:00 2020/03/20 16:08:39\n",
              "1643 NA                        2020/04/05 00:00:00 2020/03/19 11:25:18\n",
              "1644 NA                        2020/04/05 00:00:00 2020/07/01 11:23:55\n",
              "1645 NA                        2020/04/05 00:00:00 2020/04/28 15:59:05\n",
              "1646 NA                        2020/04/05 00:00:00 2020/03/30 10:19:10\n",
              "1647 NA                        2020/04/05 00:00:00 2020/07/10 08:26:03\n",
              "1648 NA                        2020/04/05 00:00:00 2020/04/09 12:19:18\n",
              "1649 NA                        2020/04/05 00:00:00 2020/04/09 12:24:11\n",
              "     DiffMeanHourlyPercentTimes2\n",
              "1    23.0                       \n",
              "2    50.0                       \n",
              "3     0.4                       \n",
              "4     7.4                       \n",
              "5     2.8                       \n",
              "6    20.0                       \n",
              "7    29.6                       \n",
              "8    36.4                       \n",
              "9    50.0                       \n",
              "10   43.4                       \n",
              "11   21.4                       \n",
              "12   18.8                       \n",
              "13   47.0                       \n",
              "14   50.0                       \n",
              "15   45.8                       \n",
              "16   46.0                       \n",
              "17   38.2                       \n",
              "18   28.0                       \n",
              "19   17.2                       \n",
              "20   50.2                       \n",
              "21   -7.6                       \n",
              "22   69.4                       \n",
              "23   36.0                       \n",
              "24   42.6                       \n",
              "25   69.4                       \n",
              "26   40.0                       \n",
              "27   38.0                       \n",
              "28   14.6                       \n",
              "29   35.8                       \n",
              "30   60.2                       \n",
              "⋮    ⋮                          \n",
              "1620  13.8                      \n",
              "1621   3.2                      \n",
              "1622  30.4                      \n",
              "1623  10.0                      \n",
              "1624   9.0                      \n",
              "1625  47.4                      \n",
              "1626  53.2                      \n",
              "1627  30.4                      \n",
              "1628   7.0                      \n",
              "1629  59.6                      \n",
              "1630  43.4                      \n",
              "1631   7.4                      \n",
              "1632   5.6                      \n",
              "1633  81.0                      \n",
              "1634  61.2                      \n",
              "1635  65.8                      \n",
              "1636  11.6                      \n",
              "1637 -11.8                      \n",
              "1638  18.6                      \n",
              "1639   8.2                      \n",
              "1640  61.0                      \n",
              "1641   3.0                      \n",
              "1642  19.2                      \n",
              "1643  38.0                      \n",
              "1644  37.0                      \n",
              "1645 118.0                      \n",
              "1646   9.4                      \n",
              "1647  37.6                      \n",
              "1648  46.8                      \n",
              "1649  43.0                      "
            ]
          },
          "metadata": {}
        }
      ]
    },
    {
      "cell_type": "markdown",
      "source": [
        "Piping\n",
        "\n",
        "x %>% f() %>% g() %>% h()"
      ],
      "metadata": {
        "id": "EeSEdTWTg2SD"
      }
    },
    {
      "cell_type": "code",
      "source": [
        "paygap <- paygap %>%\n",
        "filter(EmployerSize == '1000 to 4999') %>%\n",
        "select(EmployerName)"
      ],
      "metadata": {
        "id": "TgCmxQZfg-c1"
      },
      "execution_count": 55,
      "outputs": []
    },
    {
      "cell_type": "markdown",
      "source": [
        "Dealing with missing data"
      ],
      "metadata": {
        "id": "pTcOK6ekkPOP"
      }
    },
    {
      "cell_type": "code",
      "source": [
        "some_numbers <- c(4,5,6,7,NA,8)\n",
        "mean(some_numbers)"
      ],
      "metadata": {
        "colab": {
          "base_uri": "https://localhost:8080/",
          "height": 34
        },
        "id": "D4bc7eT8kRDX",
        "outputId": "4030ea70-0722-4384-92fe-9492c25daa8e"
      },
      "execution_count": 69,
      "outputs": [
        {
          "output_type": "display_data",
          "data": {
            "text/html": [
              "&lt;NA&gt;"
            ],
            "text/markdown": "&lt;NA&gt;",
            "text/latex": "<NA>",
            "text/plain": [
              "[1] NA"
            ]
          },
          "metadata": {}
        }
      ]
    },
    {
      "cell_type": "code",
      "source": [
        "mean(some_numbers, na.rm = TRUE)"
      ],
      "metadata": {
        "colab": {
          "base_uri": "https://localhost:8080/",
          "height": 34
        },
        "id": "YebUBJs5khWq",
        "outputId": "43d3eb3f-2bb5-467e-a66e-3abf1d782f88"
      },
      "execution_count": 70,
      "outputs": [
        {
          "output_type": "display_data",
          "data": {
            "text/html": [
              "6"
            ],
            "text/markdown": "6",
            "text/latex": "6",
            "text/plain": [
              "[1] 6"
            ]
          },
          "metadata": {}
        }
      ]
    },
    {
      "cell_type": "markdown",
      "source": [
        "#Visualizing Data\n",
        "\n",
        "Histogram:\n",
        "\n",
        "ggplot(data = cardiacdata, mapping = aes(x = bodytemp_degC)) + \n",
        "  geom_histogram(bins = 20, aes(y = ..density..), fill = 'lightblue') +\n",
        "  xlab('body temperature (celsius)') +\n",
        "  ggtitle('distribution of body temperatures') +\n",
        "  theme_light()\n",
        "\n",
        "\n",
        "Scatterplots:\n",
        "\n",
        "ggplot(data = cardiacdata, mapping = aes(x = heartrate_bpm, y = bodytemp_degC)) + \n",
        "  geom_point() +\n",
        "  theme_light()\n",
        "\n",
        "\n",
        "\n",
        "Box and Whisker Plots:\n",
        "\n",
        "ggplot(data = cardiacdata, mapping = aes(x = gender, y = bodytemp_degC)) +\n",
        "  geom_boxplot() +\n",
        "  xlab('gender') +\n",
        "  ylab('body temperature (celsius)') +\n",
        "  theme_light()\n",
        "\n"
      ],
      "metadata": {
        "id": "rGsf99-skmYQ"
      }
    },
    {
      "cell_type": "code",
      "source": [],
      "metadata": {
        "id": "CEE2z4JZnKUw"
      },
      "execution_count": null,
      "outputs": []
    }
  ]
}